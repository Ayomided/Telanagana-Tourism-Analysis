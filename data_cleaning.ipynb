{
 "cells": [
  {
   "cell_type": "code",
   "execution_count": 1,
   "metadata": {
    "collapsed": true,
    "pycharm": {
     "is_executing": true
    }
   },
   "outputs": [],
   "source": [
    "import pandas as pd\n",
    "import numpy as np\n",
    "import plotly\n",
    "import plotly.express as px"
   ]
  },
  {
   "cell_type": "code",
   "execution_count": 2,
   "metadata": {
    "collapsed": false
   },
   "outputs": [],
   "source": [
    "df1 = pd.read_csv('domestic_visitors/domestic_visitors_2016.csv')\n",
    "df2 = pd.read_csv('domestic_visitors/domestic_visitors_2017.csv')\n",
    "df3 = pd.read_csv('domestic_visitors/domestic_visitors_2018.csv')\n",
    "df4 = pd.read_csv('domestic_visitors/domestic_visitors_2019.csv')"
   ]
  },
  {
   "cell_type": "code",
   "execution_count": 3,
   "metadata": {},
   "outputs": [],
   "source": [
    "merged_df = pd.concat([df1, df2, df3, df4], ignore_index=True, axis=0, sort=True)"
   ]
  },
  {
   "cell_type": "code",
   "execution_count": 4,
   "metadata": {},
   "outputs": [],
   "source": [
    "merged_df.to_csv('domestic_visitors.csv', index=False)"
   ]
  },
  {
   "cell_type": "code",
   "execution_count": 5,
   "metadata": {
    "collapsed": false
   },
   "outputs": [],
   "source": [
    "dff1 = pd.read_csv('foreign_visitors/foreign_visitors_2016.csv')\n",
    "dff2 = pd.read_csv('foreign_visitors/foreign_visitors_2017.csv')\n",
    "dff3 = pd.read_csv('foreign_visitors/foreign_visitors_2018.csv')\n",
    "dff4 = pd.read_csv('foreign_visitors/foreign_visitors_2019.csv')"
   ]
  },
  {
   "cell_type": "code",
   "execution_count": 6,
   "metadata": {
    "collapsed": false
   },
   "outputs": [],
   "source": [
    "merged_df2 = pd.concat([dff1,dff2, dff3, dff4], ignore_index=True, axis=0, sort=True)"
   ]
  },
  {
   "cell_type": "code",
   "execution_count": 7,
   "metadata": {
    "collapsed": false
   },
   "outputs": [],
   "source": [
    "merged_df2.to_csv('foreign_visitors.csv', index=False)"
   ]
  },
  {
   "cell_type": "code",
   "execution_count": 8,
   "metadata": {
    "collapsed": false
   },
   "outputs": [
    {
     "data": {
      "text/plain": [
       "array(['Adilabad', 'Bhadradri Kothagudem ', 'Hyderabad', 'Jagtial ',\n",
       "       'Jangaon ', 'Jayashankar Bhoopalpally', 'Jogulamba Gadwal ',\n",
       "       'Kamareddy ', 'Karimnagar ', 'Khammam', 'Komaram Bheem Asifabad',\n",
       "       'Mahabubabad ', 'Mahbubnagar', 'Mancherial', 'Medak ', 'Medchal ',\n",
       "       'Nagarkurnool ', 'Nalgonda', 'Nirmal', 'Nizamabad', 'Peddapalli',\n",
       "       'Rajanna Sircilla ', 'Ranga Reddy', 'Sangareddy ', 'Siddipet',\n",
       "       'Suryapet', 'Vikarabad', 'Wanaparthy ', 'Warangal (Rural)',\n",
       "       'Warangal (Urban)', 'Yadadri Bhongir', 'Mulugu', 'Narayanapet'],\n",
       "      dtype=object)"
      ]
     },
     "execution_count": 8,
     "metadata": {},
     "output_type": "execute_result"
    }
   ],
   "source": [
    "merged_df['district'].unique()"
   ]
  },
  {
   "cell_type": "code",
   "execution_count": 9,
   "metadata": {},
   "outputs": [
    {
     "data": {
      "text/plain": [
       "numpy.int64"
      ]
     },
     "execution_count": 9,
     "metadata": {},
     "output_type": "execute_result"
    }
   ],
   "source": [
    "type(merged_df['year'][0])"
   ]
  },
  {
   "cell_type": "code",
   "execution_count": 10,
   "metadata": {},
   "outputs": [
    {
     "name": "stdout",
     "output_type": "stream",
     "text": [
      "yes\n"
     ]
    }
   ],
   "source": [
    "print('yes')\n"
   ]
  },
  {
   "cell_type": "code",
   "execution_count": 11,
   "metadata": {},
   "outputs": [
    {
     "data": {
      "text/html": [
       "<div>\n",
       "<style scoped>\n",
       "    .dataframe tbody tr th:only-of-type {\n",
       "        vertical-align: middle;\n",
       "    }\n",
       "\n",
       "    .dataframe tbody tr th {\n",
       "        vertical-align: top;\n",
       "    }\n",
       "\n",
       "    .dataframe thead th {\n",
       "        text-align: right;\n",
       "    }\n",
       "</style>\n",
       "<table border=\"1\" class=\"dataframe\">\n",
       "  <thead>\n",
       "    <tr style=\"text-align: right;\">\n",
       "      <th></th>\n",
       "      <th>year</th>\n",
       "    </tr>\n",
       "  </thead>\n",
       "  <tbody>\n",
       "    <tr>\n",
       "      <th>count</th>\n",
       "      <td>1512.00000</td>\n",
       "    </tr>\n",
       "    <tr>\n",
       "      <th>mean</th>\n",
       "      <td>2017.52381</td>\n",
       "    </tr>\n",
       "    <tr>\n",
       "      <th>std</th>\n",
       "      <td>1.12523</td>\n",
       "    </tr>\n",
       "    <tr>\n",
       "      <th>min</th>\n",
       "      <td>2016.00000</td>\n",
       "    </tr>\n",
       "    <tr>\n",
       "      <th>25%</th>\n",
       "      <td>2017.00000</td>\n",
       "    </tr>\n",
       "    <tr>\n",
       "      <th>50%</th>\n",
       "      <td>2018.00000</td>\n",
       "    </tr>\n",
       "    <tr>\n",
       "      <th>75%</th>\n",
       "      <td>2019.00000</td>\n",
       "    </tr>\n",
       "    <tr>\n",
       "      <th>max</th>\n",
       "      <td>2019.00000</td>\n",
       "    </tr>\n",
       "  </tbody>\n",
       "</table>\n",
       "</div>"
      ],
      "text/plain": [
       "             year\n",
       "count  1512.00000\n",
       "mean   2017.52381\n",
       "std       1.12523\n",
       "min    2016.00000\n",
       "25%    2017.00000\n",
       "50%    2018.00000\n",
       "75%    2019.00000\n",
       "max    2019.00000"
      ]
     },
     "execution_count": 11,
     "metadata": {},
     "output_type": "execute_result"
    }
   ],
   "source": [
    "# if merged_df['visitors']\n",
    "merged_df.describe()"
   ]
  },
  {
   "cell_type": "code",
   "execution_count": 12,
   "metadata": {},
   "outputs": [],
   "source": [
    "merged_df.fillna(0, inplace=True)\n"
   ]
  },
  {
   "cell_type": "code",
   "execution_count": 13,
   "metadata": {},
   "outputs": [
    {
     "data": {
      "text/plain": [
       "date        object\n",
       "district    object\n",
       "month       object\n",
       "visitors    object\n",
       "year         int64\n",
       "dtype: object"
      ]
     },
     "execution_count": 13,
     "metadata": {},
     "output_type": "execute_result"
    }
   ],
   "source": [
    "merged_df.dtypes"
   ]
  },
  {
   "cell_type": "code",
   "execution_count": 14,
   "metadata": {},
   "outputs": [
    {
     "data": {
      "text/html": [
       "<div>\n",
       "<style scoped>\n",
       "    .dataframe tbody tr th:only-of-type {\n",
       "        vertical-align: middle;\n",
       "    }\n",
       "\n",
       "    .dataframe tbody tr th {\n",
       "        vertical-align: top;\n",
       "    }\n",
       "\n",
       "    .dataframe thead th {\n",
       "        text-align: right;\n",
       "    }\n",
       "</style>\n",
       "<table border=\"1\" class=\"dataframe\">\n",
       "  <thead>\n",
       "    <tr style=\"text-align: right;\">\n",
       "      <th></th>\n",
       "      <th>date</th>\n",
       "      <th>district</th>\n",
       "      <th>month</th>\n",
       "      <th>visitors</th>\n",
       "      <th>year</th>\n",
       "    </tr>\n",
       "  </thead>\n",
       "  <tbody>\n",
       "    <tr>\n",
       "      <th>0</th>\n",
       "      <td>01-01-2016</td>\n",
       "      <td>Adilabad</td>\n",
       "      <td>January</td>\n",
       "      <td>792136</td>\n",
       "      <td>2016</td>\n",
       "    </tr>\n",
       "    <tr>\n",
       "      <th>1</th>\n",
       "      <td>01-02-2016</td>\n",
       "      <td>Adilabad</td>\n",
       "      <td>February</td>\n",
       "      <td>937820</td>\n",
       "      <td>2016</td>\n",
       "    </tr>\n",
       "    <tr>\n",
       "      <th>2</th>\n",
       "      <td>01-03-2016</td>\n",
       "      <td>Adilabad</td>\n",
       "      <td>March</td>\n",
       "      <td>582946</td>\n",
       "      <td>2016</td>\n",
       "    </tr>\n",
       "    <tr>\n",
       "      <th>3</th>\n",
       "      <td>01-04-2016</td>\n",
       "      <td>Adilabad</td>\n",
       "      <td>April</td>\n",
       "      <td>341948</td>\n",
       "      <td>2016</td>\n",
       "    </tr>\n",
       "    <tr>\n",
       "      <th>4</th>\n",
       "      <td>01-05-2016</td>\n",
       "      <td>Adilabad</td>\n",
       "      <td>May</td>\n",
       "      <td>252887</td>\n",
       "      <td>2016</td>\n",
       "    </tr>\n",
       "    <tr>\n",
       "      <th>...</th>\n",
       "      <td>...</td>\n",
       "      <td>...</td>\n",
       "      <td>...</td>\n",
       "      <td>...</td>\n",
       "      <td>...</td>\n",
       "    </tr>\n",
       "    <tr>\n",
       "      <th>1507</th>\n",
       "      <td>01-08-2019</td>\n",
       "      <td>Yadadri Bhongir</td>\n",
       "      <td>August</td>\n",
       "      <td>389010</td>\n",
       "      <td>2019</td>\n",
       "    </tr>\n",
       "    <tr>\n",
       "      <th>1508</th>\n",
       "      <td>01-09-2019</td>\n",
       "      <td>Yadadri Bhongir</td>\n",
       "      <td>September</td>\n",
       "      <td>366862</td>\n",
       "      <td>2019</td>\n",
       "    </tr>\n",
       "    <tr>\n",
       "      <th>1509</th>\n",
       "      <td>01-10-2019</td>\n",
       "      <td>Yadadri Bhongir</td>\n",
       "      <td>October</td>\n",
       "      <td>381860</td>\n",
       "      <td>2019</td>\n",
       "    </tr>\n",
       "    <tr>\n",
       "      <th>1510</th>\n",
       "      <td>01-11-2019</td>\n",
       "      <td>Yadadri Bhongir</td>\n",
       "      <td>November</td>\n",
       "      <td>365990</td>\n",
       "      <td>2019</td>\n",
       "    </tr>\n",
       "    <tr>\n",
       "      <th>1511</th>\n",
       "      <td>01-12-2019</td>\n",
       "      <td>Yadadri Bhongir</td>\n",
       "      <td>December</td>\n",
       "      <td>477635</td>\n",
       "      <td>2019</td>\n",
       "    </tr>\n",
       "  </tbody>\n",
       "</table>\n",
       "<p>1512 rows × 5 columns</p>\n",
       "</div>"
      ],
      "text/plain": [
       "            date         district      month visitors  year\n",
       "0     01-01-2016         Adilabad    January   792136  2016\n",
       "1     01-02-2016         Adilabad   February   937820  2016\n",
       "2     01-03-2016         Adilabad      March   582946  2016\n",
       "3     01-04-2016         Adilabad      April   341948  2016\n",
       "4     01-05-2016         Adilabad        May   252887  2016\n",
       "...          ...              ...        ...      ...   ...\n",
       "1507  01-08-2019  Yadadri Bhongir     August   389010  2019\n",
       "1508  01-09-2019  Yadadri Bhongir  September   366862  2019\n",
       "1509  01-10-2019  Yadadri Bhongir    October   381860  2019\n",
       "1510  01-11-2019  Yadadri Bhongir   November   365990  2019\n",
       "1511  01-12-2019  Yadadri Bhongir   December   477635  2019\n",
       "\n",
       "[1512 rows x 5 columns]"
      ]
     },
     "execution_count": 14,
     "metadata": {},
     "output_type": "execute_result"
    }
   ],
   "source": [
    "# merged_df = merged_df.astype({'visitors': 'int'})\n",
    "merged_df['visitors'] = merged_df.visitors.str.strip()\n",
    "merged_df"
   ]
  },
  {
   "attachments": {},
   "cell_type": "markdown",
   "metadata": {},
   "source": [
    "### Domestic Visitors to csv file"
   ]
  },
  {
   "cell_type": "code",
   "execution_count": 15,
   "metadata": {},
   "outputs": [],
   "source": [
    "merged_df.to_csv('domestic_visitors.csv', index=False)\n"
   ]
  },
  {
   "cell_type": "code",
   "execution_count": 16,
   "metadata": {},
   "outputs": [],
   "source": [
    "merged_df['visitors'] = merged_df['visitors'].apply(lambda x: 0 if x == '' else x)\n"
   ]
  },
  {
   "cell_type": "code",
   "execution_count": 17,
   "metadata": {},
   "outputs": [
    {
     "data": {
      "text/plain": [
       "0       792136\n",
       "1       937820\n",
       "2       582946\n",
       "3       341948\n",
       "4       252887\n",
       "         ...  \n",
       "1507    389010\n",
       "1508    366862\n",
       "1509    381860\n",
       "1510    365990\n",
       "1511    477635\n",
       "Name: visitors, Length: 1512, dtype: object"
      ]
     },
     "execution_count": 17,
     "metadata": {},
     "output_type": "execute_result"
    }
   ],
   "source": [
    "merged_df.visitors"
   ]
  },
  {
   "cell_type": "code",
   "execution_count": 18,
   "metadata": {},
   "outputs": [
    {
     "data": {
      "text/plain": [
       "0       792136\n",
       "1       937820\n",
       "2       582946\n",
       "3       341948\n",
       "4       252887\n",
       "         ...  \n",
       "1507    389010\n",
       "1508    366862\n",
       "1509    381860\n",
       "1510    365990\n",
       "1511    477635\n",
       "Name: visitors, Length: 1512, dtype: object"
      ]
     },
     "execution_count": 18,
     "metadata": {},
     "output_type": "execute_result"
    }
   ],
   "source": [
    "merged_df['visitors'].fillna(0)"
   ]
  },
  {
   "cell_type": "code",
   "execution_count": 19,
   "metadata": {},
   "outputs": [
    {
     "data": {
      "text/html": [
       "<div>\n",
       "<style scoped>\n",
       "    .dataframe tbody tr th:only-of-type {\n",
       "        vertical-align: middle;\n",
       "    }\n",
       "\n",
       "    .dataframe tbody tr th {\n",
       "        vertical-align: top;\n",
       "    }\n",
       "\n",
       "    .dataframe thead th {\n",
       "        text-align: right;\n",
       "    }\n",
       "</style>\n",
       "<table border=\"1\" class=\"dataframe\">\n",
       "  <thead>\n",
       "    <tr style=\"text-align: right;\">\n",
       "      <th></th>\n",
       "      <th>date</th>\n",
       "      <th>district</th>\n",
       "      <th>month</th>\n",
       "      <th>visitors</th>\n",
       "      <th>year</th>\n",
       "    </tr>\n",
       "  </thead>\n",
       "  <tbody>\n",
       "    <tr>\n",
       "      <th>1044</th>\n",
       "      <td>01-01-2018</td>\n",
       "      <td>Suryapet</td>\n",
       "      <td>January</td>\n",
       "      <td>NaN</td>\n",
       "      <td>2018</td>\n",
       "    </tr>\n",
       "    <tr>\n",
       "      <th>1045</th>\n",
       "      <td>01-02-2018</td>\n",
       "      <td>Suryapet</td>\n",
       "      <td>February</td>\n",
       "      <td>NaN</td>\n",
       "      <td>2018</td>\n",
       "    </tr>\n",
       "    <tr>\n",
       "      <th>1046</th>\n",
       "      <td>01-03-2018</td>\n",
       "      <td>Suryapet</td>\n",
       "      <td>March</td>\n",
       "      <td>NaN</td>\n",
       "      <td>2018</td>\n",
       "    </tr>\n",
       "    <tr>\n",
       "      <th>1047</th>\n",
       "      <td>01-04-2018</td>\n",
       "      <td>Suryapet</td>\n",
       "      <td>April</td>\n",
       "      <td>NaN</td>\n",
       "      <td>2018</td>\n",
       "    </tr>\n",
       "    <tr>\n",
       "      <th>1048</th>\n",
       "      <td>01-05-2018</td>\n",
       "      <td>Suryapet</td>\n",
       "      <td>May</td>\n",
       "      <td>NaN</td>\n",
       "      <td>2018</td>\n",
       "    </tr>\n",
       "    <tr>\n",
       "      <th>1049</th>\n",
       "      <td>01-06-2018</td>\n",
       "      <td>Suryapet</td>\n",
       "      <td>June</td>\n",
       "      <td>NaN</td>\n",
       "      <td>2018</td>\n",
       "    </tr>\n",
       "    <tr>\n",
       "      <th>1050</th>\n",
       "      <td>01-07-2018</td>\n",
       "      <td>Suryapet</td>\n",
       "      <td>July</td>\n",
       "      <td>NaN</td>\n",
       "      <td>2018</td>\n",
       "    </tr>\n",
       "    <tr>\n",
       "      <th>1051</th>\n",
       "      <td>01-08-2018</td>\n",
       "      <td>Suryapet</td>\n",
       "      <td>August</td>\n",
       "      <td>NaN</td>\n",
       "      <td>2018</td>\n",
       "    </tr>\n",
       "    <tr>\n",
       "      <th>1052</th>\n",
       "      <td>01-09-2018</td>\n",
       "      <td>Suryapet</td>\n",
       "      <td>September</td>\n",
       "      <td>NaN</td>\n",
       "      <td>2018</td>\n",
       "    </tr>\n",
       "    <tr>\n",
       "      <th>1053</th>\n",
       "      <td>01-10-2018</td>\n",
       "      <td>Suryapet</td>\n",
       "      <td>October</td>\n",
       "      <td>NaN</td>\n",
       "      <td>2018</td>\n",
       "    </tr>\n",
       "    <tr>\n",
       "      <th>1054</th>\n",
       "      <td>01-11-2018</td>\n",
       "      <td>Suryapet</td>\n",
       "      <td>November</td>\n",
       "      <td>NaN</td>\n",
       "      <td>2018</td>\n",
       "    </tr>\n",
       "    <tr>\n",
       "      <th>1055</th>\n",
       "      <td>01-12-2018</td>\n",
       "      <td>Suryapet</td>\n",
       "      <td>December</td>\n",
       "      <td>NaN</td>\n",
       "      <td>2018</td>\n",
       "    </tr>\n",
       "    <tr>\n",
       "      <th>1344</th>\n",
       "      <td>01-01-2019</td>\n",
       "      <td>Narayanapet</td>\n",
       "      <td>January</td>\n",
       "      <td>NaN</td>\n",
       "      <td>2019</td>\n",
       "    </tr>\n",
       "    <tr>\n",
       "      <th>1345</th>\n",
       "      <td>01-02-2019</td>\n",
       "      <td>Narayanapet</td>\n",
       "      <td>February</td>\n",
       "      <td>NaN</td>\n",
       "      <td>2019</td>\n",
       "    </tr>\n",
       "    <tr>\n",
       "      <th>1346</th>\n",
       "      <td>01-03-2019</td>\n",
       "      <td>Narayanapet</td>\n",
       "      <td>March</td>\n",
       "      <td>NaN</td>\n",
       "      <td>2019</td>\n",
       "    </tr>\n",
       "    <tr>\n",
       "      <th>1347</th>\n",
       "      <td>01-04-2019</td>\n",
       "      <td>Narayanapet</td>\n",
       "      <td>April</td>\n",
       "      <td>NaN</td>\n",
       "      <td>2019</td>\n",
       "    </tr>\n",
       "    <tr>\n",
       "      <th>1348</th>\n",
       "      <td>01-05-2019</td>\n",
       "      <td>Narayanapet</td>\n",
       "      <td>May</td>\n",
       "      <td>NaN</td>\n",
       "      <td>2019</td>\n",
       "    </tr>\n",
       "    <tr>\n",
       "      <th>1349</th>\n",
       "      <td>01-06-2019</td>\n",
       "      <td>Narayanapet</td>\n",
       "      <td>June</td>\n",
       "      <td>NaN</td>\n",
       "      <td>2019</td>\n",
       "    </tr>\n",
       "    <tr>\n",
       "      <th>1440</th>\n",
       "      <td>01-01-2019</td>\n",
       "      <td>Suryapet</td>\n",
       "      <td>January</td>\n",
       "      <td>NaN</td>\n",
       "      <td>2019</td>\n",
       "    </tr>\n",
       "    <tr>\n",
       "      <th>1441</th>\n",
       "      <td>01-02-2019</td>\n",
       "      <td>Suryapet</td>\n",
       "      <td>February</td>\n",
       "      <td>NaN</td>\n",
       "      <td>2019</td>\n",
       "    </tr>\n",
       "    <tr>\n",
       "      <th>1442</th>\n",
       "      <td>01-03-2019</td>\n",
       "      <td>Suryapet</td>\n",
       "      <td>March</td>\n",
       "      <td>NaN</td>\n",
       "      <td>2019</td>\n",
       "    </tr>\n",
       "    <tr>\n",
       "      <th>1443</th>\n",
       "      <td>01-04-2019</td>\n",
       "      <td>Suryapet</td>\n",
       "      <td>April</td>\n",
       "      <td>NaN</td>\n",
       "      <td>2019</td>\n",
       "    </tr>\n",
       "    <tr>\n",
       "      <th>1444</th>\n",
       "      <td>01-05-2019</td>\n",
       "      <td>Suryapet</td>\n",
       "      <td>May</td>\n",
       "      <td>NaN</td>\n",
       "      <td>2019</td>\n",
       "    </tr>\n",
       "    <tr>\n",
       "      <th>1445</th>\n",
       "      <td>01-06-2019</td>\n",
       "      <td>Suryapet</td>\n",
       "      <td>June</td>\n",
       "      <td>NaN</td>\n",
       "      <td>2019</td>\n",
       "    </tr>\n",
       "    <tr>\n",
       "      <th>1446</th>\n",
       "      <td>01-07-2019</td>\n",
       "      <td>Suryapet</td>\n",
       "      <td>July</td>\n",
       "      <td>NaN</td>\n",
       "      <td>2019</td>\n",
       "    </tr>\n",
       "    <tr>\n",
       "      <th>1447</th>\n",
       "      <td>01-08-2019</td>\n",
       "      <td>Suryapet</td>\n",
       "      <td>August</td>\n",
       "      <td>NaN</td>\n",
       "      <td>2019</td>\n",
       "    </tr>\n",
       "    <tr>\n",
       "      <th>1448</th>\n",
       "      <td>01-09-2019</td>\n",
       "      <td>Suryapet</td>\n",
       "      <td>September</td>\n",
       "      <td>NaN</td>\n",
       "      <td>2019</td>\n",
       "    </tr>\n",
       "    <tr>\n",
       "      <th>1449</th>\n",
       "      <td>01-10-2019</td>\n",
       "      <td>Suryapet</td>\n",
       "      <td>October</td>\n",
       "      <td>NaN</td>\n",
       "      <td>2019</td>\n",
       "    </tr>\n",
       "    <tr>\n",
       "      <th>1450</th>\n",
       "      <td>01-11-2019</td>\n",
       "      <td>Suryapet</td>\n",
       "      <td>November</td>\n",
       "      <td>NaN</td>\n",
       "      <td>2019</td>\n",
       "    </tr>\n",
       "    <tr>\n",
       "      <th>1451</th>\n",
       "      <td>01-12-2019</td>\n",
       "      <td>Suryapet</td>\n",
       "      <td>December</td>\n",
       "      <td>NaN</td>\n",
       "      <td>2019</td>\n",
       "    </tr>\n",
       "  </tbody>\n",
       "</table>\n",
       "</div>"
      ],
      "text/plain": [
       "            date     district      month visitors  year\n",
       "1044  01-01-2018     Suryapet    January      NaN  2018\n",
       "1045  01-02-2018     Suryapet   February      NaN  2018\n",
       "1046  01-03-2018     Suryapet      March      NaN  2018\n",
       "1047  01-04-2018     Suryapet      April      NaN  2018\n",
       "1048  01-05-2018     Suryapet        May      NaN  2018\n",
       "1049  01-06-2018     Suryapet       June      NaN  2018\n",
       "1050  01-07-2018     Suryapet       July      NaN  2018\n",
       "1051  01-08-2018     Suryapet     August      NaN  2018\n",
       "1052  01-09-2018     Suryapet  September      NaN  2018\n",
       "1053  01-10-2018     Suryapet    October      NaN  2018\n",
       "1054  01-11-2018     Suryapet   November      NaN  2018\n",
       "1055  01-12-2018     Suryapet   December      NaN  2018\n",
       "1344  01-01-2019  Narayanapet    January      NaN  2019\n",
       "1345  01-02-2019  Narayanapet   February      NaN  2019\n",
       "1346  01-03-2019  Narayanapet      March      NaN  2019\n",
       "1347  01-04-2019  Narayanapet      April      NaN  2019\n",
       "1348  01-05-2019  Narayanapet        May      NaN  2019\n",
       "1349  01-06-2019  Narayanapet       June      NaN  2019\n",
       "1440  01-01-2019     Suryapet    January      NaN  2019\n",
       "1441  01-02-2019     Suryapet   February      NaN  2019\n",
       "1442  01-03-2019     Suryapet      March      NaN  2019\n",
       "1443  01-04-2019     Suryapet      April      NaN  2019\n",
       "1444  01-05-2019     Suryapet        May      NaN  2019\n",
       "1445  01-06-2019     Suryapet       June      NaN  2019\n",
       "1446  01-07-2019     Suryapet       July      NaN  2019\n",
       "1447  01-08-2019     Suryapet     August      NaN  2019\n",
       "1448  01-09-2019     Suryapet  September      NaN  2019\n",
       "1449  01-10-2019     Suryapet    October      NaN  2019\n",
       "1450  01-11-2019     Suryapet   November      NaN  2019\n",
       "1451  01-12-2019     Suryapet   December      NaN  2019"
      ]
     },
     "execution_count": 19,
     "metadata": {},
     "output_type": "execute_result"
    }
   ],
   "source": [
    "merged_df[merged_df['visitors'].isnull()]\n"
   ]
  },
  {
   "cell_type": "code",
   "execution_count": 20,
   "metadata": {},
   "outputs": [],
   "source": [
    "merged_df['visitors'] = merged_df['visitors'].fillna(0)\n"
   ]
  },
  {
   "cell_type": "code",
   "execution_count": 21,
   "metadata": {},
   "outputs": [],
   "source": [
    "merged_df.visitors = merged_df.visitors.astype('int')\n"
   ]
  },
  {
   "cell_type": "code",
   "execution_count": 22,
   "metadata": {},
   "outputs": [
    {
     "data": {
      "text/plain": [
       "date        object\n",
       "district    object\n",
       "month       object\n",
       "visitors     int64\n",
       "year         int64\n",
       "dtype: object"
      ]
     },
     "execution_count": 22,
     "metadata": {},
     "output_type": "execute_result"
    }
   ],
   "source": [
    "merged_df.dtypes"
   ]
  },
  {
   "cell_type": "code",
   "execution_count": 23,
   "metadata": {},
   "outputs": [],
   "source": [
    "merged_df.sort_values('district', inplace=True)"
   ]
  },
  {
   "cell_type": "code",
   "execution_count": 24,
   "metadata": {},
   "outputs": [
    {
     "data": {
      "text/html": [
       "<div>\n",
       "<style scoped>\n",
       "    .dataframe tbody tr th:only-of-type {\n",
       "        vertical-align: middle;\n",
       "    }\n",
       "\n",
       "    .dataframe tbody tr th {\n",
       "        vertical-align: top;\n",
       "    }\n",
       "\n",
       "    .dataframe thead th {\n",
       "        text-align: right;\n",
       "    }\n",
       "</style>\n",
       "<table border=\"1\" class=\"dataframe\">\n",
       "  <thead>\n",
       "    <tr style=\"text-align: right;\">\n",
       "      <th></th>\n",
       "      <th>date</th>\n",
       "      <th>district</th>\n",
       "      <th>month</th>\n",
       "      <th>visitors</th>\n",
       "      <th>year</th>\n",
       "    </tr>\n",
       "  </thead>\n",
       "  <tbody>\n",
       "    <tr>\n",
       "      <th>0</th>\n",
       "      <td>01-01-2016</td>\n",
       "      <td>Adilabad</td>\n",
       "      <td>January</td>\n",
       "      <td>792136</td>\n",
       "      <td>2016</td>\n",
       "    </tr>\n",
       "    <tr>\n",
       "      <th>1</th>\n",
       "      <td>01-04-2018</td>\n",
       "      <td>Adilabad</td>\n",
       "      <td>April</td>\n",
       "      <td>14183</td>\n",
       "      <td>2018</td>\n",
       "    </tr>\n",
       "    <tr>\n",
       "      <th>2</th>\n",
       "      <td>01-03-2018</td>\n",
       "      <td>Adilabad</td>\n",
       "      <td>March</td>\n",
       "      <td>23011</td>\n",
       "      <td>2018</td>\n",
       "    </tr>\n",
       "    <tr>\n",
       "      <th>3</th>\n",
       "      <td>01-02-2018</td>\n",
       "      <td>Adilabad</td>\n",
       "      <td>February</td>\n",
       "      <td>36550</td>\n",
       "      <td>2018</td>\n",
       "    </tr>\n",
       "    <tr>\n",
       "      <th>4</th>\n",
       "      <td>01-01-2018</td>\n",
       "      <td>Adilabad</td>\n",
       "      <td>January</td>\n",
       "      <td>320356</td>\n",
       "      <td>2018</td>\n",
       "    </tr>\n",
       "    <tr>\n",
       "      <th>...</th>\n",
       "      <td>...</td>\n",
       "      <td>...</td>\n",
       "      <td>...</td>\n",
       "      <td>...</td>\n",
       "      <td>...</td>\n",
       "    </tr>\n",
       "    <tr>\n",
       "      <th>1507</th>\n",
       "      <td>01-10-2018</td>\n",
       "      <td>Yadadri Bhongir</td>\n",
       "      <td>October</td>\n",
       "      <td>586475</td>\n",
       "      <td>2018</td>\n",
       "    </tr>\n",
       "    <tr>\n",
       "      <th>1508</th>\n",
       "      <td>01-09-2018</td>\n",
       "      <td>Yadadri Bhongir</td>\n",
       "      <td>September</td>\n",
       "      <td>819350</td>\n",
       "      <td>2018</td>\n",
       "    </tr>\n",
       "    <tr>\n",
       "      <th>1509</th>\n",
       "      <td>01-08-2018</td>\n",
       "      <td>Yadadri Bhongir</td>\n",
       "      <td>August</td>\n",
       "      <td>526445</td>\n",
       "      <td>2018</td>\n",
       "    </tr>\n",
       "    <tr>\n",
       "      <th>1510</th>\n",
       "      <td>01-01-2016</td>\n",
       "      <td>Yadadri Bhongir</td>\n",
       "      <td>January</td>\n",
       "      <td>0</td>\n",
       "      <td>2016</td>\n",
       "    </tr>\n",
       "    <tr>\n",
       "      <th>1511</th>\n",
       "      <td>01-12-2019</td>\n",
       "      <td>Yadadri Bhongir</td>\n",
       "      <td>December</td>\n",
       "      <td>477635</td>\n",
       "      <td>2019</td>\n",
       "    </tr>\n",
       "  </tbody>\n",
       "</table>\n",
       "<p>1512 rows × 5 columns</p>\n",
       "</div>"
      ],
      "text/plain": [
       "            date         district      month  visitors  year\n",
       "0     01-01-2016         Adilabad    January    792136  2016\n",
       "1     01-04-2018         Adilabad      April     14183  2018\n",
       "2     01-03-2018         Adilabad      March     23011  2018\n",
       "3     01-02-2018         Adilabad   February     36550  2018\n",
       "4     01-01-2018         Adilabad    January    320356  2018\n",
       "...          ...              ...        ...       ...   ...\n",
       "1507  01-10-2018  Yadadri Bhongir    October    586475  2018\n",
       "1508  01-09-2018  Yadadri Bhongir  September    819350  2018\n",
       "1509  01-08-2018  Yadadri Bhongir     August    526445  2018\n",
       "1510  01-01-2016  Yadadri Bhongir    January         0  2016\n",
       "1511  01-12-2019  Yadadri Bhongir   December    477635  2019\n",
       "\n",
       "[1512 rows x 5 columns]"
      ]
     },
     "execution_count": 24,
     "metadata": {},
     "output_type": "execute_result"
    }
   ],
   "source": [
    "merged_df.reset_index(drop=True)"
   ]
  },
  {
   "attachments": {},
   "cell_type": "markdown",
   "metadata": {},
   "source": [
    "### Top 10 districts that have the highest number of Domestic visitors overall (2016 - 2019)"
   ]
  },
  {
   "cell_type": "code",
   "execution_count": 25,
   "metadata": {},
   "outputs": [
    {
     "data": {
      "text/plain": [
       "district\n",
       "Hyderabad                   83900960\n",
       "Rajanna Sircilla            41763276\n",
       "Warangal (Urban)            30726603\n",
       "Yadadri Bhongir             26893080\n",
       "Bhadradri Kothagudem        21600962\n",
       "Medak                       20542639\n",
       "Jayashankar Bhoopalpally    19632865\n",
       "Mahbubnagar                 17180118\n",
       "Nirmal                      13315796\n",
       "Jagtial                     11303514\n",
       "Name: visitors, dtype: int64"
      ]
     },
     "execution_count": 25,
     "metadata": {},
     "output_type": "execute_result"
    }
   ],
   "source": [
    "district_visitors_sum = []\n",
    "district_visitors_sum = merged_df.groupby('district')['visitors'].sum()\n",
    "district_visitors_sum = district_visitors_sum.sort_values(ascending=False)\n",
    "district_visitors_top = district_visitors_sum[: 10]\n",
    "district_visitors_top\n"
   ]
  },
  {
   "cell_type": "code",
   "execution_count": 26,
   "metadata": {},
   "outputs": [
    {
     "data": {
      "application/vnd.plotly.v1+json": {
       "config": {
        "plotlyServerURL": "https://plot.ly"
       },
       "data": [
        {
         "alignmentgroup": "True",
         "hovertemplate": "visitors=%{x}<br>district=%{y}<extra></extra>",
         "legendgroup": "",
         "marker": {
          "color": "#636efa",
          "pattern": {
           "shape": ""
          }
         },
         "name": "",
         "offsetgroup": "",
         "orientation": "h",
         "showlegend": false,
         "textposition": "auto",
         "type": "bar",
         "x": [
          83900960,
          41763276,
          30726603,
          26893080,
          21600962,
          20542639,
          19632865,
          17180118,
          13315796,
          11303514
         ],
         "xaxis": "x",
         "y": [
          "Hyderabad",
          "Rajanna Sircilla ",
          "Warangal (Urban)",
          "Yadadri Bhongir",
          "Bhadradri Kothagudem ",
          "Medak ",
          "Jayashankar Bhoopalpally",
          "Mahbubnagar",
          "Nirmal",
          "Jagtial "
         ],
         "yaxis": "y"
        }
       ],
       "layout": {
        "barmode": "relative",
        "legend": {
         "tracegroupgap": 0
        },
        "template": {
         "data": {
          "bar": [
           {
            "error_x": {
             "color": "#2a3f5f"
            },
            "error_y": {
             "color": "#2a3f5f"
            },
            "marker": {
             "line": {
              "color": "#E5ECF6",
              "width": 0.5
             },
             "pattern": {
              "fillmode": "overlay",
              "size": 10,
              "solidity": 0.2
             }
            },
            "type": "bar"
           }
          ],
          "barpolar": [
           {
            "marker": {
             "line": {
              "color": "#E5ECF6",
              "width": 0.5
             },
             "pattern": {
              "fillmode": "overlay",
              "size": 10,
              "solidity": 0.2
             }
            },
            "type": "barpolar"
           }
          ],
          "carpet": [
           {
            "aaxis": {
             "endlinecolor": "#2a3f5f",
             "gridcolor": "white",
             "linecolor": "white",
             "minorgridcolor": "white",
             "startlinecolor": "#2a3f5f"
            },
            "baxis": {
             "endlinecolor": "#2a3f5f",
             "gridcolor": "white",
             "linecolor": "white",
             "minorgridcolor": "white",
             "startlinecolor": "#2a3f5f"
            },
            "type": "carpet"
           }
          ],
          "choropleth": [
           {
            "colorbar": {
             "outlinewidth": 0,
             "ticks": ""
            },
            "type": "choropleth"
           }
          ],
          "contour": [
           {
            "colorbar": {
             "outlinewidth": 0,
             "ticks": ""
            },
            "colorscale": [
             [
              0,
              "#0d0887"
             ],
             [
              0.1111111111111111,
              "#46039f"
             ],
             [
              0.2222222222222222,
              "#7201a8"
             ],
             [
              0.3333333333333333,
              "#9c179e"
             ],
             [
              0.4444444444444444,
              "#bd3786"
             ],
             [
              0.5555555555555556,
              "#d8576b"
             ],
             [
              0.6666666666666666,
              "#ed7953"
             ],
             [
              0.7777777777777778,
              "#fb9f3a"
             ],
             [
              0.8888888888888888,
              "#fdca26"
             ],
             [
              1,
              "#f0f921"
             ]
            ],
            "type": "contour"
           }
          ],
          "contourcarpet": [
           {
            "colorbar": {
             "outlinewidth": 0,
             "ticks": ""
            },
            "type": "contourcarpet"
           }
          ],
          "heatmap": [
           {
            "colorbar": {
             "outlinewidth": 0,
             "ticks": ""
            },
            "colorscale": [
             [
              0,
              "#0d0887"
             ],
             [
              0.1111111111111111,
              "#46039f"
             ],
             [
              0.2222222222222222,
              "#7201a8"
             ],
             [
              0.3333333333333333,
              "#9c179e"
             ],
             [
              0.4444444444444444,
              "#bd3786"
             ],
             [
              0.5555555555555556,
              "#d8576b"
             ],
             [
              0.6666666666666666,
              "#ed7953"
             ],
             [
              0.7777777777777778,
              "#fb9f3a"
             ],
             [
              0.8888888888888888,
              "#fdca26"
             ],
             [
              1,
              "#f0f921"
             ]
            ],
            "type": "heatmap"
           }
          ],
          "heatmapgl": [
           {
            "colorbar": {
             "outlinewidth": 0,
             "ticks": ""
            },
            "colorscale": [
             [
              0,
              "#0d0887"
             ],
             [
              0.1111111111111111,
              "#46039f"
             ],
             [
              0.2222222222222222,
              "#7201a8"
             ],
             [
              0.3333333333333333,
              "#9c179e"
             ],
             [
              0.4444444444444444,
              "#bd3786"
             ],
             [
              0.5555555555555556,
              "#d8576b"
             ],
             [
              0.6666666666666666,
              "#ed7953"
             ],
             [
              0.7777777777777778,
              "#fb9f3a"
             ],
             [
              0.8888888888888888,
              "#fdca26"
             ],
             [
              1,
              "#f0f921"
             ]
            ],
            "type": "heatmapgl"
           }
          ],
          "histogram": [
           {
            "marker": {
             "pattern": {
              "fillmode": "overlay",
              "size": 10,
              "solidity": 0.2
             }
            },
            "type": "histogram"
           }
          ],
          "histogram2d": [
           {
            "colorbar": {
             "outlinewidth": 0,
             "ticks": ""
            },
            "colorscale": [
             [
              0,
              "#0d0887"
             ],
             [
              0.1111111111111111,
              "#46039f"
             ],
             [
              0.2222222222222222,
              "#7201a8"
             ],
             [
              0.3333333333333333,
              "#9c179e"
             ],
             [
              0.4444444444444444,
              "#bd3786"
             ],
             [
              0.5555555555555556,
              "#d8576b"
             ],
             [
              0.6666666666666666,
              "#ed7953"
             ],
             [
              0.7777777777777778,
              "#fb9f3a"
             ],
             [
              0.8888888888888888,
              "#fdca26"
             ],
             [
              1,
              "#f0f921"
             ]
            ],
            "type": "histogram2d"
           }
          ],
          "histogram2dcontour": [
           {
            "colorbar": {
             "outlinewidth": 0,
             "ticks": ""
            },
            "colorscale": [
             [
              0,
              "#0d0887"
             ],
             [
              0.1111111111111111,
              "#46039f"
             ],
             [
              0.2222222222222222,
              "#7201a8"
             ],
             [
              0.3333333333333333,
              "#9c179e"
             ],
             [
              0.4444444444444444,
              "#bd3786"
             ],
             [
              0.5555555555555556,
              "#d8576b"
             ],
             [
              0.6666666666666666,
              "#ed7953"
             ],
             [
              0.7777777777777778,
              "#fb9f3a"
             ],
             [
              0.8888888888888888,
              "#fdca26"
             ],
             [
              1,
              "#f0f921"
             ]
            ],
            "type": "histogram2dcontour"
           }
          ],
          "mesh3d": [
           {
            "colorbar": {
             "outlinewidth": 0,
             "ticks": ""
            },
            "type": "mesh3d"
           }
          ],
          "parcoords": [
           {
            "line": {
             "colorbar": {
              "outlinewidth": 0,
              "ticks": ""
             }
            },
            "type": "parcoords"
           }
          ],
          "pie": [
           {
            "automargin": true,
            "type": "pie"
           }
          ],
          "scatter": [
           {
            "fillpattern": {
             "fillmode": "overlay",
             "size": 10,
             "solidity": 0.2
            },
            "type": "scatter"
           }
          ],
          "scatter3d": [
           {
            "line": {
             "colorbar": {
              "outlinewidth": 0,
              "ticks": ""
             }
            },
            "marker": {
             "colorbar": {
              "outlinewidth": 0,
              "ticks": ""
             }
            },
            "type": "scatter3d"
           }
          ],
          "scattercarpet": [
           {
            "marker": {
             "colorbar": {
              "outlinewidth": 0,
              "ticks": ""
             }
            },
            "type": "scattercarpet"
           }
          ],
          "scattergeo": [
           {
            "marker": {
             "colorbar": {
              "outlinewidth": 0,
              "ticks": ""
             }
            },
            "type": "scattergeo"
           }
          ],
          "scattergl": [
           {
            "marker": {
             "colorbar": {
              "outlinewidth": 0,
              "ticks": ""
             }
            },
            "type": "scattergl"
           }
          ],
          "scattermapbox": [
           {
            "marker": {
             "colorbar": {
              "outlinewidth": 0,
              "ticks": ""
             }
            },
            "type": "scattermapbox"
           }
          ],
          "scatterpolar": [
           {
            "marker": {
             "colorbar": {
              "outlinewidth": 0,
              "ticks": ""
             }
            },
            "type": "scatterpolar"
           }
          ],
          "scatterpolargl": [
           {
            "marker": {
             "colorbar": {
              "outlinewidth": 0,
              "ticks": ""
             }
            },
            "type": "scatterpolargl"
           }
          ],
          "scatterternary": [
           {
            "marker": {
             "colorbar": {
              "outlinewidth": 0,
              "ticks": ""
             }
            },
            "type": "scatterternary"
           }
          ],
          "surface": [
           {
            "colorbar": {
             "outlinewidth": 0,
             "ticks": ""
            },
            "colorscale": [
             [
              0,
              "#0d0887"
             ],
             [
              0.1111111111111111,
              "#46039f"
             ],
             [
              0.2222222222222222,
              "#7201a8"
             ],
             [
              0.3333333333333333,
              "#9c179e"
             ],
             [
              0.4444444444444444,
              "#bd3786"
             ],
             [
              0.5555555555555556,
              "#d8576b"
             ],
             [
              0.6666666666666666,
              "#ed7953"
             ],
             [
              0.7777777777777778,
              "#fb9f3a"
             ],
             [
              0.8888888888888888,
              "#fdca26"
             ],
             [
              1,
              "#f0f921"
             ]
            ],
            "type": "surface"
           }
          ],
          "table": [
           {
            "cells": {
             "fill": {
              "color": "#EBF0F8"
             },
             "line": {
              "color": "white"
             }
            },
            "header": {
             "fill": {
              "color": "#C8D4E3"
             },
             "line": {
              "color": "white"
             }
            },
            "type": "table"
           }
          ]
         },
         "layout": {
          "annotationdefaults": {
           "arrowcolor": "#2a3f5f",
           "arrowhead": 0,
           "arrowwidth": 1
          },
          "autotypenumbers": "strict",
          "coloraxis": {
           "colorbar": {
            "outlinewidth": 0,
            "ticks": ""
           }
          },
          "colorscale": {
           "diverging": [
            [
             0,
             "#8e0152"
            ],
            [
             0.1,
             "#c51b7d"
            ],
            [
             0.2,
             "#de77ae"
            ],
            [
             0.3,
             "#f1b6da"
            ],
            [
             0.4,
             "#fde0ef"
            ],
            [
             0.5,
             "#f7f7f7"
            ],
            [
             0.6,
             "#e6f5d0"
            ],
            [
             0.7,
             "#b8e186"
            ],
            [
             0.8,
             "#7fbc41"
            ],
            [
             0.9,
             "#4d9221"
            ],
            [
             1,
             "#276419"
            ]
           ],
           "sequential": [
            [
             0,
             "#0d0887"
            ],
            [
             0.1111111111111111,
             "#46039f"
            ],
            [
             0.2222222222222222,
             "#7201a8"
            ],
            [
             0.3333333333333333,
             "#9c179e"
            ],
            [
             0.4444444444444444,
             "#bd3786"
            ],
            [
             0.5555555555555556,
             "#d8576b"
            ],
            [
             0.6666666666666666,
             "#ed7953"
            ],
            [
             0.7777777777777778,
             "#fb9f3a"
            ],
            [
             0.8888888888888888,
             "#fdca26"
            ],
            [
             1,
             "#f0f921"
            ]
           ],
           "sequentialminus": [
            [
             0,
             "#0d0887"
            ],
            [
             0.1111111111111111,
             "#46039f"
            ],
            [
             0.2222222222222222,
             "#7201a8"
            ],
            [
             0.3333333333333333,
             "#9c179e"
            ],
            [
             0.4444444444444444,
             "#bd3786"
            ],
            [
             0.5555555555555556,
             "#d8576b"
            ],
            [
             0.6666666666666666,
             "#ed7953"
            ],
            [
             0.7777777777777778,
             "#fb9f3a"
            ],
            [
             0.8888888888888888,
             "#fdca26"
            ],
            [
             1,
             "#f0f921"
            ]
           ]
          },
          "colorway": [
           "#636efa",
           "#EF553B",
           "#00cc96",
           "#ab63fa",
           "#FFA15A",
           "#19d3f3",
           "#FF6692",
           "#B6E880",
           "#FF97FF",
           "#FECB52"
          ],
          "font": {
           "color": "#2a3f5f"
          },
          "geo": {
           "bgcolor": "white",
           "lakecolor": "white",
           "landcolor": "#E5ECF6",
           "showlakes": true,
           "showland": true,
           "subunitcolor": "white"
          },
          "hoverlabel": {
           "align": "left"
          },
          "hovermode": "closest",
          "mapbox": {
           "style": "light"
          },
          "paper_bgcolor": "white",
          "plot_bgcolor": "#E5ECF6",
          "polar": {
           "angularaxis": {
            "gridcolor": "white",
            "linecolor": "white",
            "ticks": ""
           },
           "bgcolor": "#E5ECF6",
           "radialaxis": {
            "gridcolor": "white",
            "linecolor": "white",
            "ticks": ""
           }
          },
          "scene": {
           "xaxis": {
            "backgroundcolor": "#E5ECF6",
            "gridcolor": "white",
            "gridwidth": 2,
            "linecolor": "white",
            "showbackground": true,
            "ticks": "",
            "zerolinecolor": "white"
           },
           "yaxis": {
            "backgroundcolor": "#E5ECF6",
            "gridcolor": "white",
            "gridwidth": 2,
            "linecolor": "white",
            "showbackground": true,
            "ticks": "",
            "zerolinecolor": "white"
           },
           "zaxis": {
            "backgroundcolor": "#E5ECF6",
            "gridcolor": "white",
            "gridwidth": 2,
            "linecolor": "white",
            "showbackground": true,
            "ticks": "",
            "zerolinecolor": "white"
           }
          },
          "shapedefaults": {
           "line": {
            "color": "#2a3f5f"
           }
          },
          "ternary": {
           "aaxis": {
            "gridcolor": "white",
            "linecolor": "white",
            "ticks": ""
           },
           "baxis": {
            "gridcolor": "white",
            "linecolor": "white",
            "ticks": ""
           },
           "bgcolor": "#E5ECF6",
           "caxis": {
            "gridcolor": "white",
            "linecolor": "white",
            "ticks": ""
           }
          },
          "title": {
           "x": 0.05
          },
          "xaxis": {
           "automargin": true,
           "gridcolor": "white",
           "linecolor": "white",
           "ticks": "",
           "title": {
            "standoff": 15
           },
           "zerolinecolor": "white",
           "zerolinewidth": 2
          },
          "yaxis": {
           "automargin": true,
           "gridcolor": "white",
           "linecolor": "white",
           "ticks": "",
           "title": {
            "standoff": 15
           },
           "zerolinecolor": "white",
           "zerolinewidth": 2
          }
         }
        },
        "title": {
         "text": "Top 10 Districts based on visitor count"
        },
        "xaxis": {
         "anchor": "y",
         "domain": [
          0,
          1
         ],
         "title": {
          "text": "visitors"
         }
        },
        "yaxis": {
         "anchor": "x",
         "domain": [
          0,
          1
         ],
         "title": {
          "text": "district"
         }
        }
       }
      }
     },
     "metadata": {},
     "output_type": "display_data"
    }
   ],
   "source": [
    "px.bar(district_visitors_top,\n",
    "       x='visitors',\n",
    "       title='Top 10 Districts based on visitor count')"
   ]
  },
  {
   "attachments": {},
   "cell_type": "markdown",
   "metadata": {},
   "source": [
    "### CAGR Formula"
   ]
  },
  {
   "cell_type": "code",
   "execution_count": 27,
   "metadata": {},
   "outputs": [
    {
     "name": "stdout",
     "output_type": "stream",
     "text": [
      "0.0\n"
     ]
    }
   ],
   "source": [
    "# number of years\n",
    "n = 3\n",
    "# price in 2019\n",
    "ev = 1\n",
    "# price in 2016\n",
    "bv = 1\n",
    "\n",
    "# cagr formula\n",
    "cagr = ((ev/bv)**(1/n) - 1)*100\n",
    "print(cagr)"
   ]
  },
  {
   "cell_type": "code",
   "execution_count": 28,
   "metadata": {},
   "outputs": [
    {
     "data": {
      "text/html": [
       "<div>\n",
       "<style scoped>\n",
       "    .dataframe tbody tr th:only-of-type {\n",
       "        vertical-align: middle;\n",
       "    }\n",
       "\n",
       "    .dataframe tbody tr th {\n",
       "        vertical-align: top;\n",
       "    }\n",
       "\n",
       "    .dataframe thead th {\n",
       "        text-align: right;\n",
       "    }\n",
       "</style>\n",
       "<table border=\"1\" class=\"dataframe\">\n",
       "  <thead>\n",
       "    <tr style=\"text-align: right;\">\n",
       "      <th></th>\n",
       "      <th>date</th>\n",
       "      <th>month</th>\n",
       "      <th>visitors</th>\n",
       "      <th>year</th>\n",
       "    </tr>\n",
       "    <tr>\n",
       "      <th>district</th>\n",
       "      <th></th>\n",
       "      <th></th>\n",
       "      <th></th>\n",
       "      <th></th>\n",
       "    </tr>\n",
       "  </thead>\n",
       "  <tbody>\n",
       "    <tr>\n",
       "      <th>Adilabad</th>\n",
       "      <td>01-01-2016</td>\n",
       "      <td>January</td>\n",
       "      <td>792136</td>\n",
       "      <td>2016</td>\n",
       "    </tr>\n",
       "    <tr>\n",
       "      <th>Adilabad</th>\n",
       "      <td>01-04-2018</td>\n",
       "      <td>April</td>\n",
       "      <td>14183</td>\n",
       "      <td>2018</td>\n",
       "    </tr>\n",
       "    <tr>\n",
       "      <th>Adilabad</th>\n",
       "      <td>01-03-2018</td>\n",
       "      <td>March</td>\n",
       "      <td>23011</td>\n",
       "      <td>2018</td>\n",
       "    </tr>\n",
       "    <tr>\n",
       "      <th>Adilabad</th>\n",
       "      <td>01-02-2018</td>\n",
       "      <td>February</td>\n",
       "      <td>36550</td>\n",
       "      <td>2018</td>\n",
       "    </tr>\n",
       "    <tr>\n",
       "      <th>Adilabad</th>\n",
       "      <td>01-01-2018</td>\n",
       "      <td>January</td>\n",
       "      <td>320356</td>\n",
       "      <td>2018</td>\n",
       "    </tr>\n",
       "    <tr>\n",
       "      <th>...</th>\n",
       "      <td>...</td>\n",
       "      <td>...</td>\n",
       "      <td>...</td>\n",
       "      <td>...</td>\n",
       "    </tr>\n",
       "    <tr>\n",
       "      <th>Yadadri Bhongir</th>\n",
       "      <td>01-10-2018</td>\n",
       "      <td>October</td>\n",
       "      <td>586475</td>\n",
       "      <td>2018</td>\n",
       "    </tr>\n",
       "    <tr>\n",
       "      <th>Yadadri Bhongir</th>\n",
       "      <td>01-09-2018</td>\n",
       "      <td>September</td>\n",
       "      <td>819350</td>\n",
       "      <td>2018</td>\n",
       "    </tr>\n",
       "    <tr>\n",
       "      <th>Yadadri Bhongir</th>\n",
       "      <td>01-08-2018</td>\n",
       "      <td>August</td>\n",
       "      <td>526445</td>\n",
       "      <td>2018</td>\n",
       "    </tr>\n",
       "    <tr>\n",
       "      <th>Yadadri Bhongir</th>\n",
       "      <td>01-01-2016</td>\n",
       "      <td>January</td>\n",
       "      <td>0</td>\n",
       "      <td>2016</td>\n",
       "    </tr>\n",
       "    <tr>\n",
       "      <th>Yadadri Bhongir</th>\n",
       "      <td>01-12-2019</td>\n",
       "      <td>December</td>\n",
       "      <td>477635</td>\n",
       "      <td>2019</td>\n",
       "    </tr>\n",
       "  </tbody>\n",
       "</table>\n",
       "<p>1512 rows × 4 columns</p>\n",
       "</div>"
      ],
      "text/plain": [
       "                       date      month  visitors  year\n",
       "district                                              \n",
       "Adilabad         01-01-2016    January    792136  2016\n",
       "Adilabad         01-04-2018      April     14183  2018\n",
       "Adilabad         01-03-2018      March     23011  2018\n",
       "Adilabad         01-02-2018   February     36550  2018\n",
       "Adilabad         01-01-2018    January    320356  2018\n",
       "...                     ...        ...       ...   ...\n",
       "Yadadri Bhongir  01-10-2018    October    586475  2018\n",
       "Yadadri Bhongir  01-09-2018  September    819350  2018\n",
       "Yadadri Bhongir  01-08-2018     August    526445  2018\n",
       "Yadadri Bhongir  01-01-2016    January         0  2016\n",
       "Yadadri Bhongir  01-12-2019   December    477635  2019\n",
       "\n",
       "[1512 rows x 4 columns]"
      ]
     },
     "execution_count": 28,
     "metadata": {},
     "output_type": "execute_result"
    }
   ],
   "source": [
    "merged_df.set_index('district')"
   ]
  },
  {
   "cell_type": "code",
   "execution_count": 29,
   "metadata": {},
   "outputs": [],
   "source": [
    "district_yearly_sum = merged_df.groupby(['district', 'year'])['visitors'].sum()\n"
   ]
  },
  {
   "cell_type": "code",
   "execution_count": 30,
   "metadata": {},
   "outputs": [],
   "source": [
    "district_yearly_sum = pd.DataFrame(district_yearly_sum)\n"
   ]
  },
  {
   "cell_type": "code",
   "execution_count": 31,
   "metadata": {},
   "outputs": [
    {
     "data": {
      "text/html": [
       "<div>\n",
       "<style scoped>\n",
       "    .dataframe tbody tr th:only-of-type {\n",
       "        vertical-align: middle;\n",
       "    }\n",
       "\n",
       "    .dataframe tbody tr th {\n",
       "        vertical-align: top;\n",
       "    }\n",
       "\n",
       "    .dataframe thead th {\n",
       "        text-align: right;\n",
       "    }\n",
       "</style>\n",
       "<table border=\"1\" class=\"dataframe\">\n",
       "  <thead>\n",
       "    <tr style=\"text-align: right;\">\n",
       "      <th></th>\n",
       "      <th></th>\n",
       "      <th>visitors</th>\n",
       "    </tr>\n",
       "    <tr>\n",
       "      <th>district</th>\n",
       "      <th>year</th>\n",
       "      <th></th>\n",
       "    </tr>\n",
       "  </thead>\n",
       "  <tbody>\n",
       "    <tr>\n",
       "      <th rowspan=\"4\" valign=\"top\">Adilabad</th>\n",
       "      <th>2016</th>\n",
       "      <td>5075557</td>\n",
       "    </tr>\n",
       "    <tr>\n",
       "      <th>2017</th>\n",
       "      <td>825380</td>\n",
       "    </tr>\n",
       "    <tr>\n",
       "      <th>2018</th>\n",
       "      <td>644743</td>\n",
       "    </tr>\n",
       "    <tr>\n",
       "      <th>2019</th>\n",
       "      <td>775895</td>\n",
       "    </tr>\n",
       "    <tr>\n",
       "      <th>Bhadradri Kothagudem</th>\n",
       "      <th>2016</th>\n",
       "      <td>889030</td>\n",
       "    </tr>\n",
       "    <tr>\n",
       "      <th>...</th>\n",
       "      <th>...</th>\n",
       "      <td>...</td>\n",
       "    </tr>\n",
       "    <tr>\n",
       "      <th>Warangal (Urban)</th>\n",
       "      <th>2019</th>\n",
       "      <td>1795230</td>\n",
       "    </tr>\n",
       "    <tr>\n",
       "      <th rowspan=\"4\" valign=\"top\">Yadadri Bhongir</th>\n",
       "      <th>2016</th>\n",
       "      <td>1728600</td>\n",
       "    </tr>\n",
       "    <tr>\n",
       "      <th>2017</th>\n",
       "      <td>7001728</td>\n",
       "    </tr>\n",
       "    <tr>\n",
       "      <th>2018</th>\n",
       "      <td>13673378</td>\n",
       "    </tr>\n",
       "    <tr>\n",
       "      <th>2019</th>\n",
       "      <td>4489374</td>\n",
       "    </tr>\n",
       "  </tbody>\n",
       "</table>\n",
       "<p>126 rows × 1 columns</p>\n",
       "</div>"
      ],
      "text/plain": [
       "                            visitors\n",
       "district              year          \n",
       "Adilabad              2016   5075557\n",
       "                      2017    825380\n",
       "                      2018    644743\n",
       "                      2019    775895\n",
       "Bhadradri Kothagudem  2016    889030\n",
       "...                              ...\n",
       "Warangal (Urban)      2019   1795230\n",
       "Yadadri Bhongir       2016   1728600\n",
       "                      2017   7001728\n",
       "                      2018  13673378\n",
       "                      2019   4489374\n",
       "\n",
       "[126 rows x 1 columns]"
      ]
     },
     "execution_count": 31,
     "metadata": {},
     "output_type": "execute_result"
    }
   ],
   "source": [
    "district_yearly_sum\n"
   ]
  },
  {
   "cell_type": "code",
   "execution_count": 32,
   "metadata": {},
   "outputs": [],
   "source": [
    "district_yearly_sum.reset_index(names=['district', 'year'], inplace=True)"
   ]
  },
  {
   "cell_type": "code",
   "execution_count": 33,
   "metadata": {},
   "outputs": [],
   "source": [
    "for ind in district_yearly_sum.index:\n",
    "    ttlsum_16 = district_yearly_sum.loc[district_yearly_sum['year'] == 2016]\n",
    "    ttlsum_19 = district_yearly_sum.loc[district_yearly_sum['year'] == 2019]\n",
    "\n"
   ]
  },
  {
   "cell_type": "code",
   "execution_count": 34,
   "metadata": {},
   "outputs": [
    {
     "data": {
      "text/html": [
       "<div>\n",
       "<style scoped>\n",
       "    .dataframe tbody tr th:only-of-type {\n",
       "        vertical-align: middle;\n",
       "    }\n",
       "\n",
       "    .dataframe tbody tr th {\n",
       "        vertical-align: top;\n",
       "    }\n",
       "\n",
       "    .dataframe thead th {\n",
       "        text-align: right;\n",
       "    }\n",
       "</style>\n",
       "<table border=\"1\" class=\"dataframe\">\n",
       "  <thead>\n",
       "    <tr style=\"text-align: right;\">\n",
       "      <th></th>\n",
       "      <th>district</th>\n",
       "      <th>year</th>\n",
       "      <th>visitors</th>\n",
       "    </tr>\n",
       "  </thead>\n",
       "  <tbody>\n",
       "    <tr>\n",
       "      <th>0</th>\n",
       "      <td>Adilabad</td>\n",
       "      <td>2016</td>\n",
       "      <td>5075557</td>\n",
       "    </tr>\n",
       "    <tr>\n",
       "      <th>1</th>\n",
       "      <td>Bhadradri Kothagudem</td>\n",
       "      <td>2016</td>\n",
       "      <td>889030</td>\n",
       "    </tr>\n",
       "    <tr>\n",
       "      <th>2</th>\n",
       "      <td>Hyderabad</td>\n",
       "      <td>2016</td>\n",
       "      <td>23394705</td>\n",
       "    </tr>\n",
       "    <tr>\n",
       "      <th>3</th>\n",
       "      <td>Jagtial</td>\n",
       "      <td>2016</td>\n",
       "      <td>623077</td>\n",
       "    </tr>\n",
       "    <tr>\n",
       "      <th>4</th>\n",
       "      <td>Jangaon</td>\n",
       "      <td>2016</td>\n",
       "      <td>40660</td>\n",
       "    </tr>\n",
       "    <tr>\n",
       "      <th>5</th>\n",
       "      <td>Jayashankar Bhoopalpally</td>\n",
       "      <td>2016</td>\n",
       "      <td>243400</td>\n",
       "    </tr>\n",
       "    <tr>\n",
       "      <th>6</th>\n",
       "      <td>Jogulamba Gadwal</td>\n",
       "      <td>2016</td>\n",
       "      <td>523401</td>\n",
       "    </tr>\n",
       "    <tr>\n",
       "      <th>7</th>\n",
       "      <td>Kamareddy</td>\n",
       "      <td>2016</td>\n",
       "      <td>127</td>\n",
       "    </tr>\n",
       "    <tr>\n",
       "      <th>8</th>\n",
       "      <td>Karimnagar</td>\n",
       "      <td>2016</td>\n",
       "      <td>9167468</td>\n",
       "    </tr>\n",
       "    <tr>\n",
       "      <th>9</th>\n",
       "      <td>Khammam</td>\n",
       "      <td>2016</td>\n",
       "      <td>5005031</td>\n",
       "    </tr>\n",
       "    <tr>\n",
       "      <th>10</th>\n",
       "      <td>Komaram Bheem Asifabad</td>\n",
       "      <td>2016</td>\n",
       "      <td>0</td>\n",
       "    </tr>\n",
       "    <tr>\n",
       "      <th>11</th>\n",
       "      <td>Mahabubabad</td>\n",
       "      <td>2016</td>\n",
       "      <td>140002</td>\n",
       "    </tr>\n",
       "    <tr>\n",
       "      <th>12</th>\n",
       "      <td>Mahbubnagar</td>\n",
       "      <td>2016</td>\n",
       "      <td>8304766</td>\n",
       "    </tr>\n",
       "    <tr>\n",
       "      <th>13</th>\n",
       "      <td>Mancherial</td>\n",
       "      <td>2016</td>\n",
       "      <td>7802</td>\n",
       "    </tr>\n",
       "    <tr>\n",
       "      <th>14</th>\n",
       "      <td>Medak</td>\n",
       "      <td>2016</td>\n",
       "      <td>3463200</td>\n",
       "    </tr>\n",
       "    <tr>\n",
       "      <th>15</th>\n",
       "      <td>Medchal</td>\n",
       "      <td>2016</td>\n",
       "      <td>0</td>\n",
       "    </tr>\n",
       "    <tr>\n",
       "      <th>16</th>\n",
       "      <td>Nagarkurnool</td>\n",
       "      <td>2016</td>\n",
       "      <td>588473</td>\n",
       "    </tr>\n",
       "    <tr>\n",
       "      <th>17</th>\n",
       "      <td>Nalgonda</td>\n",
       "      <td>2016</td>\n",
       "      <td>5858461</td>\n",
       "    </tr>\n",
       "    <tr>\n",
       "      <th>18</th>\n",
       "      <td>Nirmal</td>\n",
       "      <td>2016</td>\n",
       "      <td>916610</td>\n",
       "    </tr>\n",
       "    <tr>\n",
       "      <th>19</th>\n",
       "      <td>Nizamabad</td>\n",
       "      <td>2016</td>\n",
       "      <td>6442</td>\n",
       "    </tr>\n",
       "    <tr>\n",
       "      <th>20</th>\n",
       "      <td>Peddapalli</td>\n",
       "      <td>2016</td>\n",
       "      <td>3244</td>\n",
       "    </tr>\n",
       "    <tr>\n",
       "      <th>21</th>\n",
       "      <td>Rajanna Sircilla</td>\n",
       "      <td>2016</td>\n",
       "      <td>2176801</td>\n",
       "    </tr>\n",
       "    <tr>\n",
       "      <th>22</th>\n",
       "      <td>Ranga Reddy</td>\n",
       "      <td>2016</td>\n",
       "      <td>0</td>\n",
       "    </tr>\n",
       "    <tr>\n",
       "      <th>23</th>\n",
       "      <td>Sangareddy</td>\n",
       "      <td>2016</td>\n",
       "      <td>778000</td>\n",
       "    </tr>\n",
       "    <tr>\n",
       "      <th>24</th>\n",
       "      <td>Siddipet</td>\n",
       "      <td>2016</td>\n",
       "      <td>358400</td>\n",
       "    </tr>\n",
       "    <tr>\n",
       "      <th>25</th>\n",
       "      <td>Suryapet</td>\n",
       "      <td>2016</td>\n",
       "      <td>0</td>\n",
       "    </tr>\n",
       "    <tr>\n",
       "      <th>26</th>\n",
       "      <td>Vikarabad</td>\n",
       "      <td>2016</td>\n",
       "      <td>0</td>\n",
       "    </tr>\n",
       "    <tr>\n",
       "      <th>27</th>\n",
       "      <td>Wanaparthy</td>\n",
       "      <td>2016</td>\n",
       "      <td>60138</td>\n",
       "    </tr>\n",
       "    <tr>\n",
       "      <th>28</th>\n",
       "      <td>Warangal (Rural)</td>\n",
       "      <td>2016</td>\n",
       "      <td>19400</td>\n",
       "    </tr>\n",
       "    <tr>\n",
       "      <th>29</th>\n",
       "      <td>Warangal (Urban)</td>\n",
       "      <td>2016</td>\n",
       "      <td>25788035</td>\n",
       "    </tr>\n",
       "    <tr>\n",
       "      <th>30</th>\n",
       "      <td>Yadadri Bhongir</td>\n",
       "      <td>2016</td>\n",
       "      <td>1728600</td>\n",
       "    </tr>\n",
       "  </tbody>\n",
       "</table>\n",
       "</div>"
      ],
      "text/plain": [
       "                    district  year  visitors\n",
       "0                   Adilabad  2016   5075557\n",
       "1      Bhadradri Kothagudem   2016    889030\n",
       "2                  Hyderabad  2016  23394705\n",
       "3                   Jagtial   2016    623077\n",
       "4                   Jangaon   2016     40660\n",
       "5   Jayashankar Bhoopalpally  2016    243400\n",
       "6          Jogulamba Gadwal   2016    523401\n",
       "7                 Kamareddy   2016       127\n",
       "8                Karimnagar   2016   9167468\n",
       "9                    Khammam  2016   5005031\n",
       "10    Komaram Bheem Asifabad  2016         0\n",
       "11              Mahabubabad   2016    140002\n",
       "12               Mahbubnagar  2016   8304766\n",
       "13                Mancherial  2016      7802\n",
       "14                    Medak   2016   3463200\n",
       "15                  Medchal   2016         0\n",
       "16             Nagarkurnool   2016    588473\n",
       "17                  Nalgonda  2016   5858461\n",
       "18                    Nirmal  2016    916610\n",
       "19                 Nizamabad  2016      6442\n",
       "20                Peddapalli  2016      3244\n",
       "21         Rajanna Sircilla   2016   2176801\n",
       "22               Ranga Reddy  2016         0\n",
       "23               Sangareddy   2016    778000\n",
       "24                  Siddipet  2016    358400\n",
       "25                  Suryapet  2016         0\n",
       "26                 Vikarabad  2016         0\n",
       "27               Wanaparthy   2016     60138\n",
       "28          Warangal (Rural)  2016     19400\n",
       "29          Warangal (Urban)  2016  25788035\n",
       "30           Yadadri Bhongir  2016   1728600"
      ]
     },
     "execution_count": 34,
     "metadata": {},
     "output_type": "execute_result"
    }
   ],
   "source": [
    "ttlsum_16.reset_index(drop=True)"
   ]
  },
  {
   "cell_type": "code",
   "execution_count": 35,
   "metadata": {},
   "outputs": [],
   "source": [
    "ttlsum_19.reset_index(drop=True, inplace=True)"
   ]
  },
  {
   "cell_type": "code",
   "execution_count": 36,
   "metadata": {},
   "outputs": [],
   "source": [
    "ttlsum_16.reset_index(drop=True, inplace=True)"
   ]
  },
  {
   "cell_type": "code",
   "execution_count": 37,
   "metadata": {},
   "outputs": [
    {
     "data": {
      "text/html": [
       "<div>\n",
       "<style scoped>\n",
       "    .dataframe tbody tr th:only-of-type {\n",
       "        vertical-align: middle;\n",
       "    }\n",
       "\n",
       "    .dataframe tbody tr th {\n",
       "        vertical-align: top;\n",
       "    }\n",
       "\n",
       "    .dataframe thead th {\n",
       "        text-align: right;\n",
       "    }\n",
       "</style>\n",
       "<table border=\"1\" class=\"dataframe\">\n",
       "  <thead>\n",
       "    <tr style=\"text-align: right;\">\n",
       "      <th></th>\n",
       "      <th>district</th>\n",
       "      <th>year</th>\n",
       "      <th>visitors</th>\n",
       "    </tr>\n",
       "  </thead>\n",
       "  <tbody>\n",
       "    <tr>\n",
       "      <th>0</th>\n",
       "      <td>Adilabad</td>\n",
       "      <td>2019</td>\n",
       "      <td>775895</td>\n",
       "    </tr>\n",
       "    <tr>\n",
       "      <th>1</th>\n",
       "      <td>Bhadradri Kothagudem</td>\n",
       "      <td>2019</td>\n",
       "      <td>12817737</td>\n",
       "    </tr>\n",
       "    <tr>\n",
       "      <th>2</th>\n",
       "      <td>Hyderabad</td>\n",
       "      <td>2019</td>\n",
       "      <td>13802362</td>\n",
       "    </tr>\n",
       "    <tr>\n",
       "      <th>3</th>\n",
       "      <td>Jagtial</td>\n",
       "      <td>2019</td>\n",
       "      <td>3086115</td>\n",
       "    </tr>\n",
       "    <tr>\n",
       "      <th>4</th>\n",
       "      <td>Jangaon</td>\n",
       "      <td>2019</td>\n",
       "      <td>328890</td>\n",
       "    </tr>\n",
       "    <tr>\n",
       "      <th>5</th>\n",
       "      <td>Jayashankar Bhoopalpally</td>\n",
       "      <td>2019</td>\n",
       "      <td>662530</td>\n",
       "    </tr>\n",
       "    <tr>\n",
       "      <th>6</th>\n",
       "      <td>Jogulamba Gadwal</td>\n",
       "      <td>2019</td>\n",
       "      <td>2007995</td>\n",
       "    </tr>\n",
       "    <tr>\n",
       "      <th>7</th>\n",
       "      <td>Kamareddy</td>\n",
       "      <td>2019</td>\n",
       "      <td>534</td>\n",
       "    </tr>\n",
       "    <tr>\n",
       "      <th>8</th>\n",
       "      <td>Karimnagar</td>\n",
       "      <td>2019</td>\n",
       "      <td>77491</td>\n",
       "    </tr>\n",
       "    <tr>\n",
       "      <th>9</th>\n",
       "      <td>Khammam</td>\n",
       "      <td>2019</td>\n",
       "      <td>1413440</td>\n",
       "    </tr>\n",
       "    <tr>\n",
       "      <th>10</th>\n",
       "      <td>Komaram Bheem Asifabad</td>\n",
       "      <td>2019</td>\n",
       "      <td>19189</td>\n",
       "    </tr>\n",
       "    <tr>\n",
       "      <th>11</th>\n",
       "      <td>Mahabubabad</td>\n",
       "      <td>2019</td>\n",
       "      <td>152885</td>\n",
       "    </tr>\n",
       "    <tr>\n",
       "      <th>12</th>\n",
       "      <td>Mahbubnagar</td>\n",
       "      <td>2019</td>\n",
       "      <td>2534815</td>\n",
       "    </tr>\n",
       "    <tr>\n",
       "      <th>13</th>\n",
       "      <td>Mancherial</td>\n",
       "      <td>2019</td>\n",
       "      <td>269810</td>\n",
       "    </tr>\n",
       "    <tr>\n",
       "      <th>14</th>\n",
       "      <td>Medak</td>\n",
       "      <td>2019</td>\n",
       "      <td>5452570</td>\n",
       "    </tr>\n",
       "    <tr>\n",
       "      <th>15</th>\n",
       "      <td>Medchal</td>\n",
       "      <td>2019</td>\n",
       "      <td>0</td>\n",
       "    </tr>\n",
       "    <tr>\n",
       "      <th>16</th>\n",
       "      <td>Mulugu</td>\n",
       "      <td>2019</td>\n",
       "      <td>1819800</td>\n",
       "    </tr>\n",
       "    <tr>\n",
       "      <th>17</th>\n",
       "      <td>Nagarkurnool</td>\n",
       "      <td>2019</td>\n",
       "      <td>2093312</td>\n",
       "    </tr>\n",
       "    <tr>\n",
       "      <th>18</th>\n",
       "      <td>Nalgonda</td>\n",
       "      <td>2019</td>\n",
       "      <td>140918</td>\n",
       "    </tr>\n",
       "    <tr>\n",
       "      <th>19</th>\n",
       "      <td>Narayanapet</td>\n",
       "      <td>2019</td>\n",
       "      <td>389250</td>\n",
       "    </tr>\n",
       "    <tr>\n",
       "      <th>20</th>\n",
       "      <td>Nirmal</td>\n",
       "      <td>2019</td>\n",
       "      <td>3816778</td>\n",
       "    </tr>\n",
       "    <tr>\n",
       "      <th>21</th>\n",
       "      <td>Nizamabad</td>\n",
       "      <td>2019</td>\n",
       "      <td>46333</td>\n",
       "    </tr>\n",
       "    <tr>\n",
       "      <th>22</th>\n",
       "      <td>Peddapalli</td>\n",
       "      <td>2019</td>\n",
       "      <td>16581</td>\n",
       "    </tr>\n",
       "    <tr>\n",
       "      <th>23</th>\n",
       "      <td>Rajanna Sircilla</td>\n",
       "      <td>2019</td>\n",
       "      <td>16832897</td>\n",
       "    </tr>\n",
       "    <tr>\n",
       "      <th>24</th>\n",
       "      <td>Ranga Reddy</td>\n",
       "      <td>2019</td>\n",
       "      <td>0</td>\n",
       "    </tr>\n",
       "    <tr>\n",
       "      <th>25</th>\n",
       "      <td>Sangareddy</td>\n",
       "      <td>2019</td>\n",
       "      <td>4553160</td>\n",
       "    </tr>\n",
       "    <tr>\n",
       "      <th>26</th>\n",
       "      <td>Siddipet</td>\n",
       "      <td>2019</td>\n",
       "      <td>2987864</td>\n",
       "    </tr>\n",
       "    <tr>\n",
       "      <th>27</th>\n",
       "      <td>Suryapet</td>\n",
       "      <td>2019</td>\n",
       "      <td>0</td>\n",
       "    </tr>\n",
       "    <tr>\n",
       "      <th>28</th>\n",
       "      <td>Vikarabad</td>\n",
       "      <td>2019</td>\n",
       "      <td>0</td>\n",
       "    </tr>\n",
       "    <tr>\n",
       "      <th>29</th>\n",
       "      <td>Wanaparthy</td>\n",
       "      <td>2019</td>\n",
       "      <td>298639</td>\n",
       "    </tr>\n",
       "    <tr>\n",
       "      <th>30</th>\n",
       "      <td>Warangal (Rural)</td>\n",
       "      <td>2019</td>\n",
       "      <td>353500</td>\n",
       "    </tr>\n",
       "    <tr>\n",
       "      <th>31</th>\n",
       "      <td>Warangal (Urban)</td>\n",
       "      <td>2019</td>\n",
       "      <td>1795230</td>\n",
       "    </tr>\n",
       "    <tr>\n",
       "      <th>32</th>\n",
       "      <td>Yadadri Bhongir</td>\n",
       "      <td>2019</td>\n",
       "      <td>4489374</td>\n",
       "    </tr>\n",
       "  </tbody>\n",
       "</table>\n",
       "</div>"
      ],
      "text/plain": [
       "                    district  year  visitors\n",
       "0                   Adilabad  2019    775895\n",
       "1      Bhadradri Kothagudem   2019  12817737\n",
       "2                  Hyderabad  2019  13802362\n",
       "3                   Jagtial   2019   3086115\n",
       "4                   Jangaon   2019    328890\n",
       "5   Jayashankar Bhoopalpally  2019    662530\n",
       "6          Jogulamba Gadwal   2019   2007995\n",
       "7                 Kamareddy   2019       534\n",
       "8                Karimnagar   2019     77491\n",
       "9                    Khammam  2019   1413440\n",
       "10    Komaram Bheem Asifabad  2019     19189\n",
       "11              Mahabubabad   2019    152885\n",
       "12               Mahbubnagar  2019   2534815\n",
       "13                Mancherial  2019    269810\n",
       "14                    Medak   2019   5452570\n",
       "15                  Medchal   2019         0\n",
       "16                    Mulugu  2019   1819800\n",
       "17             Nagarkurnool   2019   2093312\n",
       "18                  Nalgonda  2019    140918\n",
       "19               Narayanapet  2019    389250\n",
       "20                    Nirmal  2019   3816778\n",
       "21                 Nizamabad  2019     46333\n",
       "22                Peddapalli  2019     16581\n",
       "23         Rajanna Sircilla   2019  16832897\n",
       "24               Ranga Reddy  2019         0\n",
       "25               Sangareddy   2019   4553160\n",
       "26                  Siddipet  2019   2987864\n",
       "27                  Suryapet  2019         0\n",
       "28                 Vikarabad  2019         0\n",
       "29               Wanaparthy   2019    298639\n",
       "30          Warangal (Rural)  2019    353500\n",
       "31          Warangal (Urban)  2019   1795230\n",
       "32           Yadadri Bhongir  2019   4489374"
      ]
     },
     "execution_count": 37,
     "metadata": {},
     "output_type": "execute_result"
    }
   ],
   "source": [
    "ttlsum_19"
   ]
  },
  {
   "cell_type": "code",
   "execution_count": 38,
   "metadata": {},
   "outputs": [
    {
     "data": {
      "text/html": [
       "<div>\n",
       "<style scoped>\n",
       "    .dataframe tbody tr th:only-of-type {\n",
       "        vertical-align: middle;\n",
       "    }\n",
       "\n",
       "    .dataframe tbody tr th {\n",
       "        vertical-align: top;\n",
       "    }\n",
       "\n",
       "    .dataframe thead th {\n",
       "        text-align: right;\n",
       "    }\n",
       "</style>\n",
       "<table border=\"1\" class=\"dataframe\">\n",
       "  <thead>\n",
       "    <tr style=\"text-align: right;\">\n",
       "      <th></th>\n",
       "      <th>district</th>\n",
       "      <th>year</th>\n",
       "      <th>visitors</th>\n",
       "    </tr>\n",
       "  </thead>\n",
       "  <tbody>\n",
       "    <tr>\n",
       "      <th>0</th>\n",
       "      <td>Adilabad</td>\n",
       "      <td>2016</td>\n",
       "      <td>5075557</td>\n",
       "    </tr>\n",
       "    <tr>\n",
       "      <th>1</th>\n",
       "      <td>Bhadradri Kothagudem</td>\n",
       "      <td>2016</td>\n",
       "      <td>889030</td>\n",
       "    </tr>\n",
       "    <tr>\n",
       "      <th>2</th>\n",
       "      <td>Hyderabad</td>\n",
       "      <td>2016</td>\n",
       "      <td>23394705</td>\n",
       "    </tr>\n",
       "    <tr>\n",
       "      <th>3</th>\n",
       "      <td>Jagtial</td>\n",
       "      <td>2016</td>\n",
       "      <td>623077</td>\n",
       "    </tr>\n",
       "    <tr>\n",
       "      <th>4</th>\n",
       "      <td>Jangaon</td>\n",
       "      <td>2016</td>\n",
       "      <td>40660</td>\n",
       "    </tr>\n",
       "    <tr>\n",
       "      <th>5</th>\n",
       "      <td>Jayashankar Bhoopalpally</td>\n",
       "      <td>2016</td>\n",
       "      <td>243400</td>\n",
       "    </tr>\n",
       "    <tr>\n",
       "      <th>6</th>\n",
       "      <td>Jogulamba Gadwal</td>\n",
       "      <td>2016</td>\n",
       "      <td>523401</td>\n",
       "    </tr>\n",
       "    <tr>\n",
       "      <th>7</th>\n",
       "      <td>Kamareddy</td>\n",
       "      <td>2016</td>\n",
       "      <td>127</td>\n",
       "    </tr>\n",
       "    <tr>\n",
       "      <th>8</th>\n",
       "      <td>Karimnagar</td>\n",
       "      <td>2016</td>\n",
       "      <td>9167468</td>\n",
       "    </tr>\n",
       "    <tr>\n",
       "      <th>9</th>\n",
       "      <td>Khammam</td>\n",
       "      <td>2016</td>\n",
       "      <td>5005031</td>\n",
       "    </tr>\n",
       "    <tr>\n",
       "      <th>10</th>\n",
       "      <td>Komaram Bheem Asifabad</td>\n",
       "      <td>2016</td>\n",
       "      <td>0</td>\n",
       "    </tr>\n",
       "    <tr>\n",
       "      <th>11</th>\n",
       "      <td>Mahabubabad</td>\n",
       "      <td>2016</td>\n",
       "      <td>140002</td>\n",
       "    </tr>\n",
       "    <tr>\n",
       "      <th>12</th>\n",
       "      <td>Mahbubnagar</td>\n",
       "      <td>2016</td>\n",
       "      <td>8304766</td>\n",
       "    </tr>\n",
       "    <tr>\n",
       "      <th>13</th>\n",
       "      <td>Mancherial</td>\n",
       "      <td>2016</td>\n",
       "      <td>7802</td>\n",
       "    </tr>\n",
       "    <tr>\n",
       "      <th>14</th>\n",
       "      <td>Medak</td>\n",
       "      <td>2016</td>\n",
       "      <td>3463200</td>\n",
       "    </tr>\n",
       "    <tr>\n",
       "      <th>15</th>\n",
       "      <td>Medchal</td>\n",
       "      <td>2016</td>\n",
       "      <td>0</td>\n",
       "    </tr>\n",
       "    <tr>\n",
       "      <th>16</th>\n",
       "      <td>Nagarkurnool</td>\n",
       "      <td>2016</td>\n",
       "      <td>588473</td>\n",
       "    </tr>\n",
       "    <tr>\n",
       "      <th>17</th>\n",
       "      <td>Nalgonda</td>\n",
       "      <td>2016</td>\n",
       "      <td>5858461</td>\n",
       "    </tr>\n",
       "    <tr>\n",
       "      <th>18</th>\n",
       "      <td>Nirmal</td>\n",
       "      <td>2016</td>\n",
       "      <td>916610</td>\n",
       "    </tr>\n",
       "    <tr>\n",
       "      <th>19</th>\n",
       "      <td>Nizamabad</td>\n",
       "      <td>2016</td>\n",
       "      <td>6442</td>\n",
       "    </tr>\n",
       "    <tr>\n",
       "      <th>20</th>\n",
       "      <td>Peddapalli</td>\n",
       "      <td>2016</td>\n",
       "      <td>3244</td>\n",
       "    </tr>\n",
       "    <tr>\n",
       "      <th>21</th>\n",
       "      <td>Rajanna Sircilla</td>\n",
       "      <td>2016</td>\n",
       "      <td>2176801</td>\n",
       "    </tr>\n",
       "    <tr>\n",
       "      <th>22</th>\n",
       "      <td>Ranga Reddy</td>\n",
       "      <td>2016</td>\n",
       "      <td>0</td>\n",
       "    </tr>\n",
       "    <tr>\n",
       "      <th>23</th>\n",
       "      <td>Sangareddy</td>\n",
       "      <td>2016</td>\n",
       "      <td>778000</td>\n",
       "    </tr>\n",
       "    <tr>\n",
       "      <th>24</th>\n",
       "      <td>Siddipet</td>\n",
       "      <td>2016</td>\n",
       "      <td>358400</td>\n",
       "    </tr>\n",
       "    <tr>\n",
       "      <th>25</th>\n",
       "      <td>Suryapet</td>\n",
       "      <td>2016</td>\n",
       "      <td>0</td>\n",
       "    </tr>\n",
       "    <tr>\n",
       "      <th>26</th>\n",
       "      <td>Vikarabad</td>\n",
       "      <td>2016</td>\n",
       "      <td>0</td>\n",
       "    </tr>\n",
       "    <tr>\n",
       "      <th>27</th>\n",
       "      <td>Wanaparthy</td>\n",
       "      <td>2016</td>\n",
       "      <td>60138</td>\n",
       "    </tr>\n",
       "    <tr>\n",
       "      <th>28</th>\n",
       "      <td>Warangal (Rural)</td>\n",
       "      <td>2016</td>\n",
       "      <td>19400</td>\n",
       "    </tr>\n",
       "    <tr>\n",
       "      <th>29</th>\n",
       "      <td>Warangal (Urban)</td>\n",
       "      <td>2016</td>\n",
       "      <td>25788035</td>\n",
       "    </tr>\n",
       "    <tr>\n",
       "      <th>30</th>\n",
       "      <td>Yadadri Bhongir</td>\n",
       "      <td>2016</td>\n",
       "      <td>1728600</td>\n",
       "    </tr>\n",
       "  </tbody>\n",
       "</table>\n",
       "</div>"
      ],
      "text/plain": [
       "                    district  year  visitors\n",
       "0                   Adilabad  2016   5075557\n",
       "1      Bhadradri Kothagudem   2016    889030\n",
       "2                  Hyderabad  2016  23394705\n",
       "3                   Jagtial   2016    623077\n",
       "4                   Jangaon   2016     40660\n",
       "5   Jayashankar Bhoopalpally  2016    243400\n",
       "6          Jogulamba Gadwal   2016    523401\n",
       "7                 Kamareddy   2016       127\n",
       "8                Karimnagar   2016   9167468\n",
       "9                    Khammam  2016   5005031\n",
       "10    Komaram Bheem Asifabad  2016         0\n",
       "11              Mahabubabad   2016    140002\n",
       "12               Mahbubnagar  2016   8304766\n",
       "13                Mancherial  2016      7802\n",
       "14                    Medak   2016   3463200\n",
       "15                  Medchal   2016         0\n",
       "16             Nagarkurnool   2016    588473\n",
       "17                  Nalgonda  2016   5858461\n",
       "18                    Nirmal  2016    916610\n",
       "19                 Nizamabad  2016      6442\n",
       "20                Peddapalli  2016      3244\n",
       "21         Rajanna Sircilla   2016   2176801\n",
       "22               Ranga Reddy  2016         0\n",
       "23               Sangareddy   2016    778000\n",
       "24                  Siddipet  2016    358400\n",
       "25                  Suryapet  2016         0\n",
       "26                 Vikarabad  2016         0\n",
       "27               Wanaparthy   2016     60138\n",
       "28          Warangal (Rural)  2016     19400\n",
       "29          Warangal (Urban)  2016  25788035\n",
       "30           Yadadri Bhongir  2016   1728600"
      ]
     },
     "execution_count": 38,
     "metadata": {},
     "output_type": "execute_result"
    }
   ],
   "source": [
    "ttlsum_16"
   ]
  },
  {
   "cell_type": "code",
   "execution_count": 314,
   "metadata": {},
   "outputs": [],
   "source": [
    "# number of years\n",
    "n = 1/3\n",
    "\n",
    "result = ttlsum_19.merge(ttlsum_16, on=['district'])\n",
    "\n"
   ]
  },
  {
   "cell_type": "code",
   "execution_count": 338,
   "metadata": {},
   "outputs": [],
   "source": [
    "years = 3\n",
    "\n",
    "result_2 = result.copy()\n",
    "result_2['CAGR'] = (\n",
    "    ((result_2.visitors_x / result_2.visitors_y) ** (1/years)) - 1) * 100\n",
    "\n"
   ]
  },
  {
   "cell_type": "code",
   "execution_count": 339,
   "metadata": {},
   "outputs": [
    {
     "data": {
      "text/html": [
       "<div>\n",
       "<style scoped>\n",
       "    .dataframe tbody tr th:only-of-type {\n",
       "        vertical-align: middle;\n",
       "    }\n",
       "\n",
       "    .dataframe tbody tr th {\n",
       "        vertical-align: top;\n",
       "    }\n",
       "\n",
       "    .dataframe thead th {\n",
       "        text-align: right;\n",
       "    }\n",
       "</style>\n",
       "<table border=\"1\" class=\"dataframe\">\n",
       "  <thead>\n",
       "    <tr style=\"text-align: right;\">\n",
       "      <th></th>\n",
       "      <th>district</th>\n",
       "      <th>year_x</th>\n",
       "      <th>visitors_x</th>\n",
       "      <th>year_y</th>\n",
       "      <th>visitors_y</th>\n",
       "      <th>CAGR</th>\n",
       "    </tr>\n",
       "  </thead>\n",
       "  <tbody>\n",
       "    <tr>\n",
       "      <th>0</th>\n",
       "      <td>Adilabad</td>\n",
       "      <td>2019</td>\n",
       "      <td>775895</td>\n",
       "      <td>2016</td>\n",
       "      <td>5075557</td>\n",
       "      <td>-46.5304640953</td>\n",
       "    </tr>\n",
       "    <tr>\n",
       "      <th>1</th>\n",
       "      <td>Bhadradri Kothagudem</td>\n",
       "      <td>2019</td>\n",
       "      <td>12817737</td>\n",
       "      <td>2016</td>\n",
       "      <td>889030</td>\n",
       "      <td>143.3875243992</td>\n",
       "    </tr>\n",
       "    <tr>\n",
       "      <th>2</th>\n",
       "      <td>Hyderabad</td>\n",
       "      <td>2019</td>\n",
       "      <td>13802362</td>\n",
       "      <td>2016</td>\n",
       "      <td>23394705</td>\n",
       "      <td>-16.1289757396</td>\n",
       "    </tr>\n",
       "    <tr>\n",
       "      <th>3</th>\n",
       "      <td>Jagtial</td>\n",
       "      <td>2019</td>\n",
       "      <td>3086115</td>\n",
       "      <td>2016</td>\n",
       "      <td>623077</td>\n",
       "      <td>70.4603837242</td>\n",
       "    </tr>\n",
       "    <tr>\n",
       "      <th>4</th>\n",
       "      <td>Jangaon</td>\n",
       "      <td>2019</td>\n",
       "      <td>328890</td>\n",
       "      <td>2016</td>\n",
       "      <td>40660</td>\n",
       "      <td>100.7371550634</td>\n",
       "    </tr>\n",
       "    <tr>\n",
       "      <th>5</th>\n",
       "      <td>Jayashankar Bhoopalpally</td>\n",
       "      <td>2019</td>\n",
       "      <td>662530</td>\n",
       "      <td>2016</td>\n",
       "      <td>243400</td>\n",
       "      <td>39.6245087581</td>\n",
       "    </tr>\n",
       "    <tr>\n",
       "      <th>6</th>\n",
       "      <td>Jogulamba Gadwal</td>\n",
       "      <td>2019</td>\n",
       "      <td>2007995</td>\n",
       "      <td>2016</td>\n",
       "      <td>523401</td>\n",
       "      <td>56.5462587469</td>\n",
       "    </tr>\n",
       "    <tr>\n",
       "      <th>7</th>\n",
       "      <td>Kamareddy</td>\n",
       "      <td>2019</td>\n",
       "      <td>534</td>\n",
       "      <td>2016</td>\n",
       "      <td>127</td>\n",
       "      <td>61.4033379457</td>\n",
       "    </tr>\n",
       "    <tr>\n",
       "      <th>8</th>\n",
       "      <td>Karimnagar</td>\n",
       "      <td>2019</td>\n",
       "      <td>77491</td>\n",
       "      <td>2016</td>\n",
       "      <td>9167468</td>\n",
       "      <td>-79.6295500999</td>\n",
       "    </tr>\n",
       "    <tr>\n",
       "      <th>9</th>\n",
       "      <td>Khammam</td>\n",
       "      <td>2019</td>\n",
       "      <td>1413440</td>\n",
       "      <td>2016</td>\n",
       "      <td>5005031</td>\n",
       "      <td>-34.3919894670</td>\n",
       "    </tr>\n",
       "    <tr>\n",
       "      <th>10</th>\n",
       "      <td>Komaram Bheem Asifabad</td>\n",
       "      <td>2019</td>\n",
       "      <td>19189</td>\n",
       "      <td>2016</td>\n",
       "      <td>0</td>\n",
       "      <td>inf</td>\n",
       "    </tr>\n",
       "    <tr>\n",
       "      <th>11</th>\n",
       "      <td>Mahabubabad</td>\n",
       "      <td>2019</td>\n",
       "      <td>152885</td>\n",
       "      <td>2016</td>\n",
       "      <td>140002</td>\n",
       "      <td>2.9777849472</td>\n",
       "    </tr>\n",
       "    <tr>\n",
       "      <th>12</th>\n",
       "      <td>Mahbubnagar</td>\n",
       "      <td>2019</td>\n",
       "      <td>2534815</td>\n",
       "      <td>2016</td>\n",
       "      <td>8304766</td>\n",
       "      <td>-32.6703604502</td>\n",
       "    </tr>\n",
       "    <tr>\n",
       "      <th>13</th>\n",
       "      <td>Mancherial</td>\n",
       "      <td>2019</td>\n",
       "      <td>269810</td>\n",
       "      <td>2016</td>\n",
       "      <td>7802</td>\n",
       "      <td>225.7997139428</td>\n",
       "    </tr>\n",
       "    <tr>\n",
       "      <th>14</th>\n",
       "      <td>Medak</td>\n",
       "      <td>2019</td>\n",
       "      <td>5452570</td>\n",
       "      <td>2016</td>\n",
       "      <td>3463200</td>\n",
       "      <td>16.3343298247</td>\n",
       "    </tr>\n",
       "    <tr>\n",
       "      <th>15</th>\n",
       "      <td>Medchal</td>\n",
       "      <td>2019</td>\n",
       "      <td>0</td>\n",
       "      <td>2016</td>\n",
       "      <td>0</td>\n",
       "      <td>NaN</td>\n",
       "    </tr>\n",
       "    <tr>\n",
       "      <th>16</th>\n",
       "      <td>Nagarkurnool</td>\n",
       "      <td>2019</td>\n",
       "      <td>2093312</td>\n",
       "      <td>2016</td>\n",
       "      <td>588473</td>\n",
       "      <td>52.6519912705</td>\n",
       "    </tr>\n",
       "    <tr>\n",
       "      <th>17</th>\n",
       "      <td>Nalgonda</td>\n",
       "      <td>2019</td>\n",
       "      <td>140918</td>\n",
       "      <td>2016</td>\n",
       "      <td>5858461</td>\n",
       "      <td>-71.1334880766</td>\n",
       "    </tr>\n",
       "    <tr>\n",
       "      <th>18</th>\n",
       "      <td>Nirmal</td>\n",
       "      <td>2019</td>\n",
       "      <td>3816778</td>\n",
       "      <td>2016</td>\n",
       "      <td>916610</td>\n",
       "      <td>60.8807577394</td>\n",
       "    </tr>\n",
       "    <tr>\n",
       "      <th>19</th>\n",
       "      <td>Nizamabad</td>\n",
       "      <td>2019</td>\n",
       "      <td>46333</td>\n",
       "      <td>2016</td>\n",
       "      <td>6442</td>\n",
       "      <td>93.0292990146</td>\n",
       "    </tr>\n",
       "    <tr>\n",
       "      <th>20</th>\n",
       "      <td>Peddapalli</td>\n",
       "      <td>2019</td>\n",
       "      <td>16581</td>\n",
       "      <td>2016</td>\n",
       "      <td>3244</td>\n",
       "      <td>72.2568989544</td>\n",
       "    </tr>\n",
       "    <tr>\n",
       "      <th>21</th>\n",
       "      <td>Rajanna Sircilla</td>\n",
       "      <td>2019</td>\n",
       "      <td>16832897</td>\n",
       "      <td>2016</td>\n",
       "      <td>2176801</td>\n",
       "      <td>97.7485825746</td>\n",
       "    </tr>\n",
       "    <tr>\n",
       "      <th>22</th>\n",
       "      <td>Ranga Reddy</td>\n",
       "      <td>2019</td>\n",
       "      <td>0</td>\n",
       "      <td>2016</td>\n",
       "      <td>0</td>\n",
       "      <td>NaN</td>\n",
       "    </tr>\n",
       "    <tr>\n",
       "      <th>23</th>\n",
       "      <td>Sangareddy</td>\n",
       "      <td>2019</td>\n",
       "      <td>4553160</td>\n",
       "      <td>2016</td>\n",
       "      <td>778000</td>\n",
       "      <td>80.2095373161</td>\n",
       "    </tr>\n",
       "    <tr>\n",
       "      <th>24</th>\n",
       "      <td>Siddipet</td>\n",
       "      <td>2019</td>\n",
       "      <td>2987864</td>\n",
       "      <td>2016</td>\n",
       "      <td>358400</td>\n",
       "      <td>102.7671552477</td>\n",
       "    </tr>\n",
       "    <tr>\n",
       "      <th>25</th>\n",
       "      <td>Suryapet</td>\n",
       "      <td>2019</td>\n",
       "      <td>0</td>\n",
       "      <td>2016</td>\n",
       "      <td>0</td>\n",
       "      <td>NaN</td>\n",
       "    </tr>\n",
       "    <tr>\n",
       "      <th>26</th>\n",
       "      <td>Vikarabad</td>\n",
       "      <td>2019</td>\n",
       "      <td>0</td>\n",
       "      <td>2016</td>\n",
       "      <td>0</td>\n",
       "      <td>NaN</td>\n",
       "    </tr>\n",
       "    <tr>\n",
       "      <th>27</th>\n",
       "      <td>Wanaparthy</td>\n",
       "      <td>2019</td>\n",
       "      <td>298639</td>\n",
       "      <td>2016</td>\n",
       "      <td>60138</td>\n",
       "      <td>70.6079170250</td>\n",
       "    </tr>\n",
       "    <tr>\n",
       "      <th>28</th>\n",
       "      <td>Warangal (Rural)</td>\n",
       "      <td>2019</td>\n",
       "      <td>353500</td>\n",
       "      <td>2016</td>\n",
       "      <td>19400</td>\n",
       "      <td>163.1454687567</td>\n",
       "    </tr>\n",
       "    <tr>\n",
       "      <th>29</th>\n",
       "      <td>Warangal (Urban)</td>\n",
       "      <td>2019</td>\n",
       "      <td>1795230</td>\n",
       "      <td>2016</td>\n",
       "      <td>25788035</td>\n",
       "      <td>-58.8628738295</td>\n",
       "    </tr>\n",
       "    <tr>\n",
       "      <th>30</th>\n",
       "      <td>Yadadri Bhongir</td>\n",
       "      <td>2019</td>\n",
       "      <td>4489374</td>\n",
       "      <td>2016</td>\n",
       "      <td>1728600</td>\n",
       "      <td>37.4560182835</td>\n",
       "    </tr>\n",
       "  </tbody>\n",
       "</table>\n",
       "</div>"
      ],
      "text/plain": [
       "                    district  year_x  visitors_x  year_y  visitors_y   \n",
       "0                   Adilabad    2019      775895    2016     5075557  \\\n",
       "1      Bhadradri Kothagudem     2019    12817737    2016      889030   \n",
       "2                  Hyderabad    2019    13802362    2016    23394705   \n",
       "3                   Jagtial     2019     3086115    2016      623077   \n",
       "4                   Jangaon     2019      328890    2016       40660   \n",
       "5   Jayashankar Bhoopalpally    2019      662530    2016      243400   \n",
       "6          Jogulamba Gadwal     2019     2007995    2016      523401   \n",
       "7                 Kamareddy     2019         534    2016         127   \n",
       "8                Karimnagar     2019       77491    2016     9167468   \n",
       "9                    Khammam    2019     1413440    2016     5005031   \n",
       "10    Komaram Bheem Asifabad    2019       19189    2016           0   \n",
       "11              Mahabubabad     2019      152885    2016      140002   \n",
       "12               Mahbubnagar    2019     2534815    2016     8304766   \n",
       "13                Mancherial    2019      269810    2016        7802   \n",
       "14                    Medak     2019     5452570    2016     3463200   \n",
       "15                  Medchal     2019           0    2016           0   \n",
       "16             Nagarkurnool     2019     2093312    2016      588473   \n",
       "17                  Nalgonda    2019      140918    2016     5858461   \n",
       "18                    Nirmal    2019     3816778    2016      916610   \n",
       "19                 Nizamabad    2019       46333    2016        6442   \n",
       "20                Peddapalli    2019       16581    2016        3244   \n",
       "21         Rajanna Sircilla     2019    16832897    2016     2176801   \n",
       "22               Ranga Reddy    2019           0    2016           0   \n",
       "23               Sangareddy     2019     4553160    2016      778000   \n",
       "24                  Siddipet    2019     2987864    2016      358400   \n",
       "25                  Suryapet    2019           0    2016           0   \n",
       "26                 Vikarabad    2019           0    2016           0   \n",
       "27               Wanaparthy     2019      298639    2016       60138   \n",
       "28          Warangal (Rural)    2019      353500    2016       19400   \n",
       "29          Warangal (Urban)    2019     1795230    2016    25788035   \n",
       "30           Yadadri Bhongir    2019     4489374    2016     1728600   \n",
       "\n",
       "             CAGR  \n",
       "0  -46.5304640953  \n",
       "1  143.3875243992  \n",
       "2  -16.1289757396  \n",
       "3   70.4603837242  \n",
       "4  100.7371550634  \n",
       "5   39.6245087581  \n",
       "6   56.5462587469  \n",
       "7   61.4033379457  \n",
       "8  -79.6295500999  \n",
       "9  -34.3919894670  \n",
       "10            inf  \n",
       "11   2.9777849472  \n",
       "12 -32.6703604502  \n",
       "13 225.7997139428  \n",
       "14  16.3343298247  \n",
       "15            NaN  \n",
       "16  52.6519912705  \n",
       "17 -71.1334880766  \n",
       "18  60.8807577394  \n",
       "19  93.0292990146  \n",
       "20  72.2568989544  \n",
       "21  97.7485825746  \n",
       "22            NaN  \n",
       "23  80.2095373161  \n",
       "24 102.7671552477  \n",
       "25            NaN  \n",
       "26            NaN  \n",
       "27  70.6079170250  \n",
       "28 163.1454687567  \n",
       "29 -58.8628738295  \n",
       "30  37.4560182835  "
      ]
     },
     "execution_count": 339,
     "metadata": {},
     "output_type": "execute_result"
    }
   ],
   "source": [
    "result_2"
   ]
  },
  {
   "cell_type": "code",
   "execution_count": 340,
   "metadata": {},
   "outputs": [],
   "source": [
    "r = result_2.groupby('district').max()\n",
    "r\n",
    "m = r.CAGR.sort_values(ascending=False)"
   ]
  },
  {
   "attachments": {},
   "cell_type": "markdown",
   "metadata": {},
   "source": [
    "### Top 3 districts based on CAGR of visitors (2016 - 2019)"
   ]
  },
  {
   "cell_type": "code",
   "execution_count": 341,
   "metadata": {},
   "outputs": [
    {
     "data": {
      "text/html": [
       "<div>\n",
       "<style scoped>\n",
       "    .dataframe tbody tr th:only-of-type {\n",
       "        vertical-align: middle;\n",
       "    }\n",
       "\n",
       "    .dataframe tbody tr th {\n",
       "        vertical-align: top;\n",
       "    }\n",
       "\n",
       "    .dataframe thead th {\n",
       "        text-align: right;\n",
       "    }\n",
       "</style>\n",
       "<table border=\"1\" class=\"dataframe\">\n",
       "  <thead>\n",
       "    <tr style=\"text-align: right;\">\n",
       "      <th></th>\n",
       "      <th>CAGR</th>\n",
       "    </tr>\n",
       "    <tr>\n",
       "      <th>district</th>\n",
       "      <th></th>\n",
       "    </tr>\n",
       "  </thead>\n",
       "  <tbody>\n",
       "    <tr>\n",
       "      <th>Mancherial</th>\n",
       "      <td>225.7997139428</td>\n",
       "    </tr>\n",
       "    <tr>\n",
       "      <th>Warangal (Rural)</th>\n",
       "      <td>163.1454687567</td>\n",
       "    </tr>\n",
       "    <tr>\n",
       "      <th>Bhadradri Kothagudem</th>\n",
       "      <td>143.3875243992</td>\n",
       "    </tr>\n",
       "  </tbody>\n",
       "</table>\n",
       "</div>"
      ],
      "text/plain": [
       "                                CAGR\n",
       "district                            \n",
       "Mancherial            225.7997139428\n",
       "Warangal (Rural)      163.1454687567\n",
       "Bhadradri Kothagudem  143.3875243992"
      ]
     },
     "execution_count": 341,
     "metadata": {},
     "output_type": "execute_result"
    }
   ],
   "source": [
    "top_CAGR = m.iloc[: 4].drop('Komaram Bheem Asifabad')\n",
    "top_CAGR = pd.DataFrame(top_CAGR)\n",
    "top_CAGR\n"
   ]
  },
  {
   "cell_type": "code",
   "execution_count": 342,
   "metadata": {},
   "outputs": [
    {
     "data": {
      "application/vnd.plotly.v1+json": {
       "config": {
        "plotlyServerURL": "https://plot.ly"
       },
       "data": [
        {
         "alignmentgroup": "True",
         "hovertemplate": "CAGR=%{x}<br>district=%{y}<extra></extra>",
         "legendgroup": "",
         "marker": {
          "color": "#636efa",
          "pattern": {
           "shape": ""
          }
         },
         "name": "",
         "offsetgroup": "",
         "orientation": "h",
         "showlegend": false,
         "textposition": "auto",
         "type": "bar",
         "x": [
          225.79971394283592,
          163.14546875673207,
          143.3875243991837
         ],
         "xaxis": "x",
         "y": [
          "Mancherial",
          "Warangal (Rural)",
          "Bhadradri Kothagudem "
         ],
         "yaxis": "y"
        }
       ],
       "layout": {
        "barmode": "relative",
        "legend": {
         "tracegroupgap": 0
        },
        "template": {
         "data": {
          "bar": [
           {
            "error_x": {
             "color": "#2a3f5f"
            },
            "error_y": {
             "color": "#2a3f5f"
            },
            "marker": {
             "line": {
              "color": "#E5ECF6",
              "width": 0.5
             },
             "pattern": {
              "fillmode": "overlay",
              "size": 10,
              "solidity": 0.2
             }
            },
            "type": "bar"
           }
          ],
          "barpolar": [
           {
            "marker": {
             "line": {
              "color": "#E5ECF6",
              "width": 0.5
             },
             "pattern": {
              "fillmode": "overlay",
              "size": 10,
              "solidity": 0.2
             }
            },
            "type": "barpolar"
           }
          ],
          "carpet": [
           {
            "aaxis": {
             "endlinecolor": "#2a3f5f",
             "gridcolor": "white",
             "linecolor": "white",
             "minorgridcolor": "white",
             "startlinecolor": "#2a3f5f"
            },
            "baxis": {
             "endlinecolor": "#2a3f5f",
             "gridcolor": "white",
             "linecolor": "white",
             "minorgridcolor": "white",
             "startlinecolor": "#2a3f5f"
            },
            "type": "carpet"
           }
          ],
          "choropleth": [
           {
            "colorbar": {
             "outlinewidth": 0,
             "ticks": ""
            },
            "type": "choropleth"
           }
          ],
          "contour": [
           {
            "colorbar": {
             "outlinewidth": 0,
             "ticks": ""
            },
            "colorscale": [
             [
              0,
              "#0d0887"
             ],
             [
              0.1111111111111111,
              "#46039f"
             ],
             [
              0.2222222222222222,
              "#7201a8"
             ],
             [
              0.3333333333333333,
              "#9c179e"
             ],
             [
              0.4444444444444444,
              "#bd3786"
             ],
             [
              0.5555555555555556,
              "#d8576b"
             ],
             [
              0.6666666666666666,
              "#ed7953"
             ],
             [
              0.7777777777777778,
              "#fb9f3a"
             ],
             [
              0.8888888888888888,
              "#fdca26"
             ],
             [
              1,
              "#f0f921"
             ]
            ],
            "type": "contour"
           }
          ],
          "contourcarpet": [
           {
            "colorbar": {
             "outlinewidth": 0,
             "ticks": ""
            },
            "type": "contourcarpet"
           }
          ],
          "heatmap": [
           {
            "colorbar": {
             "outlinewidth": 0,
             "ticks": ""
            },
            "colorscale": [
             [
              0,
              "#0d0887"
             ],
             [
              0.1111111111111111,
              "#46039f"
             ],
             [
              0.2222222222222222,
              "#7201a8"
             ],
             [
              0.3333333333333333,
              "#9c179e"
             ],
             [
              0.4444444444444444,
              "#bd3786"
             ],
             [
              0.5555555555555556,
              "#d8576b"
             ],
             [
              0.6666666666666666,
              "#ed7953"
             ],
             [
              0.7777777777777778,
              "#fb9f3a"
             ],
             [
              0.8888888888888888,
              "#fdca26"
             ],
             [
              1,
              "#f0f921"
             ]
            ],
            "type": "heatmap"
           }
          ],
          "heatmapgl": [
           {
            "colorbar": {
             "outlinewidth": 0,
             "ticks": ""
            },
            "colorscale": [
             [
              0,
              "#0d0887"
             ],
             [
              0.1111111111111111,
              "#46039f"
             ],
             [
              0.2222222222222222,
              "#7201a8"
             ],
             [
              0.3333333333333333,
              "#9c179e"
             ],
             [
              0.4444444444444444,
              "#bd3786"
             ],
             [
              0.5555555555555556,
              "#d8576b"
             ],
             [
              0.6666666666666666,
              "#ed7953"
             ],
             [
              0.7777777777777778,
              "#fb9f3a"
             ],
             [
              0.8888888888888888,
              "#fdca26"
             ],
             [
              1,
              "#f0f921"
             ]
            ],
            "type": "heatmapgl"
           }
          ],
          "histogram": [
           {
            "marker": {
             "pattern": {
              "fillmode": "overlay",
              "size": 10,
              "solidity": 0.2
             }
            },
            "type": "histogram"
           }
          ],
          "histogram2d": [
           {
            "colorbar": {
             "outlinewidth": 0,
             "ticks": ""
            },
            "colorscale": [
             [
              0,
              "#0d0887"
             ],
             [
              0.1111111111111111,
              "#46039f"
             ],
             [
              0.2222222222222222,
              "#7201a8"
             ],
             [
              0.3333333333333333,
              "#9c179e"
             ],
             [
              0.4444444444444444,
              "#bd3786"
             ],
             [
              0.5555555555555556,
              "#d8576b"
             ],
             [
              0.6666666666666666,
              "#ed7953"
             ],
             [
              0.7777777777777778,
              "#fb9f3a"
             ],
             [
              0.8888888888888888,
              "#fdca26"
             ],
             [
              1,
              "#f0f921"
             ]
            ],
            "type": "histogram2d"
           }
          ],
          "histogram2dcontour": [
           {
            "colorbar": {
             "outlinewidth": 0,
             "ticks": ""
            },
            "colorscale": [
             [
              0,
              "#0d0887"
             ],
             [
              0.1111111111111111,
              "#46039f"
             ],
             [
              0.2222222222222222,
              "#7201a8"
             ],
             [
              0.3333333333333333,
              "#9c179e"
             ],
             [
              0.4444444444444444,
              "#bd3786"
             ],
             [
              0.5555555555555556,
              "#d8576b"
             ],
             [
              0.6666666666666666,
              "#ed7953"
             ],
             [
              0.7777777777777778,
              "#fb9f3a"
             ],
             [
              0.8888888888888888,
              "#fdca26"
             ],
             [
              1,
              "#f0f921"
             ]
            ],
            "type": "histogram2dcontour"
           }
          ],
          "mesh3d": [
           {
            "colorbar": {
             "outlinewidth": 0,
             "ticks": ""
            },
            "type": "mesh3d"
           }
          ],
          "parcoords": [
           {
            "line": {
             "colorbar": {
              "outlinewidth": 0,
              "ticks": ""
             }
            },
            "type": "parcoords"
           }
          ],
          "pie": [
           {
            "automargin": true,
            "type": "pie"
           }
          ],
          "scatter": [
           {
            "fillpattern": {
             "fillmode": "overlay",
             "size": 10,
             "solidity": 0.2
            },
            "type": "scatter"
           }
          ],
          "scatter3d": [
           {
            "line": {
             "colorbar": {
              "outlinewidth": 0,
              "ticks": ""
             }
            },
            "marker": {
             "colorbar": {
              "outlinewidth": 0,
              "ticks": ""
             }
            },
            "type": "scatter3d"
           }
          ],
          "scattercarpet": [
           {
            "marker": {
             "colorbar": {
              "outlinewidth": 0,
              "ticks": ""
             }
            },
            "type": "scattercarpet"
           }
          ],
          "scattergeo": [
           {
            "marker": {
             "colorbar": {
              "outlinewidth": 0,
              "ticks": ""
             }
            },
            "type": "scattergeo"
           }
          ],
          "scattergl": [
           {
            "marker": {
             "colorbar": {
              "outlinewidth": 0,
              "ticks": ""
             }
            },
            "type": "scattergl"
           }
          ],
          "scattermapbox": [
           {
            "marker": {
             "colorbar": {
              "outlinewidth": 0,
              "ticks": ""
             }
            },
            "type": "scattermapbox"
           }
          ],
          "scatterpolar": [
           {
            "marker": {
             "colorbar": {
              "outlinewidth": 0,
              "ticks": ""
             }
            },
            "type": "scatterpolar"
           }
          ],
          "scatterpolargl": [
           {
            "marker": {
             "colorbar": {
              "outlinewidth": 0,
              "ticks": ""
             }
            },
            "type": "scatterpolargl"
           }
          ],
          "scatterternary": [
           {
            "marker": {
             "colorbar": {
              "outlinewidth": 0,
              "ticks": ""
             }
            },
            "type": "scatterternary"
           }
          ],
          "surface": [
           {
            "colorbar": {
             "outlinewidth": 0,
             "ticks": ""
            },
            "colorscale": [
             [
              0,
              "#0d0887"
             ],
             [
              0.1111111111111111,
              "#46039f"
             ],
             [
              0.2222222222222222,
              "#7201a8"
             ],
             [
              0.3333333333333333,
              "#9c179e"
             ],
             [
              0.4444444444444444,
              "#bd3786"
             ],
             [
              0.5555555555555556,
              "#d8576b"
             ],
             [
              0.6666666666666666,
              "#ed7953"
             ],
             [
              0.7777777777777778,
              "#fb9f3a"
             ],
             [
              0.8888888888888888,
              "#fdca26"
             ],
             [
              1,
              "#f0f921"
             ]
            ],
            "type": "surface"
           }
          ],
          "table": [
           {
            "cells": {
             "fill": {
              "color": "#EBF0F8"
             },
             "line": {
              "color": "white"
             }
            },
            "header": {
             "fill": {
              "color": "#C8D4E3"
             },
             "line": {
              "color": "white"
             }
            },
            "type": "table"
           }
          ]
         },
         "layout": {
          "annotationdefaults": {
           "arrowcolor": "#2a3f5f",
           "arrowhead": 0,
           "arrowwidth": 1
          },
          "autotypenumbers": "strict",
          "coloraxis": {
           "colorbar": {
            "outlinewidth": 0,
            "ticks": ""
           }
          },
          "colorscale": {
           "diverging": [
            [
             0,
             "#8e0152"
            ],
            [
             0.1,
             "#c51b7d"
            ],
            [
             0.2,
             "#de77ae"
            ],
            [
             0.3,
             "#f1b6da"
            ],
            [
             0.4,
             "#fde0ef"
            ],
            [
             0.5,
             "#f7f7f7"
            ],
            [
             0.6,
             "#e6f5d0"
            ],
            [
             0.7,
             "#b8e186"
            ],
            [
             0.8,
             "#7fbc41"
            ],
            [
             0.9,
             "#4d9221"
            ],
            [
             1,
             "#276419"
            ]
           ],
           "sequential": [
            [
             0,
             "#0d0887"
            ],
            [
             0.1111111111111111,
             "#46039f"
            ],
            [
             0.2222222222222222,
             "#7201a8"
            ],
            [
             0.3333333333333333,
             "#9c179e"
            ],
            [
             0.4444444444444444,
             "#bd3786"
            ],
            [
             0.5555555555555556,
             "#d8576b"
            ],
            [
             0.6666666666666666,
             "#ed7953"
            ],
            [
             0.7777777777777778,
             "#fb9f3a"
            ],
            [
             0.8888888888888888,
             "#fdca26"
            ],
            [
             1,
             "#f0f921"
            ]
           ],
           "sequentialminus": [
            [
             0,
             "#0d0887"
            ],
            [
             0.1111111111111111,
             "#46039f"
            ],
            [
             0.2222222222222222,
             "#7201a8"
            ],
            [
             0.3333333333333333,
             "#9c179e"
            ],
            [
             0.4444444444444444,
             "#bd3786"
            ],
            [
             0.5555555555555556,
             "#d8576b"
            ],
            [
             0.6666666666666666,
             "#ed7953"
            ],
            [
             0.7777777777777778,
             "#fb9f3a"
            ],
            [
             0.8888888888888888,
             "#fdca26"
            ],
            [
             1,
             "#f0f921"
            ]
           ]
          },
          "colorway": [
           "#636efa",
           "#EF553B",
           "#00cc96",
           "#ab63fa",
           "#FFA15A",
           "#19d3f3",
           "#FF6692",
           "#B6E880",
           "#FF97FF",
           "#FECB52"
          ],
          "font": {
           "color": "#2a3f5f"
          },
          "geo": {
           "bgcolor": "white",
           "lakecolor": "white",
           "landcolor": "#E5ECF6",
           "showlakes": true,
           "showland": true,
           "subunitcolor": "white"
          },
          "hoverlabel": {
           "align": "left"
          },
          "hovermode": "closest",
          "mapbox": {
           "style": "light"
          },
          "paper_bgcolor": "white",
          "plot_bgcolor": "#E5ECF6",
          "polar": {
           "angularaxis": {
            "gridcolor": "white",
            "linecolor": "white",
            "ticks": ""
           },
           "bgcolor": "#E5ECF6",
           "radialaxis": {
            "gridcolor": "white",
            "linecolor": "white",
            "ticks": ""
           }
          },
          "scene": {
           "xaxis": {
            "backgroundcolor": "#E5ECF6",
            "gridcolor": "white",
            "gridwidth": 2,
            "linecolor": "white",
            "showbackground": true,
            "ticks": "",
            "zerolinecolor": "white"
           },
           "yaxis": {
            "backgroundcolor": "#E5ECF6",
            "gridcolor": "white",
            "gridwidth": 2,
            "linecolor": "white",
            "showbackground": true,
            "ticks": "",
            "zerolinecolor": "white"
           },
           "zaxis": {
            "backgroundcolor": "#E5ECF6",
            "gridcolor": "white",
            "gridwidth": 2,
            "linecolor": "white",
            "showbackground": true,
            "ticks": "",
            "zerolinecolor": "white"
           }
          },
          "shapedefaults": {
           "line": {
            "color": "#2a3f5f"
           }
          },
          "ternary": {
           "aaxis": {
            "gridcolor": "white",
            "linecolor": "white",
            "ticks": ""
           },
           "baxis": {
            "gridcolor": "white",
            "linecolor": "white",
            "ticks": ""
           },
           "bgcolor": "#E5ECF6",
           "caxis": {
            "gridcolor": "white",
            "linecolor": "white",
            "ticks": ""
           }
          },
          "title": {
           "x": 0.05
          },
          "xaxis": {
           "automargin": true,
           "gridcolor": "white",
           "linecolor": "white",
           "ticks": "",
           "title": {
            "standoff": 15
           },
           "zerolinecolor": "white",
           "zerolinewidth": 2
          },
          "yaxis": {
           "automargin": true,
           "gridcolor": "white",
           "linecolor": "white",
           "ticks": "",
           "title": {
            "standoff": 15
           },
           "zerolinecolor": "white",
           "zerolinewidth": 2
          }
         }
        },
        "title": {
         "text": "Districts with increasing growth rate (in %)"
        },
        "xaxis": {
         "anchor": "y",
         "domain": [
          0,
          1
         ],
         "title": {
          "text": "CAGR"
         }
        },
        "yaxis": {
         "anchor": "x",
         "domain": [
          0,
          1
         ],
         "title": {
          "text": "district"
         }
        }
       }
      }
     },
     "metadata": {},
     "output_type": "display_data"
    }
   ],
   "source": [
    "px.bar(top_CAGR,\n",
    "       x='CAGR',\n",
    "       title='Districts with increasing growth rate (in %)')\n"
   ]
  },
  {
   "attachments": {},
   "cell_type": "markdown",
   "metadata": {},
   "source": [
    "### Bottom 3 districts based on CAGR of visitors (2016 - 2019)"
   ]
  },
  {
   "cell_type": "code",
   "execution_count": 343,
   "metadata": {},
   "outputs": [
    {
     "data": {
      "text/html": [
       "<div>\n",
       "<style scoped>\n",
       "    .dataframe tbody tr th:only-of-type {\n",
       "        vertical-align: middle;\n",
       "    }\n",
       "\n",
       "    .dataframe tbody tr th {\n",
       "        vertical-align: top;\n",
       "    }\n",
       "\n",
       "    .dataframe thead th {\n",
       "        text-align: right;\n",
       "    }\n",
       "</style>\n",
       "<table border=\"1\" class=\"dataframe\">\n",
       "  <thead>\n",
       "    <tr style=\"text-align: right;\">\n",
       "      <th></th>\n",
       "      <th>CAGR</th>\n",
       "    </tr>\n",
       "    <tr>\n",
       "      <th>district</th>\n",
       "      <th></th>\n",
       "    </tr>\n",
       "  </thead>\n",
       "  <tbody>\n",
       "    <tr>\n",
       "      <th>Karimnagar</th>\n",
       "      <td>-79.6295500999</td>\n",
       "    </tr>\n",
       "    <tr>\n",
       "      <th>Nalgonda</th>\n",
       "      <td>-71.1334880766</td>\n",
       "    </tr>\n",
       "    <tr>\n",
       "      <th>Warangal (Urban)</th>\n",
       "      <td>-58.8628738295</td>\n",
       "    </tr>\n",
       "  </tbody>\n",
       "</table>\n",
       "</div>"
      ],
      "text/plain": [
       "                           CAGR\n",
       "district                       \n",
       "Karimnagar       -79.6295500999\n",
       "Nalgonda         -71.1334880766\n",
       "Warangal (Urban) -58.8628738295"
      ]
     },
     "execution_count": 343,
     "metadata": {},
     "output_type": "execute_result"
    }
   ],
   "source": [
    "n = r.CAGR.sort_values(ascending=True)\n",
    "bottom_CAGR = n.iloc[ : 3]\n",
    "bottom_CAGR = pd.DataFrame(bottom_CAGR)\n",
    "bottom_CAGR\n"
   ]
  },
  {
   "cell_type": "code",
   "execution_count": 344,
   "metadata": {},
   "outputs": [
    {
     "data": {
      "application/vnd.plotly.v1+json": {
       "config": {
        "plotlyServerURL": "https://plot.ly"
       },
       "data": [
        {
         "alignmentgroup": "True",
         "hovertemplate": "CAGR=%{x}<br>district=%{y}<extra></extra>",
         "legendgroup": "",
         "marker": {
          "color": "#636efa",
          "pattern": {
           "shape": ""
          }
         },
         "name": "",
         "offsetgroup": "",
         "orientation": "h",
         "showlegend": false,
         "textposition": "auto",
         "type": "bar",
         "x": [
          -79.62955009992503,
          -71.13348807658994,
          -58.8628738295105
         ],
         "xaxis": "x",
         "y": [
          "Karimnagar ",
          "Nalgonda",
          "Warangal (Urban)"
         ],
         "yaxis": "y"
        }
       ],
       "layout": {
        "barmode": "relative",
        "legend": {
         "tracegroupgap": 0
        },
        "template": {
         "data": {
          "bar": [
           {
            "error_x": {
             "color": "#2a3f5f"
            },
            "error_y": {
             "color": "#2a3f5f"
            },
            "marker": {
             "line": {
              "color": "#E5ECF6",
              "width": 0.5
             },
             "pattern": {
              "fillmode": "overlay",
              "size": 10,
              "solidity": 0.2
             }
            },
            "type": "bar"
           }
          ],
          "barpolar": [
           {
            "marker": {
             "line": {
              "color": "#E5ECF6",
              "width": 0.5
             },
             "pattern": {
              "fillmode": "overlay",
              "size": 10,
              "solidity": 0.2
             }
            },
            "type": "barpolar"
           }
          ],
          "carpet": [
           {
            "aaxis": {
             "endlinecolor": "#2a3f5f",
             "gridcolor": "white",
             "linecolor": "white",
             "minorgridcolor": "white",
             "startlinecolor": "#2a3f5f"
            },
            "baxis": {
             "endlinecolor": "#2a3f5f",
             "gridcolor": "white",
             "linecolor": "white",
             "minorgridcolor": "white",
             "startlinecolor": "#2a3f5f"
            },
            "type": "carpet"
           }
          ],
          "choropleth": [
           {
            "colorbar": {
             "outlinewidth": 0,
             "ticks": ""
            },
            "type": "choropleth"
           }
          ],
          "contour": [
           {
            "colorbar": {
             "outlinewidth": 0,
             "ticks": ""
            },
            "colorscale": [
             [
              0,
              "#0d0887"
             ],
             [
              0.1111111111111111,
              "#46039f"
             ],
             [
              0.2222222222222222,
              "#7201a8"
             ],
             [
              0.3333333333333333,
              "#9c179e"
             ],
             [
              0.4444444444444444,
              "#bd3786"
             ],
             [
              0.5555555555555556,
              "#d8576b"
             ],
             [
              0.6666666666666666,
              "#ed7953"
             ],
             [
              0.7777777777777778,
              "#fb9f3a"
             ],
             [
              0.8888888888888888,
              "#fdca26"
             ],
             [
              1,
              "#f0f921"
             ]
            ],
            "type": "contour"
           }
          ],
          "contourcarpet": [
           {
            "colorbar": {
             "outlinewidth": 0,
             "ticks": ""
            },
            "type": "contourcarpet"
           }
          ],
          "heatmap": [
           {
            "colorbar": {
             "outlinewidth": 0,
             "ticks": ""
            },
            "colorscale": [
             [
              0,
              "#0d0887"
             ],
             [
              0.1111111111111111,
              "#46039f"
             ],
             [
              0.2222222222222222,
              "#7201a8"
             ],
             [
              0.3333333333333333,
              "#9c179e"
             ],
             [
              0.4444444444444444,
              "#bd3786"
             ],
             [
              0.5555555555555556,
              "#d8576b"
             ],
             [
              0.6666666666666666,
              "#ed7953"
             ],
             [
              0.7777777777777778,
              "#fb9f3a"
             ],
             [
              0.8888888888888888,
              "#fdca26"
             ],
             [
              1,
              "#f0f921"
             ]
            ],
            "type": "heatmap"
           }
          ],
          "heatmapgl": [
           {
            "colorbar": {
             "outlinewidth": 0,
             "ticks": ""
            },
            "colorscale": [
             [
              0,
              "#0d0887"
             ],
             [
              0.1111111111111111,
              "#46039f"
             ],
             [
              0.2222222222222222,
              "#7201a8"
             ],
             [
              0.3333333333333333,
              "#9c179e"
             ],
             [
              0.4444444444444444,
              "#bd3786"
             ],
             [
              0.5555555555555556,
              "#d8576b"
             ],
             [
              0.6666666666666666,
              "#ed7953"
             ],
             [
              0.7777777777777778,
              "#fb9f3a"
             ],
             [
              0.8888888888888888,
              "#fdca26"
             ],
             [
              1,
              "#f0f921"
             ]
            ],
            "type": "heatmapgl"
           }
          ],
          "histogram": [
           {
            "marker": {
             "pattern": {
              "fillmode": "overlay",
              "size": 10,
              "solidity": 0.2
             }
            },
            "type": "histogram"
           }
          ],
          "histogram2d": [
           {
            "colorbar": {
             "outlinewidth": 0,
             "ticks": ""
            },
            "colorscale": [
             [
              0,
              "#0d0887"
             ],
             [
              0.1111111111111111,
              "#46039f"
             ],
             [
              0.2222222222222222,
              "#7201a8"
             ],
             [
              0.3333333333333333,
              "#9c179e"
             ],
             [
              0.4444444444444444,
              "#bd3786"
             ],
             [
              0.5555555555555556,
              "#d8576b"
             ],
             [
              0.6666666666666666,
              "#ed7953"
             ],
             [
              0.7777777777777778,
              "#fb9f3a"
             ],
             [
              0.8888888888888888,
              "#fdca26"
             ],
             [
              1,
              "#f0f921"
             ]
            ],
            "type": "histogram2d"
           }
          ],
          "histogram2dcontour": [
           {
            "colorbar": {
             "outlinewidth": 0,
             "ticks": ""
            },
            "colorscale": [
             [
              0,
              "#0d0887"
             ],
             [
              0.1111111111111111,
              "#46039f"
             ],
             [
              0.2222222222222222,
              "#7201a8"
             ],
             [
              0.3333333333333333,
              "#9c179e"
             ],
             [
              0.4444444444444444,
              "#bd3786"
             ],
             [
              0.5555555555555556,
              "#d8576b"
             ],
             [
              0.6666666666666666,
              "#ed7953"
             ],
             [
              0.7777777777777778,
              "#fb9f3a"
             ],
             [
              0.8888888888888888,
              "#fdca26"
             ],
             [
              1,
              "#f0f921"
             ]
            ],
            "type": "histogram2dcontour"
           }
          ],
          "mesh3d": [
           {
            "colorbar": {
             "outlinewidth": 0,
             "ticks": ""
            },
            "type": "mesh3d"
           }
          ],
          "parcoords": [
           {
            "line": {
             "colorbar": {
              "outlinewidth": 0,
              "ticks": ""
             }
            },
            "type": "parcoords"
           }
          ],
          "pie": [
           {
            "automargin": true,
            "type": "pie"
           }
          ],
          "scatter": [
           {
            "fillpattern": {
             "fillmode": "overlay",
             "size": 10,
             "solidity": 0.2
            },
            "type": "scatter"
           }
          ],
          "scatter3d": [
           {
            "line": {
             "colorbar": {
              "outlinewidth": 0,
              "ticks": ""
             }
            },
            "marker": {
             "colorbar": {
              "outlinewidth": 0,
              "ticks": ""
             }
            },
            "type": "scatter3d"
           }
          ],
          "scattercarpet": [
           {
            "marker": {
             "colorbar": {
              "outlinewidth": 0,
              "ticks": ""
             }
            },
            "type": "scattercarpet"
           }
          ],
          "scattergeo": [
           {
            "marker": {
             "colorbar": {
              "outlinewidth": 0,
              "ticks": ""
             }
            },
            "type": "scattergeo"
           }
          ],
          "scattergl": [
           {
            "marker": {
             "colorbar": {
              "outlinewidth": 0,
              "ticks": ""
             }
            },
            "type": "scattergl"
           }
          ],
          "scattermapbox": [
           {
            "marker": {
             "colorbar": {
              "outlinewidth": 0,
              "ticks": ""
             }
            },
            "type": "scattermapbox"
           }
          ],
          "scatterpolar": [
           {
            "marker": {
             "colorbar": {
              "outlinewidth": 0,
              "ticks": ""
             }
            },
            "type": "scatterpolar"
           }
          ],
          "scatterpolargl": [
           {
            "marker": {
             "colorbar": {
              "outlinewidth": 0,
              "ticks": ""
             }
            },
            "type": "scatterpolargl"
           }
          ],
          "scatterternary": [
           {
            "marker": {
             "colorbar": {
              "outlinewidth": 0,
              "ticks": ""
             }
            },
            "type": "scatterternary"
           }
          ],
          "surface": [
           {
            "colorbar": {
             "outlinewidth": 0,
             "ticks": ""
            },
            "colorscale": [
             [
              0,
              "#0d0887"
             ],
             [
              0.1111111111111111,
              "#46039f"
             ],
             [
              0.2222222222222222,
              "#7201a8"
             ],
             [
              0.3333333333333333,
              "#9c179e"
             ],
             [
              0.4444444444444444,
              "#bd3786"
             ],
             [
              0.5555555555555556,
              "#d8576b"
             ],
             [
              0.6666666666666666,
              "#ed7953"
             ],
             [
              0.7777777777777778,
              "#fb9f3a"
             ],
             [
              0.8888888888888888,
              "#fdca26"
             ],
             [
              1,
              "#f0f921"
             ]
            ],
            "type": "surface"
           }
          ],
          "table": [
           {
            "cells": {
             "fill": {
              "color": "#EBF0F8"
             },
             "line": {
              "color": "white"
             }
            },
            "header": {
             "fill": {
              "color": "#C8D4E3"
             },
             "line": {
              "color": "white"
             }
            },
            "type": "table"
           }
          ]
         },
         "layout": {
          "annotationdefaults": {
           "arrowcolor": "#2a3f5f",
           "arrowhead": 0,
           "arrowwidth": 1
          },
          "autotypenumbers": "strict",
          "coloraxis": {
           "colorbar": {
            "outlinewidth": 0,
            "ticks": ""
           }
          },
          "colorscale": {
           "diverging": [
            [
             0,
             "#8e0152"
            ],
            [
             0.1,
             "#c51b7d"
            ],
            [
             0.2,
             "#de77ae"
            ],
            [
             0.3,
             "#f1b6da"
            ],
            [
             0.4,
             "#fde0ef"
            ],
            [
             0.5,
             "#f7f7f7"
            ],
            [
             0.6,
             "#e6f5d0"
            ],
            [
             0.7,
             "#b8e186"
            ],
            [
             0.8,
             "#7fbc41"
            ],
            [
             0.9,
             "#4d9221"
            ],
            [
             1,
             "#276419"
            ]
           ],
           "sequential": [
            [
             0,
             "#0d0887"
            ],
            [
             0.1111111111111111,
             "#46039f"
            ],
            [
             0.2222222222222222,
             "#7201a8"
            ],
            [
             0.3333333333333333,
             "#9c179e"
            ],
            [
             0.4444444444444444,
             "#bd3786"
            ],
            [
             0.5555555555555556,
             "#d8576b"
            ],
            [
             0.6666666666666666,
             "#ed7953"
            ],
            [
             0.7777777777777778,
             "#fb9f3a"
            ],
            [
             0.8888888888888888,
             "#fdca26"
            ],
            [
             1,
             "#f0f921"
            ]
           ],
           "sequentialminus": [
            [
             0,
             "#0d0887"
            ],
            [
             0.1111111111111111,
             "#46039f"
            ],
            [
             0.2222222222222222,
             "#7201a8"
            ],
            [
             0.3333333333333333,
             "#9c179e"
            ],
            [
             0.4444444444444444,
             "#bd3786"
            ],
            [
             0.5555555555555556,
             "#d8576b"
            ],
            [
             0.6666666666666666,
             "#ed7953"
            ],
            [
             0.7777777777777778,
             "#fb9f3a"
            ],
            [
             0.8888888888888888,
             "#fdca26"
            ],
            [
             1,
             "#f0f921"
            ]
           ]
          },
          "colorway": [
           "#636efa",
           "#EF553B",
           "#00cc96",
           "#ab63fa",
           "#FFA15A",
           "#19d3f3",
           "#FF6692",
           "#B6E880",
           "#FF97FF",
           "#FECB52"
          ],
          "font": {
           "color": "#2a3f5f"
          },
          "geo": {
           "bgcolor": "white",
           "lakecolor": "white",
           "landcolor": "#E5ECF6",
           "showlakes": true,
           "showland": true,
           "subunitcolor": "white"
          },
          "hoverlabel": {
           "align": "left"
          },
          "hovermode": "closest",
          "mapbox": {
           "style": "light"
          },
          "paper_bgcolor": "white",
          "plot_bgcolor": "#E5ECF6",
          "polar": {
           "angularaxis": {
            "gridcolor": "white",
            "linecolor": "white",
            "ticks": ""
           },
           "bgcolor": "#E5ECF6",
           "radialaxis": {
            "gridcolor": "white",
            "linecolor": "white",
            "ticks": ""
           }
          },
          "scene": {
           "xaxis": {
            "backgroundcolor": "#E5ECF6",
            "gridcolor": "white",
            "gridwidth": 2,
            "linecolor": "white",
            "showbackground": true,
            "ticks": "",
            "zerolinecolor": "white"
           },
           "yaxis": {
            "backgroundcolor": "#E5ECF6",
            "gridcolor": "white",
            "gridwidth": 2,
            "linecolor": "white",
            "showbackground": true,
            "ticks": "",
            "zerolinecolor": "white"
           },
           "zaxis": {
            "backgroundcolor": "#E5ECF6",
            "gridcolor": "white",
            "gridwidth": 2,
            "linecolor": "white",
            "showbackground": true,
            "ticks": "",
            "zerolinecolor": "white"
           }
          },
          "shapedefaults": {
           "line": {
            "color": "#2a3f5f"
           }
          },
          "ternary": {
           "aaxis": {
            "gridcolor": "white",
            "linecolor": "white",
            "ticks": ""
           },
           "baxis": {
            "gridcolor": "white",
            "linecolor": "white",
            "ticks": ""
           },
           "bgcolor": "#E5ECF6",
           "caxis": {
            "gridcolor": "white",
            "linecolor": "white",
            "ticks": ""
           }
          },
          "title": {
           "x": 0.05
          },
          "xaxis": {
           "automargin": true,
           "gridcolor": "white",
           "linecolor": "white",
           "ticks": "",
           "title": {
            "standoff": 15
           },
           "zerolinecolor": "white",
           "zerolinewidth": 2
          },
          "yaxis": {
           "automargin": true,
           "gridcolor": "white",
           "linecolor": "white",
           "ticks": "",
           "title": {
            "standoff": 15
           },
           "zerolinecolor": "white",
           "zerolinewidth": 2
          }
         }
        },
        "title": {
         "text": "Districts with declining growth rate (in %)"
        },
        "xaxis": {
         "anchor": "y",
         "domain": [
          0,
          1
         ],
         "title": {
          "text": "CAGR"
         }
        },
        "yaxis": {
         "anchor": "x",
         "domain": [
          0,
          1
         ],
         "title": {
          "text": "district"
         }
        }
       }
      }
     },
     "metadata": {},
     "output_type": "display_data"
    }
   ],
   "source": [
    "px.bar(bottom_CAGR,\n",
    "       x='CAGR',\n",
    "       title='Districts with declining growth rate (in %)')\n"
   ]
  },
  {
   "attachments": {},
   "cell_type": "markdown",
   "metadata": {},
   "source": [
    "### Peak and Low Season Months Hyperabad"
   ]
  },
  {
   "cell_type": "code",
   "execution_count": 45,
   "metadata": {},
   "outputs": [
    {
     "data": {
      "text/html": [
       "<div>\n",
       "<style scoped>\n",
       "    .dataframe tbody tr th:only-of-type {\n",
       "        vertical-align: middle;\n",
       "    }\n",
       "\n",
       "    .dataframe tbody tr th {\n",
       "        vertical-align: top;\n",
       "    }\n",
       "\n",
       "    .dataframe thead th {\n",
       "        text-align: right;\n",
       "    }\n",
       "</style>\n",
       "<table border=\"1\" class=\"dataframe\">\n",
       "  <thead>\n",
       "    <tr style=\"text-align: right;\">\n",
       "      <th></th>\n",
       "      <th>date</th>\n",
       "      <th>month</th>\n",
       "      <th>visitors</th>\n",
       "      <th>year</th>\n",
       "    </tr>\n",
       "    <tr>\n",
       "      <th>district</th>\n",
       "      <th></th>\n",
       "      <th></th>\n",
       "      <th></th>\n",
       "      <th></th>\n",
       "    </tr>\n",
       "  </thead>\n",
       "  <tbody>\n",
       "    <tr>\n",
       "      <th>Hyderabad</th>\n",
       "      <td>01-08-2016</td>\n",
       "      <td>August</td>\n",
       "      <td>1061137</td>\n",
       "      <td>2016</td>\n",
       "    </tr>\n",
       "    <tr>\n",
       "      <th>Hyderabad</th>\n",
       "      <td>01-01-2016</td>\n",
       "      <td>January</td>\n",
       "      <td>1122510</td>\n",
       "      <td>2016</td>\n",
       "    </tr>\n",
       "    <tr>\n",
       "      <th>Hyderabad</th>\n",
       "      <td>01-02-2016</td>\n",
       "      <td>February</td>\n",
       "      <td>778748</td>\n",
       "      <td>2016</td>\n",
       "    </tr>\n",
       "    <tr>\n",
       "      <th>Hyderabad</th>\n",
       "      <td>01-03-2016</td>\n",
       "      <td>March</td>\n",
       "      <td>1017794</td>\n",
       "      <td>2016</td>\n",
       "    </tr>\n",
       "    <tr>\n",
       "      <th>Hyderabad</th>\n",
       "      <td>01-04-2016</td>\n",
       "      <td>April</td>\n",
       "      <td>1127738</td>\n",
       "      <td>2016</td>\n",
       "    </tr>\n",
       "    <tr>\n",
       "      <th>Hyderabad</th>\n",
       "      <td>01-09-2016</td>\n",
       "      <td>September</td>\n",
       "      <td>832987</td>\n",
       "      <td>2016</td>\n",
       "    </tr>\n",
       "    <tr>\n",
       "      <th>Hyderabad</th>\n",
       "      <td>01-06-2016</td>\n",
       "      <td>June</td>\n",
       "      <td>12032661</td>\n",
       "      <td>2016</td>\n",
       "    </tr>\n",
       "    <tr>\n",
       "      <th>Hyderabad</th>\n",
       "      <td>01-07-2016</td>\n",
       "      <td>July</td>\n",
       "      <td>1096754</td>\n",
       "      <td>2016</td>\n",
       "    </tr>\n",
       "    <tr>\n",
       "      <th>Hyderabad</th>\n",
       "      <td>01-10-2016</td>\n",
       "      <td>October</td>\n",
       "      <td>901960</td>\n",
       "      <td>2016</td>\n",
       "    </tr>\n",
       "    <tr>\n",
       "      <th>Hyderabad</th>\n",
       "      <td>01-05-2016</td>\n",
       "      <td>May</td>\n",
       "      <td>1287181</td>\n",
       "      <td>2016</td>\n",
       "    </tr>\n",
       "    <tr>\n",
       "      <th>Hyderabad</th>\n",
       "      <td>01-12-2017</td>\n",
       "      <td>December</td>\n",
       "      <td>4871416</td>\n",
       "      <td>2017</td>\n",
       "    </tr>\n",
       "    <tr>\n",
       "      <th>Hyderabad</th>\n",
       "      <td>01-10-2017</td>\n",
       "      <td>October</td>\n",
       "      <td>2202316</td>\n",
       "      <td>2017</td>\n",
       "    </tr>\n",
       "    <tr>\n",
       "      <th>Hyderabad</th>\n",
       "      <td>01-09-2017</td>\n",
       "      <td>September</td>\n",
       "      <td>2011280</td>\n",
       "      <td>2017</td>\n",
       "    </tr>\n",
       "    <tr>\n",
       "      <th>Hyderabad</th>\n",
       "      <td>01-08-2017</td>\n",
       "      <td>August</td>\n",
       "      <td>1976980</td>\n",
       "      <td>2017</td>\n",
       "    </tr>\n",
       "    <tr>\n",
       "      <th>Hyderabad</th>\n",
       "      <td>01-07-2017</td>\n",
       "      <td>July</td>\n",
       "      <td>1890870</td>\n",
       "      <td>2017</td>\n",
       "    </tr>\n",
       "    <tr>\n",
       "      <th>Hyderabad</th>\n",
       "      <td>01-06-2017</td>\n",
       "      <td>June</td>\n",
       "      <td>2007060</td>\n",
       "      <td>2017</td>\n",
       "    </tr>\n",
       "    <tr>\n",
       "      <th>Hyderabad</th>\n",
       "      <td>01-05-2017</td>\n",
       "      <td>May</td>\n",
       "      <td>2266793</td>\n",
       "      <td>2017</td>\n",
       "    </tr>\n",
       "    <tr>\n",
       "      <th>Hyderabad</th>\n",
       "      <td>01-04-2017</td>\n",
       "      <td>April</td>\n",
       "      <td>2366793</td>\n",
       "      <td>2017</td>\n",
       "    </tr>\n",
       "    <tr>\n",
       "      <th>Hyderabad</th>\n",
       "      <td>01-03-2017</td>\n",
       "      <td>March</td>\n",
       "      <td>1783903</td>\n",
       "      <td>2017</td>\n",
       "    </tr>\n",
       "    <tr>\n",
       "      <th>Hyderabad</th>\n",
       "      <td>01-01-2017</td>\n",
       "      <td>January</td>\n",
       "      <td>1924695</td>\n",
       "      <td>2017</td>\n",
       "    </tr>\n",
       "    <tr>\n",
       "      <th>Hyderabad</th>\n",
       "      <td>01-02-2017</td>\n",
       "      <td>February</td>\n",
       "      <td>1886698</td>\n",
       "      <td>2017</td>\n",
       "    </tr>\n",
       "    <tr>\n",
       "      <th>Hyderabad</th>\n",
       "      <td>01-11-2017</td>\n",
       "      <td>November</td>\n",
       "      <td>1971438</td>\n",
       "      <td>2017</td>\n",
       "    </tr>\n",
       "    <tr>\n",
       "      <th>Hyderabad</th>\n",
       "      <td>01-07-2018</td>\n",
       "      <td>July</td>\n",
       "      <td>1470042</td>\n",
       "      <td>2018</td>\n",
       "    </tr>\n",
       "    <tr>\n",
       "      <th>Hyderabad</th>\n",
       "      <td>01-02-2018</td>\n",
       "      <td>February</td>\n",
       "      <td>1365837</td>\n",
       "      <td>2018</td>\n",
       "    </tr>\n",
       "    <tr>\n",
       "      <th>Hyderabad</th>\n",
       "      <td>01-11-2016</td>\n",
       "      <td>November</td>\n",
       "      <td>909733</td>\n",
       "      <td>2016</td>\n",
       "    </tr>\n",
       "    <tr>\n",
       "      <th>Hyderabad</th>\n",
       "      <td>01-12-2019</td>\n",
       "      <td>December</td>\n",
       "      <td>1277569</td>\n",
       "      <td>2019</td>\n",
       "    </tr>\n",
       "    <tr>\n",
       "      <th>Hyderabad</th>\n",
       "      <td>01-11-2019</td>\n",
       "      <td>November</td>\n",
       "      <td>1073665</td>\n",
       "      <td>2019</td>\n",
       "    </tr>\n",
       "    <tr>\n",
       "      <th>Hyderabad</th>\n",
       "      <td>01-10-2019</td>\n",
       "      <td>October</td>\n",
       "      <td>1240643</td>\n",
       "      <td>2019</td>\n",
       "    </tr>\n",
       "    <tr>\n",
       "      <th>Hyderabad</th>\n",
       "      <td>01-09-2019</td>\n",
       "      <td>September</td>\n",
       "      <td>959930</td>\n",
       "      <td>2019</td>\n",
       "    </tr>\n",
       "    <tr>\n",
       "      <th>Hyderabad</th>\n",
       "      <td>01-08-2019</td>\n",
       "      <td>August</td>\n",
       "      <td>1121380</td>\n",
       "      <td>2019</td>\n",
       "    </tr>\n",
       "    <tr>\n",
       "      <th>Hyderabad</th>\n",
       "      <td>01-07-2019</td>\n",
       "      <td>July</td>\n",
       "      <td>1094861</td>\n",
       "      <td>2019</td>\n",
       "    </tr>\n",
       "    <tr>\n",
       "      <th>Hyderabad</th>\n",
       "      <td>01-06-2019</td>\n",
       "      <td>June</td>\n",
       "      <td>1262995</td>\n",
       "      <td>2019</td>\n",
       "    </tr>\n",
       "    <tr>\n",
       "      <th>Hyderabad</th>\n",
       "      <td>01-05-2019</td>\n",
       "      <td>May</td>\n",
       "      <td>1305748</td>\n",
       "      <td>2019</td>\n",
       "    </tr>\n",
       "    <tr>\n",
       "      <th>Hyderabad</th>\n",
       "      <td>01-04-2019</td>\n",
       "      <td>April</td>\n",
       "      <td>1045933</td>\n",
       "      <td>2019</td>\n",
       "    </tr>\n",
       "    <tr>\n",
       "      <th>Hyderabad</th>\n",
       "      <td>01-03-2019</td>\n",
       "      <td>March</td>\n",
       "      <td>1009991</td>\n",
       "      <td>2019</td>\n",
       "    </tr>\n",
       "    <tr>\n",
       "      <th>Hyderabad</th>\n",
       "      <td>01-02-2019</td>\n",
       "      <td>February</td>\n",
       "      <td>983147</td>\n",
       "      <td>2019</td>\n",
       "    </tr>\n",
       "    <tr>\n",
       "      <th>Hyderabad</th>\n",
       "      <td>01-01-2019</td>\n",
       "      <td>January</td>\n",
       "      <td>1426500</td>\n",
       "      <td>2019</td>\n",
       "    </tr>\n",
       "    <tr>\n",
       "      <th>Hyderabad</th>\n",
       "      <td>01-01-2018</td>\n",
       "      <td>January</td>\n",
       "      <td>1978396</td>\n",
       "      <td>2018</td>\n",
       "    </tr>\n",
       "    <tr>\n",
       "      <th>Hyderabad</th>\n",
       "      <td>01-12-2016</td>\n",
       "      <td>December</td>\n",
       "      <td>1225502</td>\n",
       "      <td>2016</td>\n",
       "    </tr>\n",
       "    <tr>\n",
       "      <th>Hyderabad</th>\n",
       "      <td>01-12-2018</td>\n",
       "      <td>December</td>\n",
       "      <td>1964150</td>\n",
       "      <td>2018</td>\n",
       "    </tr>\n",
       "    <tr>\n",
       "      <th>Hyderabad</th>\n",
       "      <td>01-09-2018</td>\n",
       "      <td>September</td>\n",
       "      <td>1508086</td>\n",
       "      <td>2018</td>\n",
       "    </tr>\n",
       "    <tr>\n",
       "      <th>Hyderabad</th>\n",
       "      <td>01-08-2018</td>\n",
       "      <td>August</td>\n",
       "      <td>1591470</td>\n",
       "      <td>2018</td>\n",
       "    </tr>\n",
       "    <tr>\n",
       "      <th>Hyderabad</th>\n",
       "      <td>01-06-2018</td>\n",
       "      <td>June</td>\n",
       "      <td>1595067</td>\n",
       "      <td>2018</td>\n",
       "    </tr>\n",
       "    <tr>\n",
       "      <th>Hyderabad</th>\n",
       "      <td>01-05-2018</td>\n",
       "      <td>May</td>\n",
       "      <td>1189492</td>\n",
       "      <td>2018</td>\n",
       "    </tr>\n",
       "    <tr>\n",
       "      <th>Hyderabad</th>\n",
       "      <td>01-04-2018</td>\n",
       "      <td>April</td>\n",
       "      <td>1586375</td>\n",
       "      <td>2018</td>\n",
       "    </tr>\n",
       "    <tr>\n",
       "      <th>Hyderabad</th>\n",
       "      <td>01-03-2018</td>\n",
       "      <td>March</td>\n",
       "      <td>1415938</td>\n",
       "      <td>2018</td>\n",
       "    </tr>\n",
       "    <tr>\n",
       "      <th>Hyderabad</th>\n",
       "      <td>01-10-2018</td>\n",
       "      <td>October</td>\n",
       "      <td>2207478</td>\n",
       "      <td>2018</td>\n",
       "    </tr>\n",
       "    <tr>\n",
       "      <th>Hyderabad</th>\n",
       "      <td>01-11-2018</td>\n",
       "      <td>November</td>\n",
       "      <td>1671320</td>\n",
       "      <td>2018</td>\n",
       "    </tr>\n",
       "  </tbody>\n",
       "</table>\n",
       "</div>"
      ],
      "text/plain": [
       "                 date      month  visitors  year\n",
       "district                                        \n",
       "Hyderabad  01-08-2016     August   1061137  2016\n",
       "Hyderabad  01-01-2016    January   1122510  2016\n",
       "Hyderabad  01-02-2016   February    778748  2016\n",
       "Hyderabad  01-03-2016      March   1017794  2016\n",
       "Hyderabad  01-04-2016      April   1127738  2016\n",
       "Hyderabad  01-09-2016  September    832987  2016\n",
       "Hyderabad  01-06-2016       June  12032661  2016\n",
       "Hyderabad  01-07-2016       July   1096754  2016\n",
       "Hyderabad  01-10-2016    October    901960  2016\n",
       "Hyderabad  01-05-2016        May   1287181  2016\n",
       "Hyderabad  01-12-2017   December   4871416  2017\n",
       "Hyderabad  01-10-2017    October   2202316  2017\n",
       "Hyderabad  01-09-2017  September   2011280  2017\n",
       "Hyderabad  01-08-2017     August   1976980  2017\n",
       "Hyderabad  01-07-2017       July   1890870  2017\n",
       "Hyderabad  01-06-2017       June   2007060  2017\n",
       "Hyderabad  01-05-2017        May   2266793  2017\n",
       "Hyderabad  01-04-2017      April   2366793  2017\n",
       "Hyderabad  01-03-2017      March   1783903  2017\n",
       "Hyderabad  01-01-2017    January   1924695  2017\n",
       "Hyderabad  01-02-2017   February   1886698  2017\n",
       "Hyderabad  01-11-2017   November   1971438  2017\n",
       "Hyderabad  01-07-2018       July   1470042  2018\n",
       "Hyderabad  01-02-2018   February   1365837  2018\n",
       "Hyderabad  01-11-2016   November    909733  2016\n",
       "Hyderabad  01-12-2019   December   1277569  2019\n",
       "Hyderabad  01-11-2019   November   1073665  2019\n",
       "Hyderabad  01-10-2019    October   1240643  2019\n",
       "Hyderabad  01-09-2019  September    959930  2019\n",
       "Hyderabad  01-08-2019     August   1121380  2019\n",
       "Hyderabad  01-07-2019       July   1094861  2019\n",
       "Hyderabad  01-06-2019       June   1262995  2019\n",
       "Hyderabad  01-05-2019        May   1305748  2019\n",
       "Hyderabad  01-04-2019      April   1045933  2019\n",
       "Hyderabad  01-03-2019      March   1009991  2019\n",
       "Hyderabad  01-02-2019   February    983147  2019\n",
       "Hyderabad  01-01-2019    January   1426500  2019\n",
       "Hyderabad  01-01-2018    January   1978396  2018\n",
       "Hyderabad  01-12-2016   December   1225502  2016\n",
       "Hyderabad  01-12-2018   December   1964150  2018\n",
       "Hyderabad  01-09-2018  September   1508086  2018\n",
       "Hyderabad  01-08-2018     August   1591470  2018\n",
       "Hyderabad  01-06-2018       June   1595067  2018\n",
       "Hyderabad  01-05-2018        May   1189492  2018\n",
       "Hyderabad  01-04-2018      April   1586375  2018\n",
       "Hyderabad  01-03-2018      March   1415938  2018\n",
       "Hyderabad  01-10-2018    October   2207478  2018\n",
       "Hyderabad  01-11-2018   November   1671320  2018"
      ]
     },
     "execution_count": 45,
     "metadata": {},
     "output_type": "execute_result"
    }
   ],
   "source": [
    "hypbad = merged_df.set_index('district')\n",
    "hypbad = hypbad.loc['Hyderabad']\n",
    "hypbad"
   ]
  },
  {
   "cell_type": "code",
   "execution_count": 46,
   "metadata": {},
   "outputs": [
    {
     "data": {
      "text/html": [
       "<div>\n",
       "<style scoped>\n",
       "    .dataframe tbody tr th:only-of-type {\n",
       "        vertical-align: middle;\n",
       "    }\n",
       "\n",
       "    .dataframe tbody tr th {\n",
       "        vertical-align: top;\n",
       "    }\n",
       "\n",
       "    .dataframe thead th {\n",
       "        text-align: right;\n",
       "    }\n",
       "</style>\n",
       "<table border=\"1\" class=\"dataframe\">\n",
       "  <thead>\n",
       "    <tr style=\"text-align: right;\">\n",
       "      <th></th>\n",
       "      <th>date</th>\n",
       "      <th>month</th>\n",
       "      <th>visitors</th>\n",
       "      <th>year</th>\n",
       "    </tr>\n",
       "    <tr>\n",
       "      <th>district</th>\n",
       "      <th></th>\n",
       "      <th></th>\n",
       "      <th></th>\n",
       "      <th></th>\n",
       "    </tr>\n",
       "  </thead>\n",
       "  <tbody>\n",
       "    <tr>\n",
       "      <th>Hyderabad</th>\n",
       "      <td>01-09-2018</td>\n",
       "      <td>September</td>\n",
       "      <td>1508086</td>\n",
       "      <td>2018</td>\n",
       "    </tr>\n",
       "    <tr>\n",
       "      <th>Hyderabad</th>\n",
       "      <td>01-09-2019</td>\n",
       "      <td>September</td>\n",
       "      <td>959930</td>\n",
       "      <td>2019</td>\n",
       "    </tr>\n",
       "    <tr>\n",
       "      <th>Hyderabad</th>\n",
       "      <td>01-09-2016</td>\n",
       "      <td>September</td>\n",
       "      <td>832987</td>\n",
       "      <td>2016</td>\n",
       "    </tr>\n",
       "    <tr>\n",
       "      <th>Hyderabad</th>\n",
       "      <td>01-09-2017</td>\n",
       "      <td>September</td>\n",
       "      <td>2011280</td>\n",
       "      <td>2017</td>\n",
       "    </tr>\n",
       "    <tr>\n",
       "      <th>Hyderabad</th>\n",
       "      <td>01-10-2017</td>\n",
       "      <td>October</td>\n",
       "      <td>2202316</td>\n",
       "      <td>2017</td>\n",
       "    </tr>\n",
       "    <tr>\n",
       "      <th>Hyderabad</th>\n",
       "      <td>01-10-2018</td>\n",
       "      <td>October</td>\n",
       "      <td>2207478</td>\n",
       "      <td>2018</td>\n",
       "    </tr>\n",
       "    <tr>\n",
       "      <th>Hyderabad</th>\n",
       "      <td>01-10-2019</td>\n",
       "      <td>October</td>\n",
       "      <td>1240643</td>\n",
       "      <td>2019</td>\n",
       "    </tr>\n",
       "    <tr>\n",
       "      <th>Hyderabad</th>\n",
       "      <td>01-10-2016</td>\n",
       "      <td>October</td>\n",
       "      <td>901960</td>\n",
       "      <td>2016</td>\n",
       "    </tr>\n",
       "    <tr>\n",
       "      <th>Hyderabad</th>\n",
       "      <td>01-11-2016</td>\n",
       "      <td>November</td>\n",
       "      <td>909733</td>\n",
       "      <td>2016</td>\n",
       "    </tr>\n",
       "    <tr>\n",
       "      <th>Hyderabad</th>\n",
       "      <td>01-11-2019</td>\n",
       "      <td>November</td>\n",
       "      <td>1073665</td>\n",
       "      <td>2019</td>\n",
       "    </tr>\n",
       "    <tr>\n",
       "      <th>Hyderabad</th>\n",
       "      <td>01-11-2017</td>\n",
       "      <td>November</td>\n",
       "      <td>1971438</td>\n",
       "      <td>2017</td>\n",
       "    </tr>\n",
       "    <tr>\n",
       "      <th>Hyderabad</th>\n",
       "      <td>01-11-2018</td>\n",
       "      <td>November</td>\n",
       "      <td>1671320</td>\n",
       "      <td>2018</td>\n",
       "    </tr>\n",
       "    <tr>\n",
       "      <th>Hyderabad</th>\n",
       "      <td>01-05-2017</td>\n",
       "      <td>May</td>\n",
       "      <td>2266793</td>\n",
       "      <td>2017</td>\n",
       "    </tr>\n",
       "    <tr>\n",
       "      <th>Hyderabad</th>\n",
       "      <td>01-05-2019</td>\n",
       "      <td>May</td>\n",
       "      <td>1305748</td>\n",
       "      <td>2019</td>\n",
       "    </tr>\n",
       "    <tr>\n",
       "      <th>Hyderabad</th>\n",
       "      <td>01-05-2016</td>\n",
       "      <td>May</td>\n",
       "      <td>1287181</td>\n",
       "      <td>2016</td>\n",
       "    </tr>\n",
       "    <tr>\n",
       "      <th>Hyderabad</th>\n",
       "      <td>01-05-2018</td>\n",
       "      <td>May</td>\n",
       "      <td>1189492</td>\n",
       "      <td>2018</td>\n",
       "    </tr>\n",
       "    <tr>\n",
       "      <th>Hyderabad</th>\n",
       "      <td>01-03-2018</td>\n",
       "      <td>March</td>\n",
       "      <td>1415938</td>\n",
       "      <td>2018</td>\n",
       "    </tr>\n",
       "    <tr>\n",
       "      <th>Hyderabad</th>\n",
       "      <td>01-03-2019</td>\n",
       "      <td>March</td>\n",
       "      <td>1009991</td>\n",
       "      <td>2019</td>\n",
       "    </tr>\n",
       "    <tr>\n",
       "      <th>Hyderabad</th>\n",
       "      <td>01-03-2017</td>\n",
       "      <td>March</td>\n",
       "      <td>1783903</td>\n",
       "      <td>2017</td>\n",
       "    </tr>\n",
       "    <tr>\n",
       "      <th>Hyderabad</th>\n",
       "      <td>01-03-2016</td>\n",
       "      <td>March</td>\n",
       "      <td>1017794</td>\n",
       "      <td>2016</td>\n",
       "    </tr>\n",
       "    <tr>\n",
       "      <th>Hyderabad</th>\n",
       "      <td>01-06-2017</td>\n",
       "      <td>June</td>\n",
       "      <td>2007060</td>\n",
       "      <td>2017</td>\n",
       "    </tr>\n",
       "    <tr>\n",
       "      <th>Hyderabad</th>\n",
       "      <td>01-06-2019</td>\n",
       "      <td>June</td>\n",
       "      <td>1262995</td>\n",
       "      <td>2019</td>\n",
       "    </tr>\n",
       "    <tr>\n",
       "      <th>Hyderabad</th>\n",
       "      <td>01-06-2018</td>\n",
       "      <td>June</td>\n",
       "      <td>1595067</td>\n",
       "      <td>2018</td>\n",
       "    </tr>\n",
       "    <tr>\n",
       "      <th>Hyderabad</th>\n",
       "      <td>01-06-2016</td>\n",
       "      <td>June</td>\n",
       "      <td>12032661</td>\n",
       "      <td>2016</td>\n",
       "    </tr>\n",
       "    <tr>\n",
       "      <th>Hyderabad</th>\n",
       "      <td>01-07-2016</td>\n",
       "      <td>July</td>\n",
       "      <td>1096754</td>\n",
       "      <td>2016</td>\n",
       "    </tr>\n",
       "    <tr>\n",
       "      <th>Hyderabad</th>\n",
       "      <td>01-07-2019</td>\n",
       "      <td>July</td>\n",
       "      <td>1094861</td>\n",
       "      <td>2019</td>\n",
       "    </tr>\n",
       "    <tr>\n",
       "      <th>Hyderabad</th>\n",
       "      <td>01-07-2018</td>\n",
       "      <td>July</td>\n",
       "      <td>1470042</td>\n",
       "      <td>2018</td>\n",
       "    </tr>\n",
       "    <tr>\n",
       "      <th>Hyderabad</th>\n",
       "      <td>01-07-2017</td>\n",
       "      <td>July</td>\n",
       "      <td>1890870</td>\n",
       "      <td>2017</td>\n",
       "    </tr>\n",
       "    <tr>\n",
       "      <th>Hyderabad</th>\n",
       "      <td>01-01-2016</td>\n",
       "      <td>January</td>\n",
       "      <td>1122510</td>\n",
       "      <td>2016</td>\n",
       "    </tr>\n",
       "    <tr>\n",
       "      <th>Hyderabad</th>\n",
       "      <td>01-01-2017</td>\n",
       "      <td>January</td>\n",
       "      <td>1924695</td>\n",
       "      <td>2017</td>\n",
       "    </tr>\n",
       "    <tr>\n",
       "      <th>Hyderabad</th>\n",
       "      <td>01-01-2019</td>\n",
       "      <td>January</td>\n",
       "      <td>1426500</td>\n",
       "      <td>2019</td>\n",
       "    </tr>\n",
       "    <tr>\n",
       "      <th>Hyderabad</th>\n",
       "      <td>01-01-2018</td>\n",
       "      <td>January</td>\n",
       "      <td>1978396</td>\n",
       "      <td>2018</td>\n",
       "    </tr>\n",
       "    <tr>\n",
       "      <th>Hyderabad</th>\n",
       "      <td>01-02-2018</td>\n",
       "      <td>February</td>\n",
       "      <td>1365837</td>\n",
       "      <td>2018</td>\n",
       "    </tr>\n",
       "    <tr>\n",
       "      <th>Hyderabad</th>\n",
       "      <td>01-02-2017</td>\n",
       "      <td>February</td>\n",
       "      <td>1886698</td>\n",
       "      <td>2017</td>\n",
       "    </tr>\n",
       "    <tr>\n",
       "      <th>Hyderabad</th>\n",
       "      <td>01-02-2016</td>\n",
       "      <td>February</td>\n",
       "      <td>778748</td>\n",
       "      <td>2016</td>\n",
       "    </tr>\n",
       "    <tr>\n",
       "      <th>Hyderabad</th>\n",
       "      <td>01-02-2019</td>\n",
       "      <td>February</td>\n",
       "      <td>983147</td>\n",
       "      <td>2019</td>\n",
       "    </tr>\n",
       "    <tr>\n",
       "      <th>Hyderabad</th>\n",
       "      <td>01-12-2016</td>\n",
       "      <td>December</td>\n",
       "      <td>1225502</td>\n",
       "      <td>2016</td>\n",
       "    </tr>\n",
       "    <tr>\n",
       "      <th>Hyderabad</th>\n",
       "      <td>01-12-2018</td>\n",
       "      <td>December</td>\n",
       "      <td>1964150</td>\n",
       "      <td>2018</td>\n",
       "    </tr>\n",
       "    <tr>\n",
       "      <th>Hyderabad</th>\n",
       "      <td>01-12-2017</td>\n",
       "      <td>December</td>\n",
       "      <td>4871416</td>\n",
       "      <td>2017</td>\n",
       "    </tr>\n",
       "    <tr>\n",
       "      <th>Hyderabad</th>\n",
       "      <td>01-12-2019</td>\n",
       "      <td>December</td>\n",
       "      <td>1277569</td>\n",
       "      <td>2019</td>\n",
       "    </tr>\n",
       "    <tr>\n",
       "      <th>Hyderabad</th>\n",
       "      <td>01-08-2017</td>\n",
       "      <td>August</td>\n",
       "      <td>1976980</td>\n",
       "      <td>2017</td>\n",
       "    </tr>\n",
       "    <tr>\n",
       "      <th>Hyderabad</th>\n",
       "      <td>01-08-2018</td>\n",
       "      <td>August</td>\n",
       "      <td>1591470</td>\n",
       "      <td>2018</td>\n",
       "    </tr>\n",
       "    <tr>\n",
       "      <th>Hyderabad</th>\n",
       "      <td>01-08-2019</td>\n",
       "      <td>August</td>\n",
       "      <td>1121380</td>\n",
       "      <td>2019</td>\n",
       "    </tr>\n",
       "    <tr>\n",
       "      <th>Hyderabad</th>\n",
       "      <td>01-08-2016</td>\n",
       "      <td>August</td>\n",
       "      <td>1061137</td>\n",
       "      <td>2016</td>\n",
       "    </tr>\n",
       "    <tr>\n",
       "      <th>Hyderabad</th>\n",
       "      <td>01-04-2019</td>\n",
       "      <td>April</td>\n",
       "      <td>1045933</td>\n",
       "      <td>2019</td>\n",
       "    </tr>\n",
       "    <tr>\n",
       "      <th>Hyderabad</th>\n",
       "      <td>01-04-2016</td>\n",
       "      <td>April</td>\n",
       "      <td>1127738</td>\n",
       "      <td>2016</td>\n",
       "    </tr>\n",
       "    <tr>\n",
       "      <th>Hyderabad</th>\n",
       "      <td>01-04-2018</td>\n",
       "      <td>April</td>\n",
       "      <td>1586375</td>\n",
       "      <td>2018</td>\n",
       "    </tr>\n",
       "    <tr>\n",
       "      <th>Hyderabad</th>\n",
       "      <td>01-04-2017</td>\n",
       "      <td>April</td>\n",
       "      <td>2366793</td>\n",
       "      <td>2017</td>\n",
       "    </tr>\n",
       "  </tbody>\n",
       "</table>\n",
       "</div>"
      ],
      "text/plain": [
       "                 date      month  visitors  year\n",
       "district                                        \n",
       "Hyderabad  01-09-2018  September   1508086  2018\n",
       "Hyderabad  01-09-2019  September    959930  2019\n",
       "Hyderabad  01-09-2016  September    832987  2016\n",
       "Hyderabad  01-09-2017  September   2011280  2017\n",
       "Hyderabad  01-10-2017    October   2202316  2017\n",
       "Hyderabad  01-10-2018    October   2207478  2018\n",
       "Hyderabad  01-10-2019    October   1240643  2019\n",
       "Hyderabad  01-10-2016    October    901960  2016\n",
       "Hyderabad  01-11-2016   November    909733  2016\n",
       "Hyderabad  01-11-2019   November   1073665  2019\n",
       "Hyderabad  01-11-2017   November   1971438  2017\n",
       "Hyderabad  01-11-2018   November   1671320  2018\n",
       "Hyderabad  01-05-2017        May   2266793  2017\n",
       "Hyderabad  01-05-2019        May   1305748  2019\n",
       "Hyderabad  01-05-2016        May   1287181  2016\n",
       "Hyderabad  01-05-2018        May   1189492  2018\n",
       "Hyderabad  01-03-2018      March   1415938  2018\n",
       "Hyderabad  01-03-2019      March   1009991  2019\n",
       "Hyderabad  01-03-2017      March   1783903  2017\n",
       "Hyderabad  01-03-2016      March   1017794  2016\n",
       "Hyderabad  01-06-2017       June   2007060  2017\n",
       "Hyderabad  01-06-2019       June   1262995  2019\n",
       "Hyderabad  01-06-2018       June   1595067  2018\n",
       "Hyderabad  01-06-2016       June  12032661  2016\n",
       "Hyderabad  01-07-2016       July   1096754  2016\n",
       "Hyderabad  01-07-2019       July   1094861  2019\n",
       "Hyderabad  01-07-2018       July   1470042  2018\n",
       "Hyderabad  01-07-2017       July   1890870  2017\n",
       "Hyderabad  01-01-2016    January   1122510  2016\n",
       "Hyderabad  01-01-2017    January   1924695  2017\n",
       "Hyderabad  01-01-2019    January   1426500  2019\n",
       "Hyderabad  01-01-2018    January   1978396  2018\n",
       "Hyderabad  01-02-2018   February   1365837  2018\n",
       "Hyderabad  01-02-2017   February   1886698  2017\n",
       "Hyderabad  01-02-2016   February    778748  2016\n",
       "Hyderabad  01-02-2019   February    983147  2019\n",
       "Hyderabad  01-12-2016   December   1225502  2016\n",
       "Hyderabad  01-12-2018   December   1964150  2018\n",
       "Hyderabad  01-12-2017   December   4871416  2017\n",
       "Hyderabad  01-12-2019   December   1277569  2019\n",
       "Hyderabad  01-08-2017     August   1976980  2017\n",
       "Hyderabad  01-08-2018     August   1591470  2018\n",
       "Hyderabad  01-08-2019     August   1121380  2019\n",
       "Hyderabad  01-08-2016     August   1061137  2016\n",
       "Hyderabad  01-04-2019      April   1045933  2019\n",
       "Hyderabad  01-04-2016      April   1127738  2016\n",
       "Hyderabad  01-04-2018      April   1586375  2018\n",
       "Hyderabad  01-04-2017      April   2366793  2017"
      ]
     },
     "execution_count": 46,
     "metadata": {},
     "output_type": "execute_result"
    }
   ],
   "source": [
    "hypbad.sort_values('month', ascending=False)"
   ]
  },
  {
   "attachments": {},
   "cell_type": "markdown",
   "metadata": {},
   "source": [
    "#### Graph of The number of Visitors in Hyderabad in each month (2016 - 2019)"
   ]
  },
  {
   "cell_type": "code",
   "execution_count": 47,
   "metadata": {},
   "outputs": [
    {
     "data": {
      "application/vnd.plotly.v1+json": {
       "config": {
        "plotlyServerURL": "https://plot.ly"
       },
       "data": [
        {
         "alignmentgroup": "True",
         "hovertemplate": "month=%{x}<br>visitors=%{y}<br>year=%{marker.color}<extra></extra>",
         "legendgroup": "",
         "marker": {
          "color": [
           2016,
           2016,
           2016,
           2016,
           2016,
           2016,
           2016,
           2016,
           2016,
           2016,
           2017,
           2017,
           2017,
           2017,
           2017,
           2017,
           2017,
           2017,
           2017,
           2017,
           2017,
           2017,
           2018,
           2018,
           2016,
           2019,
           2019,
           2019,
           2019,
           2019,
           2019,
           2019,
           2019,
           2019,
           2019,
           2019,
           2019,
           2018,
           2016,
           2018,
           2018,
           2018,
           2018,
           2018,
           2018,
           2018,
           2018,
           2018
          ],
          "coloraxis": "coloraxis",
          "pattern": {
           "shape": ""
          }
         },
         "name": "",
         "offsetgroup": "",
         "orientation": "v",
         "showlegend": false,
         "textposition": "auto",
         "type": "bar",
         "x": [
          "August",
          "January",
          "February",
          "March",
          "April",
          "September",
          "June",
          "July",
          "October",
          "May",
          "December",
          "October",
          "September",
          "August",
          "July",
          "June",
          "May",
          "April",
          "March",
          "January",
          "February",
          "November",
          "July",
          "February",
          "November",
          "December",
          "November",
          "October",
          "September",
          "August",
          "July",
          "June",
          "May",
          "April",
          "March",
          "February",
          "January",
          "January",
          "December",
          "December",
          "September",
          "August",
          "June",
          "May",
          "April",
          "March",
          "October",
          "November"
         ],
         "xaxis": "x",
         "y": [
          1061137,
          1122510,
          778748,
          1017794,
          1127738,
          832987,
          12032661,
          1096754,
          901960,
          1287181,
          4871416,
          2202316,
          2011280,
          1976980,
          1890870,
          2007060,
          2266793,
          2366793,
          1783903,
          1924695,
          1886698,
          1971438,
          1470042,
          1365837,
          909733,
          1277569,
          1073665,
          1240643,
          959930,
          1121380,
          1094861,
          1262995,
          1305748,
          1045933,
          1009991,
          983147,
          1426500,
          1978396,
          1225502,
          1964150,
          1508086,
          1591470,
          1595067,
          1189492,
          1586375,
          1415938,
          2207478,
          1671320
         ],
         "yaxis": "y"
        }
       ],
       "layout": {
        "barmode": "relative",
        "coloraxis": {
         "colorbar": {
          "title": {
           "text": "year"
          }
         },
         "colorscale": [
          [
           0,
           "#0d0887"
          ],
          [
           0.1111111111111111,
           "#46039f"
          ],
          [
           0.2222222222222222,
           "#7201a8"
          ],
          [
           0.3333333333333333,
           "#9c179e"
          ],
          [
           0.4444444444444444,
           "#bd3786"
          ],
          [
           0.5555555555555556,
           "#d8576b"
          ],
          [
           0.6666666666666666,
           "#ed7953"
          ],
          [
           0.7777777777777778,
           "#fb9f3a"
          ],
          [
           0.8888888888888888,
           "#fdca26"
          ],
          [
           1,
           "#f0f921"
          ]
         ]
        },
        "legend": {
         "tracegroupgap": 0
        },
        "template": {
         "data": {
          "bar": [
           {
            "error_x": {
             "color": "#2a3f5f"
            },
            "error_y": {
             "color": "#2a3f5f"
            },
            "marker": {
             "line": {
              "color": "#E5ECF6",
              "width": 0.5
             },
             "pattern": {
              "fillmode": "overlay",
              "size": 10,
              "solidity": 0.2
             }
            },
            "type": "bar"
           }
          ],
          "barpolar": [
           {
            "marker": {
             "line": {
              "color": "#E5ECF6",
              "width": 0.5
             },
             "pattern": {
              "fillmode": "overlay",
              "size": 10,
              "solidity": 0.2
             }
            },
            "type": "barpolar"
           }
          ],
          "carpet": [
           {
            "aaxis": {
             "endlinecolor": "#2a3f5f",
             "gridcolor": "white",
             "linecolor": "white",
             "minorgridcolor": "white",
             "startlinecolor": "#2a3f5f"
            },
            "baxis": {
             "endlinecolor": "#2a3f5f",
             "gridcolor": "white",
             "linecolor": "white",
             "minorgridcolor": "white",
             "startlinecolor": "#2a3f5f"
            },
            "type": "carpet"
           }
          ],
          "choropleth": [
           {
            "colorbar": {
             "outlinewidth": 0,
             "ticks": ""
            },
            "type": "choropleth"
           }
          ],
          "contour": [
           {
            "colorbar": {
             "outlinewidth": 0,
             "ticks": ""
            },
            "colorscale": [
             [
              0,
              "#0d0887"
             ],
             [
              0.1111111111111111,
              "#46039f"
             ],
             [
              0.2222222222222222,
              "#7201a8"
             ],
             [
              0.3333333333333333,
              "#9c179e"
             ],
             [
              0.4444444444444444,
              "#bd3786"
             ],
             [
              0.5555555555555556,
              "#d8576b"
             ],
             [
              0.6666666666666666,
              "#ed7953"
             ],
             [
              0.7777777777777778,
              "#fb9f3a"
             ],
             [
              0.8888888888888888,
              "#fdca26"
             ],
             [
              1,
              "#f0f921"
             ]
            ],
            "type": "contour"
           }
          ],
          "contourcarpet": [
           {
            "colorbar": {
             "outlinewidth": 0,
             "ticks": ""
            },
            "type": "contourcarpet"
           }
          ],
          "heatmap": [
           {
            "colorbar": {
             "outlinewidth": 0,
             "ticks": ""
            },
            "colorscale": [
             [
              0,
              "#0d0887"
             ],
             [
              0.1111111111111111,
              "#46039f"
             ],
             [
              0.2222222222222222,
              "#7201a8"
             ],
             [
              0.3333333333333333,
              "#9c179e"
             ],
             [
              0.4444444444444444,
              "#bd3786"
             ],
             [
              0.5555555555555556,
              "#d8576b"
             ],
             [
              0.6666666666666666,
              "#ed7953"
             ],
             [
              0.7777777777777778,
              "#fb9f3a"
             ],
             [
              0.8888888888888888,
              "#fdca26"
             ],
             [
              1,
              "#f0f921"
             ]
            ],
            "type": "heatmap"
           }
          ],
          "heatmapgl": [
           {
            "colorbar": {
             "outlinewidth": 0,
             "ticks": ""
            },
            "colorscale": [
             [
              0,
              "#0d0887"
             ],
             [
              0.1111111111111111,
              "#46039f"
             ],
             [
              0.2222222222222222,
              "#7201a8"
             ],
             [
              0.3333333333333333,
              "#9c179e"
             ],
             [
              0.4444444444444444,
              "#bd3786"
             ],
             [
              0.5555555555555556,
              "#d8576b"
             ],
             [
              0.6666666666666666,
              "#ed7953"
             ],
             [
              0.7777777777777778,
              "#fb9f3a"
             ],
             [
              0.8888888888888888,
              "#fdca26"
             ],
             [
              1,
              "#f0f921"
             ]
            ],
            "type": "heatmapgl"
           }
          ],
          "histogram": [
           {
            "marker": {
             "pattern": {
              "fillmode": "overlay",
              "size": 10,
              "solidity": 0.2
             }
            },
            "type": "histogram"
           }
          ],
          "histogram2d": [
           {
            "colorbar": {
             "outlinewidth": 0,
             "ticks": ""
            },
            "colorscale": [
             [
              0,
              "#0d0887"
             ],
             [
              0.1111111111111111,
              "#46039f"
             ],
             [
              0.2222222222222222,
              "#7201a8"
             ],
             [
              0.3333333333333333,
              "#9c179e"
             ],
             [
              0.4444444444444444,
              "#bd3786"
             ],
             [
              0.5555555555555556,
              "#d8576b"
             ],
             [
              0.6666666666666666,
              "#ed7953"
             ],
             [
              0.7777777777777778,
              "#fb9f3a"
             ],
             [
              0.8888888888888888,
              "#fdca26"
             ],
             [
              1,
              "#f0f921"
             ]
            ],
            "type": "histogram2d"
           }
          ],
          "histogram2dcontour": [
           {
            "colorbar": {
             "outlinewidth": 0,
             "ticks": ""
            },
            "colorscale": [
             [
              0,
              "#0d0887"
             ],
             [
              0.1111111111111111,
              "#46039f"
             ],
             [
              0.2222222222222222,
              "#7201a8"
             ],
             [
              0.3333333333333333,
              "#9c179e"
             ],
             [
              0.4444444444444444,
              "#bd3786"
             ],
             [
              0.5555555555555556,
              "#d8576b"
             ],
             [
              0.6666666666666666,
              "#ed7953"
             ],
             [
              0.7777777777777778,
              "#fb9f3a"
             ],
             [
              0.8888888888888888,
              "#fdca26"
             ],
             [
              1,
              "#f0f921"
             ]
            ],
            "type": "histogram2dcontour"
           }
          ],
          "mesh3d": [
           {
            "colorbar": {
             "outlinewidth": 0,
             "ticks": ""
            },
            "type": "mesh3d"
           }
          ],
          "parcoords": [
           {
            "line": {
             "colorbar": {
              "outlinewidth": 0,
              "ticks": ""
             }
            },
            "type": "parcoords"
           }
          ],
          "pie": [
           {
            "automargin": true,
            "type": "pie"
           }
          ],
          "scatter": [
           {
            "fillpattern": {
             "fillmode": "overlay",
             "size": 10,
             "solidity": 0.2
            },
            "type": "scatter"
           }
          ],
          "scatter3d": [
           {
            "line": {
             "colorbar": {
              "outlinewidth": 0,
              "ticks": ""
             }
            },
            "marker": {
             "colorbar": {
              "outlinewidth": 0,
              "ticks": ""
             }
            },
            "type": "scatter3d"
           }
          ],
          "scattercarpet": [
           {
            "marker": {
             "colorbar": {
              "outlinewidth": 0,
              "ticks": ""
             }
            },
            "type": "scattercarpet"
           }
          ],
          "scattergeo": [
           {
            "marker": {
             "colorbar": {
              "outlinewidth": 0,
              "ticks": ""
             }
            },
            "type": "scattergeo"
           }
          ],
          "scattergl": [
           {
            "marker": {
             "colorbar": {
              "outlinewidth": 0,
              "ticks": ""
             }
            },
            "type": "scattergl"
           }
          ],
          "scattermapbox": [
           {
            "marker": {
             "colorbar": {
              "outlinewidth": 0,
              "ticks": ""
             }
            },
            "type": "scattermapbox"
           }
          ],
          "scatterpolar": [
           {
            "marker": {
             "colorbar": {
              "outlinewidth": 0,
              "ticks": ""
             }
            },
            "type": "scatterpolar"
           }
          ],
          "scatterpolargl": [
           {
            "marker": {
             "colorbar": {
              "outlinewidth": 0,
              "ticks": ""
             }
            },
            "type": "scatterpolargl"
           }
          ],
          "scatterternary": [
           {
            "marker": {
             "colorbar": {
              "outlinewidth": 0,
              "ticks": ""
             }
            },
            "type": "scatterternary"
           }
          ],
          "surface": [
           {
            "colorbar": {
             "outlinewidth": 0,
             "ticks": ""
            },
            "colorscale": [
             [
              0,
              "#0d0887"
             ],
             [
              0.1111111111111111,
              "#46039f"
             ],
             [
              0.2222222222222222,
              "#7201a8"
             ],
             [
              0.3333333333333333,
              "#9c179e"
             ],
             [
              0.4444444444444444,
              "#bd3786"
             ],
             [
              0.5555555555555556,
              "#d8576b"
             ],
             [
              0.6666666666666666,
              "#ed7953"
             ],
             [
              0.7777777777777778,
              "#fb9f3a"
             ],
             [
              0.8888888888888888,
              "#fdca26"
             ],
             [
              1,
              "#f0f921"
             ]
            ],
            "type": "surface"
           }
          ],
          "table": [
           {
            "cells": {
             "fill": {
              "color": "#EBF0F8"
             },
             "line": {
              "color": "white"
             }
            },
            "header": {
             "fill": {
              "color": "#C8D4E3"
             },
             "line": {
              "color": "white"
             }
            },
            "type": "table"
           }
          ]
         },
         "layout": {
          "annotationdefaults": {
           "arrowcolor": "#2a3f5f",
           "arrowhead": 0,
           "arrowwidth": 1
          },
          "autotypenumbers": "strict",
          "coloraxis": {
           "colorbar": {
            "outlinewidth": 0,
            "ticks": ""
           }
          },
          "colorscale": {
           "diverging": [
            [
             0,
             "#8e0152"
            ],
            [
             0.1,
             "#c51b7d"
            ],
            [
             0.2,
             "#de77ae"
            ],
            [
             0.3,
             "#f1b6da"
            ],
            [
             0.4,
             "#fde0ef"
            ],
            [
             0.5,
             "#f7f7f7"
            ],
            [
             0.6,
             "#e6f5d0"
            ],
            [
             0.7,
             "#b8e186"
            ],
            [
             0.8,
             "#7fbc41"
            ],
            [
             0.9,
             "#4d9221"
            ],
            [
             1,
             "#276419"
            ]
           ],
           "sequential": [
            [
             0,
             "#0d0887"
            ],
            [
             0.1111111111111111,
             "#46039f"
            ],
            [
             0.2222222222222222,
             "#7201a8"
            ],
            [
             0.3333333333333333,
             "#9c179e"
            ],
            [
             0.4444444444444444,
             "#bd3786"
            ],
            [
             0.5555555555555556,
             "#d8576b"
            ],
            [
             0.6666666666666666,
             "#ed7953"
            ],
            [
             0.7777777777777778,
             "#fb9f3a"
            ],
            [
             0.8888888888888888,
             "#fdca26"
            ],
            [
             1,
             "#f0f921"
            ]
           ],
           "sequentialminus": [
            [
             0,
             "#0d0887"
            ],
            [
             0.1111111111111111,
             "#46039f"
            ],
            [
             0.2222222222222222,
             "#7201a8"
            ],
            [
             0.3333333333333333,
             "#9c179e"
            ],
            [
             0.4444444444444444,
             "#bd3786"
            ],
            [
             0.5555555555555556,
             "#d8576b"
            ],
            [
             0.6666666666666666,
             "#ed7953"
            ],
            [
             0.7777777777777778,
             "#fb9f3a"
            ],
            [
             0.8888888888888888,
             "#fdca26"
            ],
            [
             1,
             "#f0f921"
            ]
           ]
          },
          "colorway": [
           "#636efa",
           "#EF553B",
           "#00cc96",
           "#ab63fa",
           "#FFA15A",
           "#19d3f3",
           "#FF6692",
           "#B6E880",
           "#FF97FF",
           "#FECB52"
          ],
          "font": {
           "color": "#2a3f5f"
          },
          "geo": {
           "bgcolor": "white",
           "lakecolor": "white",
           "landcolor": "#E5ECF6",
           "showlakes": true,
           "showland": true,
           "subunitcolor": "white"
          },
          "hoverlabel": {
           "align": "left"
          },
          "hovermode": "closest",
          "mapbox": {
           "style": "light"
          },
          "paper_bgcolor": "white",
          "plot_bgcolor": "#E5ECF6",
          "polar": {
           "angularaxis": {
            "gridcolor": "white",
            "linecolor": "white",
            "ticks": ""
           },
           "bgcolor": "#E5ECF6",
           "radialaxis": {
            "gridcolor": "white",
            "linecolor": "white",
            "ticks": ""
           }
          },
          "scene": {
           "xaxis": {
            "backgroundcolor": "#E5ECF6",
            "gridcolor": "white",
            "gridwidth": 2,
            "linecolor": "white",
            "showbackground": true,
            "ticks": "",
            "zerolinecolor": "white"
           },
           "yaxis": {
            "backgroundcolor": "#E5ECF6",
            "gridcolor": "white",
            "gridwidth": 2,
            "linecolor": "white",
            "showbackground": true,
            "ticks": "",
            "zerolinecolor": "white"
           },
           "zaxis": {
            "backgroundcolor": "#E5ECF6",
            "gridcolor": "white",
            "gridwidth": 2,
            "linecolor": "white",
            "showbackground": true,
            "ticks": "",
            "zerolinecolor": "white"
           }
          },
          "shapedefaults": {
           "line": {
            "color": "#2a3f5f"
           }
          },
          "ternary": {
           "aaxis": {
            "gridcolor": "white",
            "linecolor": "white",
            "ticks": ""
           },
           "baxis": {
            "gridcolor": "white",
            "linecolor": "white",
            "ticks": ""
           },
           "bgcolor": "#E5ECF6",
           "caxis": {
            "gridcolor": "white",
            "linecolor": "white",
            "ticks": ""
           }
          },
          "title": {
           "x": 0.05
          },
          "xaxis": {
           "automargin": true,
           "gridcolor": "white",
           "linecolor": "white",
           "ticks": "",
           "title": {
            "standoff": 15
           },
           "zerolinecolor": "white",
           "zerolinewidth": 2
          },
          "yaxis": {
           "automargin": true,
           "gridcolor": "white",
           "linecolor": "white",
           "ticks": "",
           "title": {
            "standoff": 15
           },
           "zerolinecolor": "white",
           "zerolinewidth": 2
          }
         }
        },
        "title": {
         "text": "Visitors in Hyderabad"
        },
        "xaxis": {
         "anchor": "y",
         "domain": [
          0,
          1
         ],
         "title": {
          "text": "month"
         }
        },
        "yaxis": {
         "anchor": "x",
         "domain": [
          0,
          1
         ],
         "title": {
          "text": "visitors"
         }
        }
       }
      }
     },
     "metadata": {},
     "output_type": "display_data"
    }
   ],
   "source": [
    "px.bar(hypbad, \n",
    "       x='month',\n",
    "       y='visitors', \n",
    "       color='year',\n",
    "       title='Visitors in Hyderabad')\n"
   ]
  },
  {
   "attachments": {},
   "cell_type": "markdown",
   "metadata": {},
   "source": [
    "From this graphic we are presented with the number of domestic visitors in Hyderabad and it shows the months with the peak visitors in each year (2016 -2019)\n",
    "\n",
    "We can see that the peak seasons lie in **_June_** and low season month lies in **_February_**"
   ]
  },
  {
   "attachments": {},
   "cell_type": "markdown",
   "metadata": {},
   "source": [
    "## Districts with high domestic to foreign visitors ratio"
   ]
  },
  {
   "cell_type": "code",
   "execution_count": 48,
   "metadata": {},
   "outputs": [],
   "source": [
    "merged_df2['visitors'] = merged_df2.visitors.str.strip()\n",
    "merged_df2['visitors'] = merged_df2['visitors'].apply(\n",
    "    lambda x: 0 if x == '' else x)\n",
    "merged_df2['visitors'] = merged_df2['visitors'].fillna(0)\n",
    "merged_df2.visitors = merged_df2.visitors.astype('int')\n"
   ]
  },
  {
   "cell_type": "code",
   "execution_count": 49,
   "metadata": {},
   "outputs": [
    {
     "data": {
      "text/html": [
       "<div>\n",
       "<style scoped>\n",
       "    .dataframe tbody tr th:only-of-type {\n",
       "        vertical-align: middle;\n",
       "    }\n",
       "\n",
       "    .dataframe tbody tr th {\n",
       "        vertical-align: top;\n",
       "    }\n",
       "\n",
       "    .dataframe thead th {\n",
       "        text-align: right;\n",
       "    }\n",
       "</style>\n",
       "<table border=\"1\" class=\"dataframe\">\n",
       "  <thead>\n",
       "    <tr style=\"text-align: right;\">\n",
       "      <th></th>\n",
       "      <th>date</th>\n",
       "      <th>district</th>\n",
       "      <th>month</th>\n",
       "      <th>visitors</th>\n",
       "      <th>year</th>\n",
       "    </tr>\n",
       "  </thead>\n",
       "  <tbody>\n",
       "    <tr>\n",
       "      <th>0</th>\n",
       "      <td>01-01-2016</td>\n",
       "      <td>Adilabad</td>\n",
       "      <td>January</td>\n",
       "      <td>792136</td>\n",
       "      <td>2016</td>\n",
       "    </tr>\n",
       "    <tr>\n",
       "      <th>1</th>\n",
       "      <td>01-04-2018</td>\n",
       "      <td>Adilabad</td>\n",
       "      <td>April</td>\n",
       "      <td>14183</td>\n",
       "      <td>2018</td>\n",
       "    </tr>\n",
       "    <tr>\n",
       "      <th>2</th>\n",
       "      <td>01-03-2018</td>\n",
       "      <td>Adilabad</td>\n",
       "      <td>March</td>\n",
       "      <td>23011</td>\n",
       "      <td>2018</td>\n",
       "    </tr>\n",
       "    <tr>\n",
       "      <th>3</th>\n",
       "      <td>01-02-2018</td>\n",
       "      <td>Adilabad</td>\n",
       "      <td>February</td>\n",
       "      <td>36550</td>\n",
       "      <td>2018</td>\n",
       "    </tr>\n",
       "    <tr>\n",
       "      <th>4</th>\n",
       "      <td>01-01-2018</td>\n",
       "      <td>Adilabad</td>\n",
       "      <td>January</td>\n",
       "      <td>320356</td>\n",
       "      <td>2018</td>\n",
       "    </tr>\n",
       "    <tr>\n",
       "      <th>...</th>\n",
       "      <td>...</td>\n",
       "      <td>...</td>\n",
       "      <td>...</td>\n",
       "      <td>...</td>\n",
       "      <td>...</td>\n",
       "    </tr>\n",
       "    <tr>\n",
       "      <th>1507</th>\n",
       "      <td>01-10-2018</td>\n",
       "      <td>Yadadri Bhongir</td>\n",
       "      <td>October</td>\n",
       "      <td>586475</td>\n",
       "      <td>2018</td>\n",
       "    </tr>\n",
       "    <tr>\n",
       "      <th>1508</th>\n",
       "      <td>01-09-2018</td>\n",
       "      <td>Yadadri Bhongir</td>\n",
       "      <td>September</td>\n",
       "      <td>819350</td>\n",
       "      <td>2018</td>\n",
       "    </tr>\n",
       "    <tr>\n",
       "      <th>1509</th>\n",
       "      <td>01-08-2018</td>\n",
       "      <td>Yadadri Bhongir</td>\n",
       "      <td>August</td>\n",
       "      <td>526445</td>\n",
       "      <td>2018</td>\n",
       "    </tr>\n",
       "    <tr>\n",
       "      <th>1510</th>\n",
       "      <td>01-01-2016</td>\n",
       "      <td>Yadadri Bhongir</td>\n",
       "      <td>January</td>\n",
       "      <td>0</td>\n",
       "      <td>2016</td>\n",
       "    </tr>\n",
       "    <tr>\n",
       "      <th>1511</th>\n",
       "      <td>01-12-2019</td>\n",
       "      <td>Yadadri Bhongir</td>\n",
       "      <td>December</td>\n",
       "      <td>477635</td>\n",
       "      <td>2019</td>\n",
       "    </tr>\n",
       "  </tbody>\n",
       "</table>\n",
       "<p>1512 rows × 5 columns</p>\n",
       "</div>"
      ],
      "text/plain": [
       "            date         district      month  visitors  year\n",
       "0     01-01-2016         Adilabad    January    792136  2016\n",
       "1     01-04-2018         Adilabad      April     14183  2018\n",
       "2     01-03-2018         Adilabad      March     23011  2018\n",
       "3     01-02-2018         Adilabad   February     36550  2018\n",
       "4     01-01-2018         Adilabad    January    320356  2018\n",
       "...          ...              ...        ...       ...   ...\n",
       "1507  01-10-2018  Yadadri Bhongir    October    586475  2018\n",
       "1508  01-09-2018  Yadadri Bhongir  September    819350  2018\n",
       "1509  01-08-2018  Yadadri Bhongir     August    526445  2018\n",
       "1510  01-01-2016  Yadadri Bhongir    January         0  2016\n",
       "1511  01-12-2019  Yadadri Bhongir   December    477635  2019\n",
       "\n",
       "[1512 rows x 5 columns]"
      ]
     },
     "execution_count": 49,
     "metadata": {},
     "output_type": "execute_result"
    }
   ],
   "source": [
    "merged_df.reset_index(drop=True)\n"
   ]
  },
  {
   "cell_type": "code",
   "execution_count": 50,
   "metadata": {},
   "outputs": [
    {
     "data": {
      "text/plain": [
       "date        object\n",
       "district    object\n",
       "month       object\n",
       "visitors     int64\n",
       "year         int64\n",
       "dtype: object"
      ]
     },
     "execution_count": 50,
     "metadata": {},
     "output_type": "execute_result"
    }
   ],
   "source": [
    "merged_df2.dtypes"
   ]
  },
  {
   "cell_type": "code",
   "execution_count": 51,
   "metadata": {},
   "outputs": [],
   "source": [
    "foreign_vsum = []\n",
    "foreign_vsum = merged_df2.groupby('district')['visitors'].sum()\n",
    "foreign_vsum = pd.DataFrame(foreign_vsum)\n",
    "# = foreign_vsum.sort_values(ascending=False)\n",
    "# district_visitors_top = district_visitors_sum[: 10]\n",
    "# district_visitors_top\n"
   ]
  },
  {
   "cell_type": "code",
   "execution_count": 52,
   "metadata": {},
   "outputs": [
    {
     "data": {
      "text/html": [
       "<div>\n",
       "<style scoped>\n",
       "    .dataframe tbody tr th:only-of-type {\n",
       "        vertical-align: middle;\n",
       "    }\n",
       "\n",
       "    .dataframe tbody tr th {\n",
       "        vertical-align: top;\n",
       "    }\n",
       "\n",
       "    .dataframe thead th {\n",
       "        text-align: right;\n",
       "    }\n",
       "</style>\n",
       "<table border=\"1\" class=\"dataframe\">\n",
       "  <thead>\n",
       "    <tr style=\"text-align: right;\">\n",
       "      <th></th>\n",
       "      <th>visitors</th>\n",
       "    </tr>\n",
       "    <tr>\n",
       "      <th>district</th>\n",
       "      <th></th>\n",
       "    </tr>\n",
       "  </thead>\n",
       "  <tbody>\n",
       "    <tr>\n",
       "      <th>Adilabad</th>\n",
       "      <td>32</td>\n",
       "    </tr>\n",
       "    <tr>\n",
       "      <th>Bhadradri Kothagudem</th>\n",
       "      <td>0</td>\n",
       "    </tr>\n",
       "    <tr>\n",
       "      <th>Hyderabad</th>\n",
       "      <td>1044898</td>\n",
       "    </tr>\n",
       "    <tr>\n",
       "      <th>Jagtial</th>\n",
       "      <td>0</td>\n",
       "    </tr>\n",
       "    <tr>\n",
       "      <th>Jangaon</th>\n",
       "      <td>2</td>\n",
       "    </tr>\n",
       "    <tr>\n",
       "      <th>Jayashankar Bhoopalpally</th>\n",
       "      <td>1252</td>\n",
       "    </tr>\n",
       "    <tr>\n",
       "      <th>Jogulamba Gadwal</th>\n",
       "      <td>945</td>\n",
       "    </tr>\n",
       "    <tr>\n",
       "      <th>Kamareddy</th>\n",
       "      <td>0</td>\n",
       "    </tr>\n",
       "    <tr>\n",
       "      <th>Karimnagar</th>\n",
       "      <td>0</td>\n",
       "    </tr>\n",
       "    <tr>\n",
       "      <th>Khammam</th>\n",
       "      <td>0</td>\n",
       "    </tr>\n",
       "    <tr>\n",
       "      <th>Komaram Bheem Asifabad</th>\n",
       "      <td>0</td>\n",
       "    </tr>\n",
       "    <tr>\n",
       "      <th>Mahabubabad</th>\n",
       "      <td>0</td>\n",
       "    </tr>\n",
       "    <tr>\n",
       "      <th>Mahbubnagar</th>\n",
       "      <td>2282</td>\n",
       "    </tr>\n",
       "    <tr>\n",
       "      <th>Mancherial</th>\n",
       "      <td>10</td>\n",
       "    </tr>\n",
       "    <tr>\n",
       "      <th>Medak</th>\n",
       "      <td>0</td>\n",
       "    </tr>\n",
       "    <tr>\n",
       "      <th>Medchal</th>\n",
       "      <td>0</td>\n",
       "    </tr>\n",
       "    <tr>\n",
       "      <th>Mulugu</th>\n",
       "      <td>575</td>\n",
       "    </tr>\n",
       "    <tr>\n",
       "      <th>Nagarkurnool</th>\n",
       "      <td>761</td>\n",
       "    </tr>\n",
       "    <tr>\n",
       "      <th>Nalgonda</th>\n",
       "      <td>0</td>\n",
       "    </tr>\n",
       "    <tr>\n",
       "      <th>Narayanpet</th>\n",
       "      <td>5</td>\n",
       "    </tr>\n",
       "    <tr>\n",
       "      <th>Nirmal</th>\n",
       "      <td>2</td>\n",
       "    </tr>\n",
       "    <tr>\n",
       "      <th>Nizamabad</th>\n",
       "      <td>5</td>\n",
       "    </tr>\n",
       "    <tr>\n",
       "      <th>Peddapalli</th>\n",
       "      <td>0</td>\n",
       "    </tr>\n",
       "    <tr>\n",
       "      <th>Rajanna Sircilla</th>\n",
       "      <td>0</td>\n",
       "    </tr>\n",
       "    <tr>\n",
       "      <th>Ranga Reddy</th>\n",
       "      <td>0</td>\n",
       "    </tr>\n",
       "    <tr>\n",
       "      <th>Sangareddy</th>\n",
       "      <td>0</td>\n",
       "    </tr>\n",
       "    <tr>\n",
       "      <th>Siddipet</th>\n",
       "      <td>0</td>\n",
       "    </tr>\n",
       "    <tr>\n",
       "      <th>Suryapet</th>\n",
       "      <td>0</td>\n",
       "    </tr>\n",
       "    <tr>\n",
       "      <th>Vikarabad</th>\n",
       "      <td>0</td>\n",
       "    </tr>\n",
       "    <tr>\n",
       "      <th>Wanaparthy</th>\n",
       "      <td>0</td>\n",
       "    </tr>\n",
       "    <tr>\n",
       "      <th>Warangal (Rural)</th>\n",
       "      <td>306</td>\n",
       "    </tr>\n",
       "    <tr>\n",
       "      <th>Warangal (Urban)</th>\n",
       "      <td>8821</td>\n",
       "    </tr>\n",
       "    <tr>\n",
       "      <th>Yadadri Bhongir</th>\n",
       "      <td>0</td>\n",
       "    </tr>\n",
       "  </tbody>\n",
       "</table>\n",
       "</div>"
      ],
      "text/plain": [
       "                          visitors\n",
       "district                          \n",
       "Adilabad                        32\n",
       "Bhadradri Kothagudem             0\n",
       "Hyderabad                  1044898\n",
       "Jagtial                          0\n",
       "Jangaon                          2\n",
       "Jayashankar Bhoopalpally      1252\n",
       "Jogulamba Gadwal               945\n",
       "Kamareddy                        0\n",
       "Karimnagar                       0\n",
       "Khammam                          0\n",
       "Komaram Bheem Asifabad           0\n",
       "Mahabubabad                      0\n",
       "Mahbubnagar                   2282\n",
       "Mancherial                      10\n",
       "Medak                            0\n",
       "Medchal                          0\n",
       "Mulugu                         575\n",
       "Nagarkurnool                   761\n",
       "Nalgonda                         0\n",
       "Narayanpet                       5\n",
       "Nirmal                           2\n",
       "Nizamabad                        5\n",
       "Peddapalli                       0\n",
       "Rajanna Sircilla                 0\n",
       "Ranga Reddy                      0\n",
       "Sangareddy                       0\n",
       "Siddipet                         0\n",
       "Suryapet                         0\n",
       "Vikarabad                        0\n",
       "Wanaparthy                       0\n",
       "Warangal (Rural)               306\n",
       "Warangal (Urban)              8821\n",
       "Yadadri Bhongir                  0"
      ]
     },
     "execution_count": 52,
     "metadata": {},
     "output_type": "execute_result"
    }
   ],
   "source": [
    "foreign_vsum\n"
   ]
  },
  {
   "cell_type": "code",
   "execution_count": 53,
   "metadata": {},
   "outputs": [],
   "source": [
    "district_visitors_sum = merged_df.groupby('district')['visitors'].sum()\n",
    "domestic_vsum = pd.DataFrame(district_visitors_sum)\n"
   ]
  },
  {
   "cell_type": "code",
   "execution_count": 54,
   "metadata": {},
   "outputs": [
    {
     "data": {
      "text/html": [
       "<div>\n",
       "<style scoped>\n",
       "    .dataframe tbody tr th:only-of-type {\n",
       "        vertical-align: middle;\n",
       "    }\n",
       "\n",
       "    .dataframe tbody tr th {\n",
       "        vertical-align: top;\n",
       "    }\n",
       "\n",
       "    .dataframe thead th {\n",
       "        text-align: right;\n",
       "    }\n",
       "</style>\n",
       "<table border=\"1\" class=\"dataframe\">\n",
       "  <thead>\n",
       "    <tr style=\"text-align: right;\">\n",
       "      <th></th>\n",
       "      <th>visitors</th>\n",
       "    </tr>\n",
       "    <tr>\n",
       "      <th>district</th>\n",
       "      <th></th>\n",
       "    </tr>\n",
       "  </thead>\n",
       "  <tbody>\n",
       "    <tr>\n",
       "      <th>Adilabad</th>\n",
       "      <td>7321575</td>\n",
       "    </tr>\n",
       "    <tr>\n",
       "      <th>Bhadradri Kothagudem</th>\n",
       "      <td>21600962</td>\n",
       "    </tr>\n",
       "    <tr>\n",
       "      <th>Hyderabad</th>\n",
       "      <td>83900960</td>\n",
       "    </tr>\n",
       "    <tr>\n",
       "      <th>Jagtial</th>\n",
       "      <td>11303514</td>\n",
       "    </tr>\n",
       "    <tr>\n",
       "      <th>Jangaon</th>\n",
       "      <td>826280</td>\n",
       "    </tr>\n",
       "    <tr>\n",
       "      <th>Jayashankar Bhoopalpally</th>\n",
       "      <td>19632865</td>\n",
       "    </tr>\n",
       "    <tr>\n",
       "      <th>Jogulamba Gadwal</th>\n",
       "      <td>6813340</td>\n",
       "    </tr>\n",
       "    <tr>\n",
       "      <th>Kamareddy</th>\n",
       "      <td>1773</td>\n",
       "    </tr>\n",
       "    <tr>\n",
       "      <th>Karimnagar</th>\n",
       "      <td>9462383</td>\n",
       "    </tr>\n",
       "    <tr>\n",
       "      <th>Khammam</th>\n",
       "      <td>9378315</td>\n",
       "    </tr>\n",
       "    <tr>\n",
       "      <th>Komaram Bheem Asifabad</th>\n",
       "      <td>92734</td>\n",
       "    </tr>\n",
       "    <tr>\n",
       "      <th>Mahabubabad</th>\n",
       "      <td>600697</td>\n",
       "    </tr>\n",
       "    <tr>\n",
       "      <th>Mahbubnagar</th>\n",
       "      <td>17180118</td>\n",
       "    </tr>\n",
       "    <tr>\n",
       "      <th>Mancherial</th>\n",
       "      <td>867242</td>\n",
       "    </tr>\n",
       "    <tr>\n",
       "      <th>Medak</th>\n",
       "      <td>20542639</td>\n",
       "    </tr>\n",
       "    <tr>\n",
       "      <th>Medchal</th>\n",
       "      <td>0</td>\n",
       "    </tr>\n",
       "    <tr>\n",
       "      <th>Mulugu</th>\n",
       "      <td>1819800</td>\n",
       "    </tr>\n",
       "    <tr>\n",
       "      <th>Nagarkurnool</th>\n",
       "      <td>7424355</td>\n",
       "    </tr>\n",
       "    <tr>\n",
       "      <th>Nalgonda</th>\n",
       "      <td>6401933</td>\n",
       "    </tr>\n",
       "    <tr>\n",
       "      <th>Narayanapet</th>\n",
       "      <td>389250</td>\n",
       "    </tr>\n",
       "    <tr>\n",
       "      <th>Nirmal</th>\n",
       "      <td>13315796</td>\n",
       "    </tr>\n",
       "    <tr>\n",
       "      <th>Nizamabad</th>\n",
       "      <td>116147</td>\n",
       "    </tr>\n",
       "    <tr>\n",
       "      <th>Peddapalli</th>\n",
       "      <td>56977</td>\n",
       "    </tr>\n",
       "    <tr>\n",
       "      <th>Rajanna Sircilla</th>\n",
       "      <td>41763276</td>\n",
       "    </tr>\n",
       "    <tr>\n",
       "      <th>Ranga Reddy</th>\n",
       "      <td>0</td>\n",
       "    </tr>\n",
       "    <tr>\n",
       "      <th>Sangareddy</th>\n",
       "      <td>10424510</td>\n",
       "    </tr>\n",
       "    <tr>\n",
       "      <th>Siddipet</th>\n",
       "      <td>5775285</td>\n",
       "    </tr>\n",
       "    <tr>\n",
       "      <th>Suryapet</th>\n",
       "      <td>0</td>\n",
       "    </tr>\n",
       "    <tr>\n",
       "      <th>Vikarabad</th>\n",
       "      <td>0</td>\n",
       "    </tr>\n",
       "    <tr>\n",
       "      <th>Wanaparthy</th>\n",
       "      <td>890078</td>\n",
       "    </tr>\n",
       "    <tr>\n",
       "      <th>Warangal (Rural)</th>\n",
       "      <td>819162</td>\n",
       "    </tr>\n",
       "    <tr>\n",
       "      <th>Warangal (Urban)</th>\n",
       "      <td>30726603</td>\n",
       "    </tr>\n",
       "    <tr>\n",
       "      <th>Yadadri Bhongir</th>\n",
       "      <td>26893080</td>\n",
       "    </tr>\n",
       "  </tbody>\n",
       "</table>\n",
       "</div>"
      ],
      "text/plain": [
       "                          visitors\n",
       "district                          \n",
       "Adilabad                   7321575\n",
       "Bhadradri Kothagudem      21600962\n",
       "Hyderabad                 83900960\n",
       "Jagtial                   11303514\n",
       "Jangaon                     826280\n",
       "Jayashankar Bhoopalpally  19632865\n",
       "Jogulamba Gadwal           6813340\n",
       "Kamareddy                     1773\n",
       "Karimnagar                 9462383\n",
       "Khammam                    9378315\n",
       "Komaram Bheem Asifabad       92734\n",
       "Mahabubabad                 600697\n",
       "Mahbubnagar               17180118\n",
       "Mancherial                  867242\n",
       "Medak                     20542639\n",
       "Medchal                          0\n",
       "Mulugu                     1819800\n",
       "Nagarkurnool               7424355\n",
       "Nalgonda                   6401933\n",
       "Narayanapet                 389250\n",
       "Nirmal                    13315796\n",
       "Nizamabad                   116147\n",
       "Peddapalli                   56977\n",
       "Rajanna Sircilla          41763276\n",
       "Ranga Reddy                      0\n",
       "Sangareddy                10424510\n",
       "Siddipet                   5775285\n",
       "Suryapet                         0\n",
       "Vikarabad                        0\n",
       "Wanaparthy                  890078\n",
       "Warangal (Rural)            819162\n",
       "Warangal (Urban)          30726603\n",
       "Yadadri Bhongir           26893080"
      ]
     },
     "execution_count": 54,
     "metadata": {},
     "output_type": "execute_result"
    }
   ],
   "source": [
    "domestic_vsum"
   ]
  },
  {
   "cell_type": "code",
   "execution_count": 55,
   "metadata": {},
   "outputs": [],
   "source": [
    "for_dom_ratio = domestic_vsum.merge(foreign_vsum, on=['district'])\n",
    "for_dom_ratio['Domestic to Foreign Ratio'] = (for_dom_ratio.visitors_x/for_dom_ratio.visitors_y)\n"
   ]
  },
  {
   "cell_type": "code",
   "execution_count": 56,
   "metadata": {},
   "outputs": [],
   "source": [
    "for_dom_ratio = for_dom_ratio.fillna(0)\n"
   ]
  },
  {
   "cell_type": "code",
   "execution_count": 64,
   "metadata": {},
   "outputs": [
    {
     "data": {
      "text/html": [
       "<div>\n",
       "<style scoped>\n",
       "    .dataframe tbody tr th:only-of-type {\n",
       "        vertical-align: middle;\n",
       "    }\n",
       "\n",
       "    .dataframe tbody tr th {\n",
       "        vertical-align: top;\n",
       "    }\n",
       "\n",
       "    .dataframe thead th {\n",
       "        text-align: right;\n",
       "    }\n",
       "</style>\n",
       "<table border=\"1\" class=\"dataframe\">\n",
       "  <thead>\n",
       "    <tr style=\"text-align: right;\">\n",
       "      <th></th>\n",
       "      <th>visitors_x</th>\n",
       "      <th>visitors_y</th>\n",
       "      <th>Domestic to Foreign Ratio</th>\n",
       "    </tr>\n",
       "    <tr>\n",
       "      <th>district</th>\n",
       "      <th></th>\n",
       "      <th></th>\n",
       "      <th></th>\n",
       "    </tr>\n",
       "  </thead>\n",
       "  <tbody>\n",
       "    <tr>\n",
       "      <th>Yadadri Bhongir</th>\n",
       "      <td>26893080</td>\n",
       "      <td>0</td>\n",
       "      <td>inf</td>\n",
       "    </tr>\n",
       "    <tr>\n",
       "      <th>Nalgonda</th>\n",
       "      <td>6401933</td>\n",
       "      <td>0</td>\n",
       "      <td>inf</td>\n",
       "    </tr>\n",
       "    <tr>\n",
       "      <th>Medak</th>\n",
       "      <td>20542639</td>\n",
       "      <td>0</td>\n",
       "      <td>inf</td>\n",
       "    </tr>\n",
       "    <tr>\n",
       "      <th>Peddapalli</th>\n",
       "      <td>56977</td>\n",
       "      <td>0</td>\n",
       "      <td>inf</td>\n",
       "    </tr>\n",
       "    <tr>\n",
       "      <th>Rajanna Sircilla</th>\n",
       "      <td>41763276</td>\n",
       "      <td>0</td>\n",
       "      <td>inf</td>\n",
       "    </tr>\n",
       "    <tr>\n",
       "      <th>Mahabubabad</th>\n",
       "      <td>600697</td>\n",
       "      <td>0</td>\n",
       "      <td>inf</td>\n",
       "    </tr>\n",
       "    <tr>\n",
       "      <th>Komaram Bheem Asifabad</th>\n",
       "      <td>92734</td>\n",
       "      <td>0</td>\n",
       "      <td>inf</td>\n",
       "    </tr>\n",
       "    <tr>\n",
       "      <th>Khammam</th>\n",
       "      <td>9378315</td>\n",
       "      <td>0</td>\n",
       "      <td>inf</td>\n",
       "    </tr>\n",
       "    <tr>\n",
       "      <th>Karimnagar</th>\n",
       "      <td>9462383</td>\n",
       "      <td>0</td>\n",
       "      <td>inf</td>\n",
       "    </tr>\n",
       "    <tr>\n",
       "      <th>Kamareddy</th>\n",
       "      <td>1773</td>\n",
       "      <td>0</td>\n",
       "      <td>inf</td>\n",
       "    </tr>\n",
       "    <tr>\n",
       "      <th>Sangareddy</th>\n",
       "      <td>10424510</td>\n",
       "      <td>0</td>\n",
       "      <td>inf</td>\n",
       "    </tr>\n",
       "    <tr>\n",
       "      <th>Siddipet</th>\n",
       "      <td>5775285</td>\n",
       "      <td>0</td>\n",
       "      <td>inf</td>\n",
       "    </tr>\n",
       "    <tr>\n",
       "      <th>Jagtial</th>\n",
       "      <td>11303514</td>\n",
       "      <td>0</td>\n",
       "      <td>inf</td>\n",
       "    </tr>\n",
       "    <tr>\n",
       "      <th>Wanaparthy</th>\n",
       "      <td>890078</td>\n",
       "      <td>0</td>\n",
       "      <td>inf</td>\n",
       "    </tr>\n",
       "    <tr>\n",
       "      <th>Bhadradri Kothagudem</th>\n",
       "      <td>21600962</td>\n",
       "      <td>0</td>\n",
       "      <td>inf</td>\n",
       "    </tr>\n",
       "    <tr>\n",
       "      <th>Nirmal</th>\n",
       "      <td>13315796</td>\n",
       "      <td>2</td>\n",
       "      <td>6.657898e+06</td>\n",
       "    </tr>\n",
       "    <tr>\n",
       "      <th>Jangaon</th>\n",
       "      <td>826280</td>\n",
       "      <td>2</td>\n",
       "      <td>4.131400e+05</td>\n",
       "    </tr>\n",
       "    <tr>\n",
       "      <th>Adilabad</th>\n",
       "      <td>7321575</td>\n",
       "      <td>32</td>\n",
       "      <td>2.287992e+05</td>\n",
       "    </tr>\n",
       "    <tr>\n",
       "      <th>Mancherial</th>\n",
       "      <td>867242</td>\n",
       "      <td>10</td>\n",
       "      <td>8.672420e+04</td>\n",
       "    </tr>\n",
       "    <tr>\n",
       "      <th>Nizamabad</th>\n",
       "      <td>116147</td>\n",
       "      <td>5</td>\n",
       "      <td>2.322940e+04</td>\n",
       "    </tr>\n",
       "    <tr>\n",
       "      <th>Jayashankar Bhoopalpally</th>\n",
       "      <td>19632865</td>\n",
       "      <td>1252</td>\n",
       "      <td>1.568120e+04</td>\n",
       "    </tr>\n",
       "    <tr>\n",
       "      <th>Nagarkurnool</th>\n",
       "      <td>7424355</td>\n",
       "      <td>761</td>\n",
       "      <td>9.756051e+03</td>\n",
       "    </tr>\n",
       "    <tr>\n",
       "      <th>Mahbubnagar</th>\n",
       "      <td>17180118</td>\n",
       "      <td>2282</td>\n",
       "      <td>7.528535e+03</td>\n",
       "    </tr>\n",
       "    <tr>\n",
       "      <th>Jogulamba Gadwal</th>\n",
       "      <td>6813340</td>\n",
       "      <td>945</td>\n",
       "      <td>7.209884e+03</td>\n",
       "    </tr>\n",
       "    <tr>\n",
       "      <th>Warangal (Urban)</th>\n",
       "      <td>30726603</td>\n",
       "      <td>8821</td>\n",
       "      <td>3.483347e+03</td>\n",
       "    </tr>\n",
       "    <tr>\n",
       "      <th>Mulugu</th>\n",
       "      <td>1819800</td>\n",
       "      <td>575</td>\n",
       "      <td>3.164870e+03</td>\n",
       "    </tr>\n",
       "    <tr>\n",
       "      <th>Warangal (Rural)</th>\n",
       "      <td>819162</td>\n",
       "      <td>306</td>\n",
       "      <td>2.677000e+03</td>\n",
       "    </tr>\n",
       "    <tr>\n",
       "      <th>Hyderabad</th>\n",
       "      <td>83900960</td>\n",
       "      <td>1044898</td>\n",
       "      <td>8.029584e+01</td>\n",
       "    </tr>\n",
       "    <tr>\n",
       "      <th>Medchal</th>\n",
       "      <td>0</td>\n",
       "      <td>0</td>\n",
       "      <td>0.000000e+00</td>\n",
       "    </tr>\n",
       "    <tr>\n",
       "      <th>Ranga Reddy</th>\n",
       "      <td>0</td>\n",
       "      <td>0</td>\n",
       "      <td>0.000000e+00</td>\n",
       "    </tr>\n",
       "    <tr>\n",
       "      <th>Suryapet</th>\n",
       "      <td>0</td>\n",
       "      <td>0</td>\n",
       "      <td>0.000000e+00</td>\n",
       "    </tr>\n",
       "    <tr>\n",
       "      <th>Vikarabad</th>\n",
       "      <td>0</td>\n",
       "      <td>0</td>\n",
       "      <td>0.000000e+00</td>\n",
       "    </tr>\n",
       "  </tbody>\n",
       "</table>\n",
       "</div>"
      ],
      "text/plain": [
       "                          visitors_x  visitors_y  Domestic to Foreign Ratio\n",
       "district                                                                   \n",
       "Yadadri Bhongir             26893080           0                        inf\n",
       "Nalgonda                     6401933           0                        inf\n",
       "Medak                       20542639           0                        inf\n",
       "Peddapalli                     56977           0                        inf\n",
       "Rajanna Sircilla            41763276           0                        inf\n",
       "Mahabubabad                   600697           0                        inf\n",
       "Komaram Bheem Asifabad         92734           0                        inf\n",
       "Khammam                      9378315           0                        inf\n",
       "Karimnagar                   9462383           0                        inf\n",
       "Kamareddy                       1773           0                        inf\n",
       "Sangareddy                  10424510           0                        inf\n",
       "Siddipet                     5775285           0                        inf\n",
       "Jagtial                     11303514           0                        inf\n",
       "Wanaparthy                    890078           0                        inf\n",
       "Bhadradri Kothagudem        21600962           0                        inf\n",
       "Nirmal                      13315796           2               6.657898e+06\n",
       "Jangaon                       826280           2               4.131400e+05\n",
       "Adilabad                     7321575          32               2.287992e+05\n",
       "Mancherial                    867242          10               8.672420e+04\n",
       "Nizamabad                     116147           5               2.322940e+04\n",
       "Jayashankar Bhoopalpally    19632865        1252               1.568120e+04\n",
       "Nagarkurnool                 7424355         761               9.756051e+03\n",
       "Mahbubnagar                 17180118        2282               7.528535e+03\n",
       "Jogulamba Gadwal             6813340         945               7.209884e+03\n",
       "Warangal (Urban)            30726603        8821               3.483347e+03\n",
       "Mulugu                       1819800         575               3.164870e+03\n",
       "Warangal (Rural)              819162         306               2.677000e+03\n",
       "Hyderabad                   83900960     1044898               8.029584e+01\n",
       "Medchal                            0           0               0.000000e+00\n",
       "Ranga Reddy                        0           0               0.000000e+00\n",
       "Suryapet                           0           0               0.000000e+00\n",
       "Vikarabad                          0           0               0.000000e+00"
      ]
     },
     "execution_count": 64,
     "metadata": {},
     "output_type": "execute_result"
    }
   ],
   "source": [
    "tops = for_dom_ratio.sort_values('Domestic to Foreign Ratio', ascending=False)\n",
    "tops = tops.dropna()\n",
    "tops\n"
   ]
  },
  {
   "cell_type": "code",
   "execution_count": null,
   "metadata": {},
   "outputs": [
    {
     "data": {
      "application/vnd.plotly.v1+json": {
       "config": {
        "plotlyServerURL": "https://plot.ly"
       },
       "data": [
        {
         "alignmentgroup": "True",
         "hovertemplate": "Domestic to Foreign Ratio=%{x}<br>district=%{y}<extra></extra>",
         "legendgroup": "",
         "marker": {
          "color": "#636efa",
          "pattern": {
           "shape": ""
          }
         },
         "name": "",
         "offsetgroup": "",
         "orientation": "h",
         "showlegend": false,
         "textposition": "auto",
         "type": "bar",
         "x": [
          228799.21875,
          null,
          80.29583748844385,
          null,
          413140,
          15681.202076677317,
          7209.883597883598,
          null,
          null,
          null,
          null,
          null,
          7528.535495179667,
          86724.2,
          null,
          0,
          3164.8695652173915,
          9756.051248357424,
          null,
          6657898,
          23229.4,
          null,
          null,
          0,
          null,
          null,
          0,
          0,
          null,
          2677,
          3483.3468994445075,
          null
         ],
         "xaxis": "x",
         "y": [
          "Adilabad",
          "Bhadradri Kothagudem ",
          "Hyderabad",
          "Jagtial ",
          "Jangaon ",
          "Jayashankar Bhoopalpally",
          "Jogulamba Gadwal ",
          "Kamareddy ",
          "Karimnagar ",
          "Khammam",
          "Komaram Bheem Asifabad",
          "Mahabubabad ",
          "Mahbubnagar",
          "Mancherial",
          "Medak ",
          "Medchal ",
          "Mulugu",
          "Nagarkurnool ",
          "Nalgonda",
          "Nirmal",
          "Nizamabad",
          "Peddapalli",
          "Rajanna Sircilla ",
          "Ranga Reddy",
          "Sangareddy ",
          "Siddipet",
          "Suryapet",
          "Vikarabad",
          "Wanaparthy ",
          "Warangal (Rural)",
          "Warangal (Urban)",
          "Yadadri Bhongir"
         ],
         "yaxis": "y"
        }
       ],
       "layout": {
        "barmode": "relative",
        "legend": {
         "tracegroupgap": 0
        },
        "margin": {
         "t": 60
        },
        "template": {
         "data": {
          "bar": [
           {
            "error_x": {
             "color": "#2a3f5f"
            },
            "error_y": {
             "color": "#2a3f5f"
            },
            "marker": {
             "line": {
              "color": "#E5ECF6",
              "width": 0.5
             },
             "pattern": {
              "fillmode": "overlay",
              "size": 10,
              "solidity": 0.2
             }
            },
            "type": "bar"
           }
          ],
          "barpolar": [
           {
            "marker": {
             "line": {
              "color": "#E5ECF6",
              "width": 0.5
             },
             "pattern": {
              "fillmode": "overlay",
              "size": 10,
              "solidity": 0.2
             }
            },
            "type": "barpolar"
           }
          ],
          "carpet": [
           {
            "aaxis": {
             "endlinecolor": "#2a3f5f",
             "gridcolor": "white",
             "linecolor": "white",
             "minorgridcolor": "white",
             "startlinecolor": "#2a3f5f"
            },
            "baxis": {
             "endlinecolor": "#2a3f5f",
             "gridcolor": "white",
             "linecolor": "white",
             "minorgridcolor": "white",
             "startlinecolor": "#2a3f5f"
            },
            "type": "carpet"
           }
          ],
          "choropleth": [
           {
            "colorbar": {
             "outlinewidth": 0,
             "ticks": ""
            },
            "type": "choropleth"
           }
          ],
          "contour": [
           {
            "colorbar": {
             "outlinewidth": 0,
             "ticks": ""
            },
            "colorscale": [
             [
              0,
              "#0d0887"
             ],
             [
              0.1111111111111111,
              "#46039f"
             ],
             [
              0.2222222222222222,
              "#7201a8"
             ],
             [
              0.3333333333333333,
              "#9c179e"
             ],
             [
              0.4444444444444444,
              "#bd3786"
             ],
             [
              0.5555555555555556,
              "#d8576b"
             ],
             [
              0.6666666666666666,
              "#ed7953"
             ],
             [
              0.7777777777777778,
              "#fb9f3a"
             ],
             [
              0.8888888888888888,
              "#fdca26"
             ],
             [
              1,
              "#f0f921"
             ]
            ],
            "type": "contour"
           }
          ],
          "contourcarpet": [
           {
            "colorbar": {
             "outlinewidth": 0,
             "ticks": ""
            },
            "type": "contourcarpet"
           }
          ],
          "heatmap": [
           {
            "colorbar": {
             "outlinewidth": 0,
             "ticks": ""
            },
            "colorscale": [
             [
              0,
              "#0d0887"
             ],
             [
              0.1111111111111111,
              "#46039f"
             ],
             [
              0.2222222222222222,
              "#7201a8"
             ],
             [
              0.3333333333333333,
              "#9c179e"
             ],
             [
              0.4444444444444444,
              "#bd3786"
             ],
             [
              0.5555555555555556,
              "#d8576b"
             ],
             [
              0.6666666666666666,
              "#ed7953"
             ],
             [
              0.7777777777777778,
              "#fb9f3a"
             ],
             [
              0.8888888888888888,
              "#fdca26"
             ],
             [
              1,
              "#f0f921"
             ]
            ],
            "type": "heatmap"
           }
          ],
          "heatmapgl": [
           {
            "colorbar": {
             "outlinewidth": 0,
             "ticks": ""
            },
            "colorscale": [
             [
              0,
              "#0d0887"
             ],
             [
              0.1111111111111111,
              "#46039f"
             ],
             [
              0.2222222222222222,
              "#7201a8"
             ],
             [
              0.3333333333333333,
              "#9c179e"
             ],
             [
              0.4444444444444444,
              "#bd3786"
             ],
             [
              0.5555555555555556,
              "#d8576b"
             ],
             [
              0.6666666666666666,
              "#ed7953"
             ],
             [
              0.7777777777777778,
              "#fb9f3a"
             ],
             [
              0.8888888888888888,
              "#fdca26"
             ],
             [
              1,
              "#f0f921"
             ]
            ],
            "type": "heatmapgl"
           }
          ],
          "histogram": [
           {
            "marker": {
             "pattern": {
              "fillmode": "overlay",
              "size": 10,
              "solidity": 0.2
             }
            },
            "type": "histogram"
           }
          ],
          "histogram2d": [
           {
            "colorbar": {
             "outlinewidth": 0,
             "ticks": ""
            },
            "colorscale": [
             [
              0,
              "#0d0887"
             ],
             [
              0.1111111111111111,
              "#46039f"
             ],
             [
              0.2222222222222222,
              "#7201a8"
             ],
             [
              0.3333333333333333,
              "#9c179e"
             ],
             [
              0.4444444444444444,
              "#bd3786"
             ],
             [
              0.5555555555555556,
              "#d8576b"
             ],
             [
              0.6666666666666666,
              "#ed7953"
             ],
             [
              0.7777777777777778,
              "#fb9f3a"
             ],
             [
              0.8888888888888888,
              "#fdca26"
             ],
             [
              1,
              "#f0f921"
             ]
            ],
            "type": "histogram2d"
           }
          ],
          "histogram2dcontour": [
           {
            "colorbar": {
             "outlinewidth": 0,
             "ticks": ""
            },
            "colorscale": [
             [
              0,
              "#0d0887"
             ],
             [
              0.1111111111111111,
              "#46039f"
             ],
             [
              0.2222222222222222,
              "#7201a8"
             ],
             [
              0.3333333333333333,
              "#9c179e"
             ],
             [
              0.4444444444444444,
              "#bd3786"
             ],
             [
              0.5555555555555556,
              "#d8576b"
             ],
             [
              0.6666666666666666,
              "#ed7953"
             ],
             [
              0.7777777777777778,
              "#fb9f3a"
             ],
             [
              0.8888888888888888,
              "#fdca26"
             ],
             [
              1,
              "#f0f921"
             ]
            ],
            "type": "histogram2dcontour"
           }
          ],
          "mesh3d": [
           {
            "colorbar": {
             "outlinewidth": 0,
             "ticks": ""
            },
            "type": "mesh3d"
           }
          ],
          "parcoords": [
           {
            "line": {
             "colorbar": {
              "outlinewidth": 0,
              "ticks": ""
             }
            },
            "type": "parcoords"
           }
          ],
          "pie": [
           {
            "automargin": true,
            "type": "pie"
           }
          ],
          "scatter": [
           {
            "fillpattern": {
             "fillmode": "overlay",
             "size": 10,
             "solidity": 0.2
            },
            "type": "scatter"
           }
          ],
          "scatter3d": [
           {
            "line": {
             "colorbar": {
              "outlinewidth": 0,
              "ticks": ""
             }
            },
            "marker": {
             "colorbar": {
              "outlinewidth": 0,
              "ticks": ""
             }
            },
            "type": "scatter3d"
           }
          ],
          "scattercarpet": [
           {
            "marker": {
             "colorbar": {
              "outlinewidth": 0,
              "ticks": ""
             }
            },
            "type": "scattercarpet"
           }
          ],
          "scattergeo": [
           {
            "marker": {
             "colorbar": {
              "outlinewidth": 0,
              "ticks": ""
             }
            },
            "type": "scattergeo"
           }
          ],
          "scattergl": [
           {
            "marker": {
             "colorbar": {
              "outlinewidth": 0,
              "ticks": ""
             }
            },
            "type": "scattergl"
           }
          ],
          "scattermapbox": [
           {
            "marker": {
             "colorbar": {
              "outlinewidth": 0,
              "ticks": ""
             }
            },
            "type": "scattermapbox"
           }
          ],
          "scatterpolar": [
           {
            "marker": {
             "colorbar": {
              "outlinewidth": 0,
              "ticks": ""
             }
            },
            "type": "scatterpolar"
           }
          ],
          "scatterpolargl": [
           {
            "marker": {
             "colorbar": {
              "outlinewidth": 0,
              "ticks": ""
             }
            },
            "type": "scatterpolargl"
           }
          ],
          "scatterternary": [
           {
            "marker": {
             "colorbar": {
              "outlinewidth": 0,
              "ticks": ""
             }
            },
            "type": "scatterternary"
           }
          ],
          "surface": [
           {
            "colorbar": {
             "outlinewidth": 0,
             "ticks": ""
            },
            "colorscale": [
             [
              0,
              "#0d0887"
             ],
             [
              0.1111111111111111,
              "#46039f"
             ],
             [
              0.2222222222222222,
              "#7201a8"
             ],
             [
              0.3333333333333333,
              "#9c179e"
             ],
             [
              0.4444444444444444,
              "#bd3786"
             ],
             [
              0.5555555555555556,
              "#d8576b"
             ],
             [
              0.6666666666666666,
              "#ed7953"
             ],
             [
              0.7777777777777778,
              "#fb9f3a"
             ],
             [
              0.8888888888888888,
              "#fdca26"
             ],
             [
              1,
              "#f0f921"
             ]
            ],
            "type": "surface"
           }
          ],
          "table": [
           {
            "cells": {
             "fill": {
              "color": "#EBF0F8"
             },
             "line": {
              "color": "white"
             }
            },
            "header": {
             "fill": {
              "color": "#C8D4E3"
             },
             "line": {
              "color": "white"
             }
            },
            "type": "table"
           }
          ]
         },
         "layout": {
          "annotationdefaults": {
           "arrowcolor": "#2a3f5f",
           "arrowhead": 0,
           "arrowwidth": 1
          },
          "autotypenumbers": "strict",
          "coloraxis": {
           "colorbar": {
            "outlinewidth": 0,
            "ticks": ""
           }
          },
          "colorscale": {
           "diverging": [
            [
             0,
             "#8e0152"
            ],
            [
             0.1,
             "#c51b7d"
            ],
            [
             0.2,
             "#de77ae"
            ],
            [
             0.3,
             "#f1b6da"
            ],
            [
             0.4,
             "#fde0ef"
            ],
            [
             0.5,
             "#f7f7f7"
            ],
            [
             0.6,
             "#e6f5d0"
            ],
            [
             0.7,
             "#b8e186"
            ],
            [
             0.8,
             "#7fbc41"
            ],
            [
             0.9,
             "#4d9221"
            ],
            [
             1,
             "#276419"
            ]
           ],
           "sequential": [
            [
             0,
             "#0d0887"
            ],
            [
             0.1111111111111111,
             "#46039f"
            ],
            [
             0.2222222222222222,
             "#7201a8"
            ],
            [
             0.3333333333333333,
             "#9c179e"
            ],
            [
             0.4444444444444444,
             "#bd3786"
            ],
            [
             0.5555555555555556,
             "#d8576b"
            ],
            [
             0.6666666666666666,
             "#ed7953"
            ],
            [
             0.7777777777777778,
             "#fb9f3a"
            ],
            [
             0.8888888888888888,
             "#fdca26"
            ],
            [
             1,
             "#f0f921"
            ]
           ],
           "sequentialminus": [
            [
             0,
             "#0d0887"
            ],
            [
             0.1111111111111111,
             "#46039f"
            ],
            [
             0.2222222222222222,
             "#7201a8"
            ],
            [
             0.3333333333333333,
             "#9c179e"
            ],
            [
             0.4444444444444444,
             "#bd3786"
            ],
            [
             0.5555555555555556,
             "#d8576b"
            ],
            [
             0.6666666666666666,
             "#ed7953"
            ],
            [
             0.7777777777777778,
             "#fb9f3a"
            ],
            [
             0.8888888888888888,
             "#fdca26"
            ],
            [
             1,
             "#f0f921"
            ]
           ]
          },
          "colorway": [
           "#636efa",
           "#EF553B",
           "#00cc96",
           "#ab63fa",
           "#FFA15A",
           "#19d3f3",
           "#FF6692",
           "#B6E880",
           "#FF97FF",
           "#FECB52"
          ],
          "font": {
           "color": "#2a3f5f"
          },
          "geo": {
           "bgcolor": "white",
           "lakecolor": "white",
           "landcolor": "#E5ECF6",
           "showlakes": true,
           "showland": true,
           "subunitcolor": "white"
          },
          "hoverlabel": {
           "align": "left"
          },
          "hovermode": "closest",
          "mapbox": {
           "style": "light"
          },
          "paper_bgcolor": "white",
          "plot_bgcolor": "#E5ECF6",
          "polar": {
           "angularaxis": {
            "gridcolor": "white",
            "linecolor": "white",
            "ticks": ""
           },
           "bgcolor": "#E5ECF6",
           "radialaxis": {
            "gridcolor": "white",
            "linecolor": "white",
            "ticks": ""
           }
          },
          "scene": {
           "xaxis": {
            "backgroundcolor": "#E5ECF6",
            "gridcolor": "white",
            "gridwidth": 2,
            "linecolor": "white",
            "showbackground": true,
            "ticks": "",
            "zerolinecolor": "white"
           },
           "yaxis": {
            "backgroundcolor": "#E5ECF6",
            "gridcolor": "white",
            "gridwidth": 2,
            "linecolor": "white",
            "showbackground": true,
            "ticks": "",
            "zerolinecolor": "white"
           },
           "zaxis": {
            "backgroundcolor": "#E5ECF6",
            "gridcolor": "white",
            "gridwidth": 2,
            "linecolor": "white",
            "showbackground": true,
            "ticks": "",
            "zerolinecolor": "white"
           }
          },
          "shapedefaults": {
           "line": {
            "color": "#2a3f5f"
           }
          },
          "ternary": {
           "aaxis": {
            "gridcolor": "white",
            "linecolor": "white",
            "ticks": ""
           },
           "baxis": {
            "gridcolor": "white",
            "linecolor": "white",
            "ticks": ""
           },
           "bgcolor": "#E5ECF6",
           "caxis": {
            "gridcolor": "white",
            "linecolor": "white",
            "ticks": ""
           }
          },
          "title": {
           "x": 0.05
          },
          "xaxis": {
           "automargin": true,
           "gridcolor": "white",
           "linecolor": "white",
           "ticks": "",
           "title": {
            "standoff": 15
           },
           "zerolinecolor": "white",
           "zerolinewidth": 2
          },
          "yaxis": {
           "automargin": true,
           "gridcolor": "white",
           "linecolor": "white",
           "ticks": "",
           "title": {
            "standoff": 15
           },
           "zerolinecolor": "white",
           "zerolinewidth": 2
          }
         }
        },
        "xaxis": {
         "anchor": "y",
         "domain": [
          0,
          1
         ],
         "title": {
          "text": "Domestic to Foreign Ratio"
         }
        },
        "yaxis": {
         "anchor": "x",
         "domain": [
          0,
          1
         ],
         "title": {
          "text": "district"
         }
        }
       }
      }
     },
     "metadata": {},
     "output_type": "display_data"
    }
   ],
   "source": [
    "px.bar(for_dom_ratio,\n",
    "       x='Domestic to Foreign Ratio')\n"
   ]
  },
  {
   "cell_type": "code",
   "execution_count": 81,
   "metadata": {},
   "outputs": [],
   "source": [
    "tops = tops.loc[~(tops == 0).all(axis=1)]\n",
    "tops = tops.replace([np.inf, -np.inf], np.nan).dropna()\n"
   ]
  },
  {
   "cell_type": "code",
   "execution_count": 83,
   "metadata": {},
   "outputs": [
    {
     "data": {
      "text/html": [
       "<div>\n",
       "<style scoped>\n",
       "    .dataframe tbody tr th:only-of-type {\n",
       "        vertical-align: middle;\n",
       "    }\n",
       "\n",
       "    .dataframe tbody tr th {\n",
       "        vertical-align: top;\n",
       "    }\n",
       "\n",
       "    .dataframe thead th {\n",
       "        text-align: right;\n",
       "    }\n",
       "</style>\n",
       "<table border=\"1\" class=\"dataframe\">\n",
       "  <thead>\n",
       "    <tr style=\"text-align: right;\">\n",
       "      <th></th>\n",
       "      <th>visitors_x</th>\n",
       "      <th>visitors_y</th>\n",
       "      <th>Domestic to Foreign Ratio</th>\n",
       "    </tr>\n",
       "    <tr>\n",
       "      <th>district</th>\n",
       "      <th></th>\n",
       "      <th></th>\n",
       "      <th></th>\n",
       "    </tr>\n",
       "  </thead>\n",
       "  <tbody>\n",
       "    <tr>\n",
       "      <th>Nirmal</th>\n",
       "      <td>13315796</td>\n",
       "      <td>2</td>\n",
       "      <td>6.657898e+06</td>\n",
       "    </tr>\n",
       "    <tr>\n",
       "      <th>Jangaon</th>\n",
       "      <td>826280</td>\n",
       "      <td>2</td>\n",
       "      <td>4.131400e+05</td>\n",
       "    </tr>\n",
       "    <tr>\n",
       "      <th>Adilabad</th>\n",
       "      <td>7321575</td>\n",
       "      <td>32</td>\n",
       "      <td>2.287992e+05</td>\n",
       "    </tr>\n",
       "    <tr>\n",
       "      <th>Mancherial</th>\n",
       "      <td>867242</td>\n",
       "      <td>10</td>\n",
       "      <td>8.672420e+04</td>\n",
       "    </tr>\n",
       "    <tr>\n",
       "      <th>Nizamabad</th>\n",
       "      <td>116147</td>\n",
       "      <td>5</td>\n",
       "      <td>2.322940e+04</td>\n",
       "    </tr>\n",
       "    <tr>\n",
       "      <th>Jayashankar Bhoopalpally</th>\n",
       "      <td>19632865</td>\n",
       "      <td>1252</td>\n",
       "      <td>1.568120e+04</td>\n",
       "    </tr>\n",
       "    <tr>\n",
       "      <th>Nagarkurnool</th>\n",
       "      <td>7424355</td>\n",
       "      <td>761</td>\n",
       "      <td>9.756051e+03</td>\n",
       "    </tr>\n",
       "    <tr>\n",
       "      <th>Mahbubnagar</th>\n",
       "      <td>17180118</td>\n",
       "      <td>2282</td>\n",
       "      <td>7.528535e+03</td>\n",
       "    </tr>\n",
       "    <tr>\n",
       "      <th>Jogulamba Gadwal</th>\n",
       "      <td>6813340</td>\n",
       "      <td>945</td>\n",
       "      <td>7.209884e+03</td>\n",
       "    </tr>\n",
       "    <tr>\n",
       "      <th>Warangal (Urban)</th>\n",
       "      <td>30726603</td>\n",
       "      <td>8821</td>\n",
       "      <td>3.483347e+03</td>\n",
       "    </tr>\n",
       "    <tr>\n",
       "      <th>Mulugu</th>\n",
       "      <td>1819800</td>\n",
       "      <td>575</td>\n",
       "      <td>3.164870e+03</td>\n",
       "    </tr>\n",
       "    <tr>\n",
       "      <th>Warangal (Rural)</th>\n",
       "      <td>819162</td>\n",
       "      <td>306</td>\n",
       "      <td>2.677000e+03</td>\n",
       "    </tr>\n",
       "    <tr>\n",
       "      <th>Hyderabad</th>\n",
       "      <td>83900960</td>\n",
       "      <td>1044898</td>\n",
       "      <td>8.029584e+01</td>\n",
       "    </tr>\n",
       "  </tbody>\n",
       "</table>\n",
       "</div>"
      ],
      "text/plain": [
       "                          visitors_x  visitors_y  Domestic to Foreign Ratio\n",
       "district                                                                   \n",
       "Nirmal                      13315796           2               6.657898e+06\n",
       "Jangaon                       826280           2               4.131400e+05\n",
       "Adilabad                     7321575          32               2.287992e+05\n",
       "Mancherial                    867242          10               8.672420e+04\n",
       "Nizamabad                     116147           5               2.322940e+04\n",
       "Jayashankar Bhoopalpally    19632865        1252               1.568120e+04\n",
       "Nagarkurnool                 7424355         761               9.756051e+03\n",
       "Mahbubnagar                 17180118        2282               7.528535e+03\n",
       "Jogulamba Gadwal             6813340         945               7.209884e+03\n",
       "Warangal (Urban)            30726603        8821               3.483347e+03\n",
       "Mulugu                       1819800         575               3.164870e+03\n",
       "Warangal (Rural)              819162         306               2.677000e+03\n",
       "Hyderabad                   83900960     1044898               8.029584e+01"
      ]
     },
     "execution_count": 83,
     "metadata": {},
     "output_type": "execute_result"
    }
   ],
   "source": [
    "tops = tops.sort_values('Domestic to Foreign Ratio', ascending=False)\n",
    "tops"
   ]
  },
  {
   "cell_type": "code",
   "execution_count": 91,
   "metadata": {},
   "outputs": [],
   "source": [
    "top_DtR = tops.iloc[:3]\n",
    "botto_DtR = tops.iloc[-3:]"
   ]
  },
  {
   "attachments": {},
   "cell_type": "markdown",
   "metadata": {},
   "source": [
    "### Top 3 Districts with high domestic to foreign tourist ratio"
   ]
  },
  {
   "cell_type": "code",
   "execution_count": 87,
   "metadata": {},
   "outputs": [
    {
     "data": {
      "text/html": [
       "<div>\n",
       "<style scoped>\n",
       "    .dataframe tbody tr th:only-of-type {\n",
       "        vertical-align: middle;\n",
       "    }\n",
       "\n",
       "    .dataframe tbody tr th {\n",
       "        vertical-align: top;\n",
       "    }\n",
       "\n",
       "    .dataframe thead th {\n",
       "        text-align: right;\n",
       "    }\n",
       "</style>\n",
       "<table border=\"1\" class=\"dataframe\">\n",
       "  <thead>\n",
       "    <tr style=\"text-align: right;\">\n",
       "      <th></th>\n",
       "      <th>visitors_x</th>\n",
       "      <th>visitors_y</th>\n",
       "      <th>Domestic to Foreign Ratio</th>\n",
       "    </tr>\n",
       "    <tr>\n",
       "      <th>district</th>\n",
       "      <th></th>\n",
       "      <th></th>\n",
       "      <th></th>\n",
       "    </tr>\n",
       "  </thead>\n",
       "  <tbody>\n",
       "    <tr>\n",
       "      <th>Nirmal</th>\n",
       "      <td>13315796</td>\n",
       "      <td>2</td>\n",
       "      <td>6.657898e+06</td>\n",
       "    </tr>\n",
       "    <tr>\n",
       "      <th>Jangaon</th>\n",
       "      <td>826280</td>\n",
       "      <td>2</td>\n",
       "      <td>4.131400e+05</td>\n",
       "    </tr>\n",
       "    <tr>\n",
       "      <th>Adilabad</th>\n",
       "      <td>7321575</td>\n",
       "      <td>32</td>\n",
       "      <td>2.287992e+05</td>\n",
       "    </tr>\n",
       "  </tbody>\n",
       "</table>\n",
       "</div>"
      ],
      "text/plain": [
       "          visitors_x  visitors_y  Domestic to Foreign Ratio\n",
       "district                                                   \n",
       "Nirmal      13315796           2               6.657898e+06\n",
       "Jangaon       826280           2               4.131400e+05\n",
       "Adilabad     7321575          32               2.287992e+05"
      ]
     },
     "execution_count": 87,
     "metadata": {},
     "output_type": "execute_result"
    }
   ],
   "source": [
    "top_DtR\n"
   ]
  },
  {
   "cell_type": "code",
   "execution_count": 93,
   "metadata": {},
   "outputs": [
    {
     "data": {
      "application/vnd.plotly.v1+json": {
       "config": {
        "plotlyServerURL": "https://plot.ly"
       },
       "data": [
        {
         "alignmentgroup": "True",
         "hovertemplate": "Domestic to Foreign Ratio=%{x}<br>district=%{y}<extra></extra>",
         "legendgroup": "",
         "marker": {
          "color": "#636efa",
          "pattern": {
           "shape": ""
          }
         },
         "name": "",
         "offsetgroup": "",
         "orientation": "h",
         "showlegend": false,
         "textposition": "auto",
         "type": "bar",
         "x": [
          6657898,
          413140,
          228799.21875
         ],
         "xaxis": "x",
         "y": [
          "Nirmal",
          "Jangaon ",
          "Adilabad"
         ],
         "yaxis": "y"
        }
       ],
       "layout": {
        "barmode": "relative",
        "legend": {
         "tracegroupgap": 0
        },
        "margin": {
         "t": 60
        },
        "template": {
         "data": {
          "bar": [
           {
            "error_x": {
             "color": "#2a3f5f"
            },
            "error_y": {
             "color": "#2a3f5f"
            },
            "marker": {
             "line": {
              "color": "#E5ECF6",
              "width": 0.5
             },
             "pattern": {
              "fillmode": "overlay",
              "size": 10,
              "solidity": 0.2
             }
            },
            "type": "bar"
           }
          ],
          "barpolar": [
           {
            "marker": {
             "line": {
              "color": "#E5ECF6",
              "width": 0.5
             },
             "pattern": {
              "fillmode": "overlay",
              "size": 10,
              "solidity": 0.2
             }
            },
            "type": "barpolar"
           }
          ],
          "carpet": [
           {
            "aaxis": {
             "endlinecolor": "#2a3f5f",
             "gridcolor": "white",
             "linecolor": "white",
             "minorgridcolor": "white",
             "startlinecolor": "#2a3f5f"
            },
            "baxis": {
             "endlinecolor": "#2a3f5f",
             "gridcolor": "white",
             "linecolor": "white",
             "minorgridcolor": "white",
             "startlinecolor": "#2a3f5f"
            },
            "type": "carpet"
           }
          ],
          "choropleth": [
           {
            "colorbar": {
             "outlinewidth": 0,
             "ticks": ""
            },
            "type": "choropleth"
           }
          ],
          "contour": [
           {
            "colorbar": {
             "outlinewidth": 0,
             "ticks": ""
            },
            "colorscale": [
             [
              0,
              "#0d0887"
             ],
             [
              0.1111111111111111,
              "#46039f"
             ],
             [
              0.2222222222222222,
              "#7201a8"
             ],
             [
              0.3333333333333333,
              "#9c179e"
             ],
             [
              0.4444444444444444,
              "#bd3786"
             ],
             [
              0.5555555555555556,
              "#d8576b"
             ],
             [
              0.6666666666666666,
              "#ed7953"
             ],
             [
              0.7777777777777778,
              "#fb9f3a"
             ],
             [
              0.8888888888888888,
              "#fdca26"
             ],
             [
              1,
              "#f0f921"
             ]
            ],
            "type": "contour"
           }
          ],
          "contourcarpet": [
           {
            "colorbar": {
             "outlinewidth": 0,
             "ticks": ""
            },
            "type": "contourcarpet"
           }
          ],
          "heatmap": [
           {
            "colorbar": {
             "outlinewidth": 0,
             "ticks": ""
            },
            "colorscale": [
             [
              0,
              "#0d0887"
             ],
             [
              0.1111111111111111,
              "#46039f"
             ],
             [
              0.2222222222222222,
              "#7201a8"
             ],
             [
              0.3333333333333333,
              "#9c179e"
             ],
             [
              0.4444444444444444,
              "#bd3786"
             ],
             [
              0.5555555555555556,
              "#d8576b"
             ],
             [
              0.6666666666666666,
              "#ed7953"
             ],
             [
              0.7777777777777778,
              "#fb9f3a"
             ],
             [
              0.8888888888888888,
              "#fdca26"
             ],
             [
              1,
              "#f0f921"
             ]
            ],
            "type": "heatmap"
           }
          ],
          "heatmapgl": [
           {
            "colorbar": {
             "outlinewidth": 0,
             "ticks": ""
            },
            "colorscale": [
             [
              0,
              "#0d0887"
             ],
             [
              0.1111111111111111,
              "#46039f"
             ],
             [
              0.2222222222222222,
              "#7201a8"
             ],
             [
              0.3333333333333333,
              "#9c179e"
             ],
             [
              0.4444444444444444,
              "#bd3786"
             ],
             [
              0.5555555555555556,
              "#d8576b"
             ],
             [
              0.6666666666666666,
              "#ed7953"
             ],
             [
              0.7777777777777778,
              "#fb9f3a"
             ],
             [
              0.8888888888888888,
              "#fdca26"
             ],
             [
              1,
              "#f0f921"
             ]
            ],
            "type": "heatmapgl"
           }
          ],
          "histogram": [
           {
            "marker": {
             "pattern": {
              "fillmode": "overlay",
              "size": 10,
              "solidity": 0.2
             }
            },
            "type": "histogram"
           }
          ],
          "histogram2d": [
           {
            "colorbar": {
             "outlinewidth": 0,
             "ticks": ""
            },
            "colorscale": [
             [
              0,
              "#0d0887"
             ],
             [
              0.1111111111111111,
              "#46039f"
             ],
             [
              0.2222222222222222,
              "#7201a8"
             ],
             [
              0.3333333333333333,
              "#9c179e"
             ],
             [
              0.4444444444444444,
              "#bd3786"
             ],
             [
              0.5555555555555556,
              "#d8576b"
             ],
             [
              0.6666666666666666,
              "#ed7953"
             ],
             [
              0.7777777777777778,
              "#fb9f3a"
             ],
             [
              0.8888888888888888,
              "#fdca26"
             ],
             [
              1,
              "#f0f921"
             ]
            ],
            "type": "histogram2d"
           }
          ],
          "histogram2dcontour": [
           {
            "colorbar": {
             "outlinewidth": 0,
             "ticks": ""
            },
            "colorscale": [
             [
              0,
              "#0d0887"
             ],
             [
              0.1111111111111111,
              "#46039f"
             ],
             [
              0.2222222222222222,
              "#7201a8"
             ],
             [
              0.3333333333333333,
              "#9c179e"
             ],
             [
              0.4444444444444444,
              "#bd3786"
             ],
             [
              0.5555555555555556,
              "#d8576b"
             ],
             [
              0.6666666666666666,
              "#ed7953"
             ],
             [
              0.7777777777777778,
              "#fb9f3a"
             ],
             [
              0.8888888888888888,
              "#fdca26"
             ],
             [
              1,
              "#f0f921"
             ]
            ],
            "type": "histogram2dcontour"
           }
          ],
          "mesh3d": [
           {
            "colorbar": {
             "outlinewidth": 0,
             "ticks": ""
            },
            "type": "mesh3d"
           }
          ],
          "parcoords": [
           {
            "line": {
             "colorbar": {
              "outlinewidth": 0,
              "ticks": ""
             }
            },
            "type": "parcoords"
           }
          ],
          "pie": [
           {
            "automargin": true,
            "type": "pie"
           }
          ],
          "scatter": [
           {
            "fillpattern": {
             "fillmode": "overlay",
             "size": 10,
             "solidity": 0.2
            },
            "type": "scatter"
           }
          ],
          "scatter3d": [
           {
            "line": {
             "colorbar": {
              "outlinewidth": 0,
              "ticks": ""
             }
            },
            "marker": {
             "colorbar": {
              "outlinewidth": 0,
              "ticks": ""
             }
            },
            "type": "scatter3d"
           }
          ],
          "scattercarpet": [
           {
            "marker": {
             "colorbar": {
              "outlinewidth": 0,
              "ticks": ""
             }
            },
            "type": "scattercarpet"
           }
          ],
          "scattergeo": [
           {
            "marker": {
             "colorbar": {
              "outlinewidth": 0,
              "ticks": ""
             }
            },
            "type": "scattergeo"
           }
          ],
          "scattergl": [
           {
            "marker": {
             "colorbar": {
              "outlinewidth": 0,
              "ticks": ""
             }
            },
            "type": "scattergl"
           }
          ],
          "scattermapbox": [
           {
            "marker": {
             "colorbar": {
              "outlinewidth": 0,
              "ticks": ""
             }
            },
            "type": "scattermapbox"
           }
          ],
          "scatterpolar": [
           {
            "marker": {
             "colorbar": {
              "outlinewidth": 0,
              "ticks": ""
             }
            },
            "type": "scatterpolar"
           }
          ],
          "scatterpolargl": [
           {
            "marker": {
             "colorbar": {
              "outlinewidth": 0,
              "ticks": ""
             }
            },
            "type": "scatterpolargl"
           }
          ],
          "scatterternary": [
           {
            "marker": {
             "colorbar": {
              "outlinewidth": 0,
              "ticks": ""
             }
            },
            "type": "scatterternary"
           }
          ],
          "surface": [
           {
            "colorbar": {
             "outlinewidth": 0,
             "ticks": ""
            },
            "colorscale": [
             [
              0,
              "#0d0887"
             ],
             [
              0.1111111111111111,
              "#46039f"
             ],
             [
              0.2222222222222222,
              "#7201a8"
             ],
             [
              0.3333333333333333,
              "#9c179e"
             ],
             [
              0.4444444444444444,
              "#bd3786"
             ],
             [
              0.5555555555555556,
              "#d8576b"
             ],
             [
              0.6666666666666666,
              "#ed7953"
             ],
             [
              0.7777777777777778,
              "#fb9f3a"
             ],
             [
              0.8888888888888888,
              "#fdca26"
             ],
             [
              1,
              "#f0f921"
             ]
            ],
            "type": "surface"
           }
          ],
          "table": [
           {
            "cells": {
             "fill": {
              "color": "#EBF0F8"
             },
             "line": {
              "color": "white"
             }
            },
            "header": {
             "fill": {
              "color": "#C8D4E3"
             },
             "line": {
              "color": "white"
             }
            },
            "type": "table"
           }
          ]
         },
         "layout": {
          "annotationdefaults": {
           "arrowcolor": "#2a3f5f",
           "arrowhead": 0,
           "arrowwidth": 1
          },
          "autotypenumbers": "strict",
          "coloraxis": {
           "colorbar": {
            "outlinewidth": 0,
            "ticks": ""
           }
          },
          "colorscale": {
           "diverging": [
            [
             0,
             "#8e0152"
            ],
            [
             0.1,
             "#c51b7d"
            ],
            [
             0.2,
             "#de77ae"
            ],
            [
             0.3,
             "#f1b6da"
            ],
            [
             0.4,
             "#fde0ef"
            ],
            [
             0.5,
             "#f7f7f7"
            ],
            [
             0.6,
             "#e6f5d0"
            ],
            [
             0.7,
             "#b8e186"
            ],
            [
             0.8,
             "#7fbc41"
            ],
            [
             0.9,
             "#4d9221"
            ],
            [
             1,
             "#276419"
            ]
           ],
           "sequential": [
            [
             0,
             "#0d0887"
            ],
            [
             0.1111111111111111,
             "#46039f"
            ],
            [
             0.2222222222222222,
             "#7201a8"
            ],
            [
             0.3333333333333333,
             "#9c179e"
            ],
            [
             0.4444444444444444,
             "#bd3786"
            ],
            [
             0.5555555555555556,
             "#d8576b"
            ],
            [
             0.6666666666666666,
             "#ed7953"
            ],
            [
             0.7777777777777778,
             "#fb9f3a"
            ],
            [
             0.8888888888888888,
             "#fdca26"
            ],
            [
             1,
             "#f0f921"
            ]
           ],
           "sequentialminus": [
            [
             0,
             "#0d0887"
            ],
            [
             0.1111111111111111,
             "#46039f"
            ],
            [
             0.2222222222222222,
             "#7201a8"
            ],
            [
             0.3333333333333333,
             "#9c179e"
            ],
            [
             0.4444444444444444,
             "#bd3786"
            ],
            [
             0.5555555555555556,
             "#d8576b"
            ],
            [
             0.6666666666666666,
             "#ed7953"
            ],
            [
             0.7777777777777778,
             "#fb9f3a"
            ],
            [
             0.8888888888888888,
             "#fdca26"
            ],
            [
             1,
             "#f0f921"
            ]
           ]
          },
          "colorway": [
           "#636efa",
           "#EF553B",
           "#00cc96",
           "#ab63fa",
           "#FFA15A",
           "#19d3f3",
           "#FF6692",
           "#B6E880",
           "#FF97FF",
           "#FECB52"
          ],
          "font": {
           "color": "#2a3f5f"
          },
          "geo": {
           "bgcolor": "white",
           "lakecolor": "white",
           "landcolor": "#E5ECF6",
           "showlakes": true,
           "showland": true,
           "subunitcolor": "white"
          },
          "hoverlabel": {
           "align": "left"
          },
          "hovermode": "closest",
          "mapbox": {
           "style": "light"
          },
          "paper_bgcolor": "white",
          "plot_bgcolor": "#E5ECF6",
          "polar": {
           "angularaxis": {
            "gridcolor": "white",
            "linecolor": "white",
            "ticks": ""
           },
           "bgcolor": "#E5ECF6",
           "radialaxis": {
            "gridcolor": "white",
            "linecolor": "white",
            "ticks": ""
           }
          },
          "scene": {
           "xaxis": {
            "backgroundcolor": "#E5ECF6",
            "gridcolor": "white",
            "gridwidth": 2,
            "linecolor": "white",
            "showbackground": true,
            "ticks": "",
            "zerolinecolor": "white"
           },
           "yaxis": {
            "backgroundcolor": "#E5ECF6",
            "gridcolor": "white",
            "gridwidth": 2,
            "linecolor": "white",
            "showbackground": true,
            "ticks": "",
            "zerolinecolor": "white"
           },
           "zaxis": {
            "backgroundcolor": "#E5ECF6",
            "gridcolor": "white",
            "gridwidth": 2,
            "linecolor": "white",
            "showbackground": true,
            "ticks": "",
            "zerolinecolor": "white"
           }
          },
          "shapedefaults": {
           "line": {
            "color": "#2a3f5f"
           }
          },
          "ternary": {
           "aaxis": {
            "gridcolor": "white",
            "linecolor": "white",
            "ticks": ""
           },
           "baxis": {
            "gridcolor": "white",
            "linecolor": "white",
            "ticks": ""
           },
           "bgcolor": "#E5ECF6",
           "caxis": {
            "gridcolor": "white",
            "linecolor": "white",
            "ticks": ""
           }
          },
          "title": {
           "x": 0.05
          },
          "xaxis": {
           "automargin": true,
           "gridcolor": "white",
           "linecolor": "white",
           "ticks": "",
           "title": {
            "standoff": 15
           },
           "zerolinecolor": "white",
           "zerolinewidth": 2
          },
          "yaxis": {
           "automargin": true,
           "gridcolor": "white",
           "linecolor": "white",
           "ticks": "",
           "title": {
            "standoff": 15
           },
           "zerolinecolor": "white",
           "zerolinewidth": 2
          }
         }
        },
        "xaxis": {
         "anchor": "y",
         "domain": [
          0,
          1
         ],
         "title": {
          "text": "Domestic to Foreign Ratio"
         }
        },
        "yaxis": {
         "anchor": "x",
         "domain": [
          0,
          1
         ],
         "title": {
          "text": "district"
         }
        }
       }
      }
     },
     "metadata": {},
     "output_type": "display_data"
    }
   ],
   "source": [
    "px.bar(\n",
    "    top_DtR,\n",
    "    x='Domestic to Foreign Ratio'\n",
    ")"
   ]
  },
  {
   "attachments": {},
   "cell_type": "markdown",
   "metadata": {},
   "source": [
    "### Bottom 3 Districts with high domestic to foreign tourist ratio"
   ]
  },
  {
   "cell_type": "code",
   "execution_count": 94,
   "metadata": {},
   "outputs": [
    {
     "data": {
      "application/vnd.plotly.v1+json": {
       "config": {
        "plotlyServerURL": "https://plot.ly"
       },
       "data": [
        {
         "alignmentgroup": "True",
         "hovertemplate": "Domestic to Foreign Ratio=%{x}<br>district=%{y}<extra></extra>",
         "legendgroup": "",
         "marker": {
          "color": "#636efa",
          "pattern": {
           "shape": ""
          }
         },
         "name": "",
         "offsetgroup": "",
         "orientation": "h",
         "showlegend": false,
         "textposition": "auto",
         "type": "bar",
         "x": [
          3164.8695652173915,
          2677,
          80.29583748844385
         ],
         "xaxis": "x",
         "y": [
          "Mulugu",
          "Warangal (Rural)",
          "Hyderabad"
         ],
         "yaxis": "y"
        }
       ],
       "layout": {
        "barmode": "relative",
        "legend": {
         "tracegroupgap": 0
        },
        "margin": {
         "t": 60
        },
        "template": {
         "data": {
          "bar": [
           {
            "error_x": {
             "color": "#2a3f5f"
            },
            "error_y": {
             "color": "#2a3f5f"
            },
            "marker": {
             "line": {
              "color": "#E5ECF6",
              "width": 0.5
             },
             "pattern": {
              "fillmode": "overlay",
              "size": 10,
              "solidity": 0.2
             }
            },
            "type": "bar"
           }
          ],
          "barpolar": [
           {
            "marker": {
             "line": {
              "color": "#E5ECF6",
              "width": 0.5
             },
             "pattern": {
              "fillmode": "overlay",
              "size": 10,
              "solidity": 0.2
             }
            },
            "type": "barpolar"
           }
          ],
          "carpet": [
           {
            "aaxis": {
             "endlinecolor": "#2a3f5f",
             "gridcolor": "white",
             "linecolor": "white",
             "minorgridcolor": "white",
             "startlinecolor": "#2a3f5f"
            },
            "baxis": {
             "endlinecolor": "#2a3f5f",
             "gridcolor": "white",
             "linecolor": "white",
             "minorgridcolor": "white",
             "startlinecolor": "#2a3f5f"
            },
            "type": "carpet"
           }
          ],
          "choropleth": [
           {
            "colorbar": {
             "outlinewidth": 0,
             "ticks": ""
            },
            "type": "choropleth"
           }
          ],
          "contour": [
           {
            "colorbar": {
             "outlinewidth": 0,
             "ticks": ""
            },
            "colorscale": [
             [
              0,
              "#0d0887"
             ],
             [
              0.1111111111111111,
              "#46039f"
             ],
             [
              0.2222222222222222,
              "#7201a8"
             ],
             [
              0.3333333333333333,
              "#9c179e"
             ],
             [
              0.4444444444444444,
              "#bd3786"
             ],
             [
              0.5555555555555556,
              "#d8576b"
             ],
             [
              0.6666666666666666,
              "#ed7953"
             ],
             [
              0.7777777777777778,
              "#fb9f3a"
             ],
             [
              0.8888888888888888,
              "#fdca26"
             ],
             [
              1,
              "#f0f921"
             ]
            ],
            "type": "contour"
           }
          ],
          "contourcarpet": [
           {
            "colorbar": {
             "outlinewidth": 0,
             "ticks": ""
            },
            "type": "contourcarpet"
           }
          ],
          "heatmap": [
           {
            "colorbar": {
             "outlinewidth": 0,
             "ticks": ""
            },
            "colorscale": [
             [
              0,
              "#0d0887"
             ],
             [
              0.1111111111111111,
              "#46039f"
             ],
             [
              0.2222222222222222,
              "#7201a8"
             ],
             [
              0.3333333333333333,
              "#9c179e"
             ],
             [
              0.4444444444444444,
              "#bd3786"
             ],
             [
              0.5555555555555556,
              "#d8576b"
             ],
             [
              0.6666666666666666,
              "#ed7953"
             ],
             [
              0.7777777777777778,
              "#fb9f3a"
             ],
             [
              0.8888888888888888,
              "#fdca26"
             ],
             [
              1,
              "#f0f921"
             ]
            ],
            "type": "heatmap"
           }
          ],
          "heatmapgl": [
           {
            "colorbar": {
             "outlinewidth": 0,
             "ticks": ""
            },
            "colorscale": [
             [
              0,
              "#0d0887"
             ],
             [
              0.1111111111111111,
              "#46039f"
             ],
             [
              0.2222222222222222,
              "#7201a8"
             ],
             [
              0.3333333333333333,
              "#9c179e"
             ],
             [
              0.4444444444444444,
              "#bd3786"
             ],
             [
              0.5555555555555556,
              "#d8576b"
             ],
             [
              0.6666666666666666,
              "#ed7953"
             ],
             [
              0.7777777777777778,
              "#fb9f3a"
             ],
             [
              0.8888888888888888,
              "#fdca26"
             ],
             [
              1,
              "#f0f921"
             ]
            ],
            "type": "heatmapgl"
           }
          ],
          "histogram": [
           {
            "marker": {
             "pattern": {
              "fillmode": "overlay",
              "size": 10,
              "solidity": 0.2
             }
            },
            "type": "histogram"
           }
          ],
          "histogram2d": [
           {
            "colorbar": {
             "outlinewidth": 0,
             "ticks": ""
            },
            "colorscale": [
             [
              0,
              "#0d0887"
             ],
             [
              0.1111111111111111,
              "#46039f"
             ],
             [
              0.2222222222222222,
              "#7201a8"
             ],
             [
              0.3333333333333333,
              "#9c179e"
             ],
             [
              0.4444444444444444,
              "#bd3786"
             ],
             [
              0.5555555555555556,
              "#d8576b"
             ],
             [
              0.6666666666666666,
              "#ed7953"
             ],
             [
              0.7777777777777778,
              "#fb9f3a"
             ],
             [
              0.8888888888888888,
              "#fdca26"
             ],
             [
              1,
              "#f0f921"
             ]
            ],
            "type": "histogram2d"
           }
          ],
          "histogram2dcontour": [
           {
            "colorbar": {
             "outlinewidth": 0,
             "ticks": ""
            },
            "colorscale": [
             [
              0,
              "#0d0887"
             ],
             [
              0.1111111111111111,
              "#46039f"
             ],
             [
              0.2222222222222222,
              "#7201a8"
             ],
             [
              0.3333333333333333,
              "#9c179e"
             ],
             [
              0.4444444444444444,
              "#bd3786"
             ],
             [
              0.5555555555555556,
              "#d8576b"
             ],
             [
              0.6666666666666666,
              "#ed7953"
             ],
             [
              0.7777777777777778,
              "#fb9f3a"
             ],
             [
              0.8888888888888888,
              "#fdca26"
             ],
             [
              1,
              "#f0f921"
             ]
            ],
            "type": "histogram2dcontour"
           }
          ],
          "mesh3d": [
           {
            "colorbar": {
             "outlinewidth": 0,
             "ticks": ""
            },
            "type": "mesh3d"
           }
          ],
          "parcoords": [
           {
            "line": {
             "colorbar": {
              "outlinewidth": 0,
              "ticks": ""
             }
            },
            "type": "parcoords"
           }
          ],
          "pie": [
           {
            "automargin": true,
            "type": "pie"
           }
          ],
          "scatter": [
           {
            "fillpattern": {
             "fillmode": "overlay",
             "size": 10,
             "solidity": 0.2
            },
            "type": "scatter"
           }
          ],
          "scatter3d": [
           {
            "line": {
             "colorbar": {
              "outlinewidth": 0,
              "ticks": ""
             }
            },
            "marker": {
             "colorbar": {
              "outlinewidth": 0,
              "ticks": ""
             }
            },
            "type": "scatter3d"
           }
          ],
          "scattercarpet": [
           {
            "marker": {
             "colorbar": {
              "outlinewidth": 0,
              "ticks": ""
             }
            },
            "type": "scattercarpet"
           }
          ],
          "scattergeo": [
           {
            "marker": {
             "colorbar": {
              "outlinewidth": 0,
              "ticks": ""
             }
            },
            "type": "scattergeo"
           }
          ],
          "scattergl": [
           {
            "marker": {
             "colorbar": {
              "outlinewidth": 0,
              "ticks": ""
             }
            },
            "type": "scattergl"
           }
          ],
          "scattermapbox": [
           {
            "marker": {
             "colorbar": {
              "outlinewidth": 0,
              "ticks": ""
             }
            },
            "type": "scattermapbox"
           }
          ],
          "scatterpolar": [
           {
            "marker": {
             "colorbar": {
              "outlinewidth": 0,
              "ticks": ""
             }
            },
            "type": "scatterpolar"
           }
          ],
          "scatterpolargl": [
           {
            "marker": {
             "colorbar": {
              "outlinewidth": 0,
              "ticks": ""
             }
            },
            "type": "scatterpolargl"
           }
          ],
          "scatterternary": [
           {
            "marker": {
             "colorbar": {
              "outlinewidth": 0,
              "ticks": ""
             }
            },
            "type": "scatterternary"
           }
          ],
          "surface": [
           {
            "colorbar": {
             "outlinewidth": 0,
             "ticks": ""
            },
            "colorscale": [
             [
              0,
              "#0d0887"
             ],
             [
              0.1111111111111111,
              "#46039f"
             ],
             [
              0.2222222222222222,
              "#7201a8"
             ],
             [
              0.3333333333333333,
              "#9c179e"
             ],
             [
              0.4444444444444444,
              "#bd3786"
             ],
             [
              0.5555555555555556,
              "#d8576b"
             ],
             [
              0.6666666666666666,
              "#ed7953"
             ],
             [
              0.7777777777777778,
              "#fb9f3a"
             ],
             [
              0.8888888888888888,
              "#fdca26"
             ],
             [
              1,
              "#f0f921"
             ]
            ],
            "type": "surface"
           }
          ],
          "table": [
           {
            "cells": {
             "fill": {
              "color": "#EBF0F8"
             },
             "line": {
              "color": "white"
             }
            },
            "header": {
             "fill": {
              "color": "#C8D4E3"
             },
             "line": {
              "color": "white"
             }
            },
            "type": "table"
           }
          ]
         },
         "layout": {
          "annotationdefaults": {
           "arrowcolor": "#2a3f5f",
           "arrowhead": 0,
           "arrowwidth": 1
          },
          "autotypenumbers": "strict",
          "coloraxis": {
           "colorbar": {
            "outlinewidth": 0,
            "ticks": ""
           }
          },
          "colorscale": {
           "diverging": [
            [
             0,
             "#8e0152"
            ],
            [
             0.1,
             "#c51b7d"
            ],
            [
             0.2,
             "#de77ae"
            ],
            [
             0.3,
             "#f1b6da"
            ],
            [
             0.4,
             "#fde0ef"
            ],
            [
             0.5,
             "#f7f7f7"
            ],
            [
             0.6,
             "#e6f5d0"
            ],
            [
             0.7,
             "#b8e186"
            ],
            [
             0.8,
             "#7fbc41"
            ],
            [
             0.9,
             "#4d9221"
            ],
            [
             1,
             "#276419"
            ]
           ],
           "sequential": [
            [
             0,
             "#0d0887"
            ],
            [
             0.1111111111111111,
             "#46039f"
            ],
            [
             0.2222222222222222,
             "#7201a8"
            ],
            [
             0.3333333333333333,
             "#9c179e"
            ],
            [
             0.4444444444444444,
             "#bd3786"
            ],
            [
             0.5555555555555556,
             "#d8576b"
            ],
            [
             0.6666666666666666,
             "#ed7953"
            ],
            [
             0.7777777777777778,
             "#fb9f3a"
            ],
            [
             0.8888888888888888,
             "#fdca26"
            ],
            [
             1,
             "#f0f921"
            ]
           ],
           "sequentialminus": [
            [
             0,
             "#0d0887"
            ],
            [
             0.1111111111111111,
             "#46039f"
            ],
            [
             0.2222222222222222,
             "#7201a8"
            ],
            [
             0.3333333333333333,
             "#9c179e"
            ],
            [
             0.4444444444444444,
             "#bd3786"
            ],
            [
             0.5555555555555556,
             "#d8576b"
            ],
            [
             0.6666666666666666,
             "#ed7953"
            ],
            [
             0.7777777777777778,
             "#fb9f3a"
            ],
            [
             0.8888888888888888,
             "#fdca26"
            ],
            [
             1,
             "#f0f921"
            ]
           ]
          },
          "colorway": [
           "#636efa",
           "#EF553B",
           "#00cc96",
           "#ab63fa",
           "#FFA15A",
           "#19d3f3",
           "#FF6692",
           "#B6E880",
           "#FF97FF",
           "#FECB52"
          ],
          "font": {
           "color": "#2a3f5f"
          },
          "geo": {
           "bgcolor": "white",
           "lakecolor": "white",
           "landcolor": "#E5ECF6",
           "showlakes": true,
           "showland": true,
           "subunitcolor": "white"
          },
          "hoverlabel": {
           "align": "left"
          },
          "hovermode": "closest",
          "mapbox": {
           "style": "light"
          },
          "paper_bgcolor": "white",
          "plot_bgcolor": "#E5ECF6",
          "polar": {
           "angularaxis": {
            "gridcolor": "white",
            "linecolor": "white",
            "ticks": ""
           },
           "bgcolor": "#E5ECF6",
           "radialaxis": {
            "gridcolor": "white",
            "linecolor": "white",
            "ticks": ""
           }
          },
          "scene": {
           "xaxis": {
            "backgroundcolor": "#E5ECF6",
            "gridcolor": "white",
            "gridwidth": 2,
            "linecolor": "white",
            "showbackground": true,
            "ticks": "",
            "zerolinecolor": "white"
           },
           "yaxis": {
            "backgroundcolor": "#E5ECF6",
            "gridcolor": "white",
            "gridwidth": 2,
            "linecolor": "white",
            "showbackground": true,
            "ticks": "",
            "zerolinecolor": "white"
           },
           "zaxis": {
            "backgroundcolor": "#E5ECF6",
            "gridcolor": "white",
            "gridwidth": 2,
            "linecolor": "white",
            "showbackground": true,
            "ticks": "",
            "zerolinecolor": "white"
           }
          },
          "shapedefaults": {
           "line": {
            "color": "#2a3f5f"
           }
          },
          "ternary": {
           "aaxis": {
            "gridcolor": "white",
            "linecolor": "white",
            "ticks": ""
           },
           "baxis": {
            "gridcolor": "white",
            "linecolor": "white",
            "ticks": ""
           },
           "bgcolor": "#E5ECF6",
           "caxis": {
            "gridcolor": "white",
            "linecolor": "white",
            "ticks": ""
           }
          },
          "title": {
           "x": 0.05
          },
          "xaxis": {
           "automargin": true,
           "gridcolor": "white",
           "linecolor": "white",
           "ticks": "",
           "title": {
            "standoff": 15
           },
           "zerolinecolor": "white",
           "zerolinewidth": 2
          },
          "yaxis": {
           "automargin": true,
           "gridcolor": "white",
           "linecolor": "white",
           "ticks": "",
           "title": {
            "standoff": 15
           },
           "zerolinecolor": "white",
           "zerolinewidth": 2
          }
         }
        },
        "xaxis": {
         "anchor": "y",
         "domain": [
          0,
          1
         ],
         "title": {
          "text": "Domestic to Foreign Ratio"
         }
        },
        "yaxis": {
         "anchor": "x",
         "domain": [
          0,
          1
         ],
         "title": {
          "text": "district"
         }
        }
       }
      }
     },
     "metadata": {},
     "output_type": "display_data"
    }
   ],
   "source": [
    "botto_DtR\n",
    "px.bar(\n",
    "    botto_DtR,\n",
    "    x='Domestic to Foreign Ratio'\n",
    ")\n"
   ]
  },
  {
   "cell_type": "code",
   "execution_count": 105,
   "metadata": {},
   "outputs": [
    {
     "data": {
      "text/plain": [
       "array(['Adilabad', 'Bhadradri Kothagudem ', 'Hyderabad', 'Jagtial ',\n",
       "       'Jangaon ', 'Jayashankar Bhoopalpally', 'Jogulamba Gadwal ',\n",
       "       'Kamareddy ', 'Karimnagar ', 'Khammam', 'Komaram Bheem Asifabad',\n",
       "       'Mahabubabad ', 'Mahbubnagar', 'Mancherial', 'Medak ', 'Medchal ',\n",
       "       'Mulugu', 'Nagarkurnool ', 'Nalgonda', 'Narayanapet', 'Nirmal',\n",
       "       'Nizamabad', 'Peddapalli', 'Rajanna Sircilla ', 'Ranga Reddy',\n",
       "       'Sangareddy ', 'Siddipet', 'Suryapet', 'Vikarabad', 'Wanaparthy ',\n",
       "       'Warangal (Rural)', 'Warangal (Urban)', 'Yadadri Bhongir'],\n",
       "      dtype=object)"
      ]
     },
     "execution_count": 105,
     "metadata": {},
     "output_type": "execute_result"
    }
   ],
   "source": [
    "merged_df['district'].unique()"
   ]
  },
  {
   "cell_type": "code",
   "execution_count": 106,
   "metadata": {},
   "outputs": [],
   "source": [
    "toptals_FnD = tops"
   ]
  },
  {
   "cell_type": "code",
   "execution_count": 112,
   "metadata": {},
   "outputs": [],
   "source": [
    "toptals_FnD.drop(columns='Domestic to Foreign Ratio', inplace=True)\n",
    "toptals_FnD['Total'] = toptals_FnD['visitors_x'] + toptals_FnD['visitors_y']"
   ]
  },
  {
   "cell_type": "code",
   "execution_count": 115,
   "metadata": {},
   "outputs": [],
   "source": [
    "hyderabad_Totals = toptals_FnD.loc['Hyderabad']\n"
   ]
  },
  {
   "cell_type": "code",
   "execution_count": 117,
   "metadata": {},
   "outputs": [],
   "source": [
    "hyderabad_Totals = pd.DataFrame(hyderabad_Totals)\n"
   ]
  },
  {
   "cell_type": "code",
   "execution_count": 118,
   "metadata": {},
   "outputs": [
    {
     "data": {
      "text/html": [
       "<div>\n",
       "<style scoped>\n",
       "    .dataframe tbody tr th:only-of-type {\n",
       "        vertical-align: middle;\n",
       "    }\n",
       "\n",
       "    .dataframe tbody tr th {\n",
       "        vertical-align: top;\n",
       "    }\n",
       "\n",
       "    .dataframe thead th {\n",
       "        text-align: right;\n",
       "    }\n",
       "</style>\n",
       "<table border=\"1\" class=\"dataframe\">\n",
       "  <thead>\n",
       "    <tr style=\"text-align: right;\">\n",
       "      <th></th>\n",
       "      <th>Hyderabad</th>\n",
       "    </tr>\n",
       "  </thead>\n",
       "  <tbody>\n",
       "    <tr>\n",
       "      <th>visitors_x</th>\n",
       "      <td>83900960</td>\n",
       "    </tr>\n",
       "    <tr>\n",
       "      <th>visitors_y</th>\n",
       "      <td>1044898</td>\n",
       "    </tr>\n",
       "    <tr>\n",
       "      <th>Total</th>\n",
       "      <td>84945858</td>\n",
       "    </tr>\n",
       "  </tbody>\n",
       "</table>\n",
       "</div>"
      ],
      "text/plain": [
       "            Hyderabad\n",
       "visitors_x   83900960\n",
       "visitors_y    1044898\n",
       "Total        84945858"
      ]
     },
     "execution_count": 118,
     "metadata": {},
     "output_type": "execute_result"
    }
   ],
   "source": [
    "hyderabad_Totals\n"
   ]
  },
  {
   "cell_type": "code",
   "execution_count": 346,
   "metadata": {},
   "outputs": [
    {
     "data": {
      "text/html": [
       "<div>\n",
       "<style scoped>\n",
       "    .dataframe tbody tr th:only-of-type {\n",
       "        vertical-align: middle;\n",
       "    }\n",
       "\n",
       "    .dataframe tbody tr th {\n",
       "        vertical-align: top;\n",
       "    }\n",
       "\n",
       "    .dataframe thead th {\n",
       "        text-align: right;\n",
       "    }\n",
       "</style>\n",
       "<table border=\"1\" class=\"dataframe\">\n",
       "  <thead>\n",
       "    <tr style=\"text-align: right;\">\n",
       "      <th></th>\n",
       "      <th>district</th>\n",
       "      <th>year_x</th>\n",
       "      <th>visitors_x</th>\n",
       "      <th>year_y</th>\n",
       "      <th>visitors_y</th>\n",
       "      <th>CAGR</th>\n",
       "    </tr>\n",
       "  </thead>\n",
       "  <tbody>\n",
       "    <tr>\n",
       "      <th>0</th>\n",
       "      <td>Adilabad</td>\n",
       "      <td>2019</td>\n",
       "      <td>775895</td>\n",
       "      <td>2016</td>\n",
       "      <td>5075557</td>\n",
       "      <td>-46.5304640953</td>\n",
       "    </tr>\n",
       "    <tr>\n",
       "      <th>1</th>\n",
       "      <td>Bhadradri Kothagudem</td>\n",
       "      <td>2019</td>\n",
       "      <td>12817737</td>\n",
       "      <td>2016</td>\n",
       "      <td>889030</td>\n",
       "      <td>143.3875243992</td>\n",
       "    </tr>\n",
       "    <tr>\n",
       "      <th>2</th>\n",
       "      <td>Hyderabad</td>\n",
       "      <td>2019</td>\n",
       "      <td>13802362</td>\n",
       "      <td>2016</td>\n",
       "      <td>23394705</td>\n",
       "      <td>-16.1289757396</td>\n",
       "    </tr>\n",
       "    <tr>\n",
       "      <th>3</th>\n",
       "      <td>Jagtial</td>\n",
       "      <td>2019</td>\n",
       "      <td>3086115</td>\n",
       "      <td>2016</td>\n",
       "      <td>623077</td>\n",
       "      <td>70.4603837242</td>\n",
       "    </tr>\n",
       "    <tr>\n",
       "      <th>4</th>\n",
       "      <td>Jangaon</td>\n",
       "      <td>2019</td>\n",
       "      <td>328890</td>\n",
       "      <td>2016</td>\n",
       "      <td>40660</td>\n",
       "      <td>100.7371550634</td>\n",
       "    </tr>\n",
       "    <tr>\n",
       "      <th>5</th>\n",
       "      <td>Jayashankar Bhoopalpally</td>\n",
       "      <td>2019</td>\n",
       "      <td>662530</td>\n",
       "      <td>2016</td>\n",
       "      <td>243400</td>\n",
       "      <td>39.6245087581</td>\n",
       "    </tr>\n",
       "    <tr>\n",
       "      <th>6</th>\n",
       "      <td>Jogulamba Gadwal</td>\n",
       "      <td>2019</td>\n",
       "      <td>2007995</td>\n",
       "      <td>2016</td>\n",
       "      <td>523401</td>\n",
       "      <td>56.5462587469</td>\n",
       "    </tr>\n",
       "    <tr>\n",
       "      <th>7</th>\n",
       "      <td>Kamareddy</td>\n",
       "      <td>2019</td>\n",
       "      <td>534</td>\n",
       "      <td>2016</td>\n",
       "      <td>127</td>\n",
       "      <td>61.4033379457</td>\n",
       "    </tr>\n",
       "    <tr>\n",
       "      <th>8</th>\n",
       "      <td>Karimnagar</td>\n",
       "      <td>2019</td>\n",
       "      <td>77491</td>\n",
       "      <td>2016</td>\n",
       "      <td>9167468</td>\n",
       "      <td>-79.6295500999</td>\n",
       "    </tr>\n",
       "    <tr>\n",
       "      <th>9</th>\n",
       "      <td>Khammam</td>\n",
       "      <td>2019</td>\n",
       "      <td>1413440</td>\n",
       "      <td>2016</td>\n",
       "      <td>5005031</td>\n",
       "      <td>-34.3919894670</td>\n",
       "    </tr>\n",
       "    <tr>\n",
       "      <th>10</th>\n",
       "      <td>Komaram Bheem Asifabad</td>\n",
       "      <td>2019</td>\n",
       "      <td>19189</td>\n",
       "      <td>2016</td>\n",
       "      <td>0</td>\n",
       "      <td>inf</td>\n",
       "    </tr>\n",
       "    <tr>\n",
       "      <th>11</th>\n",
       "      <td>Mahabubabad</td>\n",
       "      <td>2019</td>\n",
       "      <td>152885</td>\n",
       "      <td>2016</td>\n",
       "      <td>140002</td>\n",
       "      <td>2.9777849472</td>\n",
       "    </tr>\n",
       "    <tr>\n",
       "      <th>12</th>\n",
       "      <td>Mahbubnagar</td>\n",
       "      <td>2019</td>\n",
       "      <td>2534815</td>\n",
       "      <td>2016</td>\n",
       "      <td>8304766</td>\n",
       "      <td>-32.6703604502</td>\n",
       "    </tr>\n",
       "    <tr>\n",
       "      <th>13</th>\n",
       "      <td>Mancherial</td>\n",
       "      <td>2019</td>\n",
       "      <td>269810</td>\n",
       "      <td>2016</td>\n",
       "      <td>7802</td>\n",
       "      <td>225.7997139428</td>\n",
       "    </tr>\n",
       "    <tr>\n",
       "      <th>14</th>\n",
       "      <td>Medak</td>\n",
       "      <td>2019</td>\n",
       "      <td>5452570</td>\n",
       "      <td>2016</td>\n",
       "      <td>3463200</td>\n",
       "      <td>16.3343298247</td>\n",
       "    </tr>\n",
       "    <tr>\n",
       "      <th>15</th>\n",
       "      <td>Medchal</td>\n",
       "      <td>2019</td>\n",
       "      <td>0</td>\n",
       "      <td>2016</td>\n",
       "      <td>0</td>\n",
       "      <td>NaN</td>\n",
       "    </tr>\n",
       "    <tr>\n",
       "      <th>16</th>\n",
       "      <td>Nagarkurnool</td>\n",
       "      <td>2019</td>\n",
       "      <td>2093312</td>\n",
       "      <td>2016</td>\n",
       "      <td>588473</td>\n",
       "      <td>52.6519912705</td>\n",
       "    </tr>\n",
       "    <tr>\n",
       "      <th>17</th>\n",
       "      <td>Nalgonda</td>\n",
       "      <td>2019</td>\n",
       "      <td>140918</td>\n",
       "      <td>2016</td>\n",
       "      <td>5858461</td>\n",
       "      <td>-71.1334880766</td>\n",
       "    </tr>\n",
       "    <tr>\n",
       "      <th>18</th>\n",
       "      <td>Nirmal</td>\n",
       "      <td>2019</td>\n",
       "      <td>3816778</td>\n",
       "      <td>2016</td>\n",
       "      <td>916610</td>\n",
       "      <td>60.8807577394</td>\n",
       "    </tr>\n",
       "    <tr>\n",
       "      <th>19</th>\n",
       "      <td>Nizamabad</td>\n",
       "      <td>2019</td>\n",
       "      <td>46333</td>\n",
       "      <td>2016</td>\n",
       "      <td>6442</td>\n",
       "      <td>93.0292990146</td>\n",
       "    </tr>\n",
       "    <tr>\n",
       "      <th>20</th>\n",
       "      <td>Peddapalli</td>\n",
       "      <td>2019</td>\n",
       "      <td>16581</td>\n",
       "      <td>2016</td>\n",
       "      <td>3244</td>\n",
       "      <td>72.2568989544</td>\n",
       "    </tr>\n",
       "    <tr>\n",
       "      <th>21</th>\n",
       "      <td>Rajanna Sircilla</td>\n",
       "      <td>2019</td>\n",
       "      <td>16832897</td>\n",
       "      <td>2016</td>\n",
       "      <td>2176801</td>\n",
       "      <td>97.7485825746</td>\n",
       "    </tr>\n",
       "    <tr>\n",
       "      <th>22</th>\n",
       "      <td>Ranga Reddy</td>\n",
       "      <td>2019</td>\n",
       "      <td>0</td>\n",
       "      <td>2016</td>\n",
       "      <td>0</td>\n",
       "      <td>NaN</td>\n",
       "    </tr>\n",
       "    <tr>\n",
       "      <th>23</th>\n",
       "      <td>Sangareddy</td>\n",
       "      <td>2019</td>\n",
       "      <td>4553160</td>\n",
       "      <td>2016</td>\n",
       "      <td>778000</td>\n",
       "      <td>80.2095373161</td>\n",
       "    </tr>\n",
       "    <tr>\n",
       "      <th>24</th>\n",
       "      <td>Siddipet</td>\n",
       "      <td>2019</td>\n",
       "      <td>2987864</td>\n",
       "      <td>2016</td>\n",
       "      <td>358400</td>\n",
       "      <td>102.7671552477</td>\n",
       "    </tr>\n",
       "    <tr>\n",
       "      <th>25</th>\n",
       "      <td>Suryapet</td>\n",
       "      <td>2019</td>\n",
       "      <td>0</td>\n",
       "      <td>2016</td>\n",
       "      <td>0</td>\n",
       "      <td>NaN</td>\n",
       "    </tr>\n",
       "    <tr>\n",
       "      <th>26</th>\n",
       "      <td>Vikarabad</td>\n",
       "      <td>2019</td>\n",
       "      <td>0</td>\n",
       "      <td>2016</td>\n",
       "      <td>0</td>\n",
       "      <td>NaN</td>\n",
       "    </tr>\n",
       "    <tr>\n",
       "      <th>27</th>\n",
       "      <td>Wanaparthy</td>\n",
       "      <td>2019</td>\n",
       "      <td>298639</td>\n",
       "      <td>2016</td>\n",
       "      <td>60138</td>\n",
       "      <td>70.6079170250</td>\n",
       "    </tr>\n",
       "    <tr>\n",
       "      <th>28</th>\n",
       "      <td>Warangal (Rural)</td>\n",
       "      <td>2019</td>\n",
       "      <td>353500</td>\n",
       "      <td>2016</td>\n",
       "      <td>19400</td>\n",
       "      <td>163.1454687567</td>\n",
       "    </tr>\n",
       "    <tr>\n",
       "      <th>29</th>\n",
       "      <td>Warangal (Urban)</td>\n",
       "      <td>2019</td>\n",
       "      <td>1795230</td>\n",
       "      <td>2016</td>\n",
       "      <td>25788035</td>\n",
       "      <td>-58.8628738295</td>\n",
       "    </tr>\n",
       "    <tr>\n",
       "      <th>30</th>\n",
       "      <td>Yadadri Bhongir</td>\n",
       "      <td>2019</td>\n",
       "      <td>4489374</td>\n",
       "      <td>2016</td>\n",
       "      <td>1728600</td>\n",
       "      <td>37.4560182835</td>\n",
       "    </tr>\n",
       "  </tbody>\n",
       "</table>\n",
       "</div>"
      ],
      "text/plain": [
       "                    district  year_x  visitors_x  year_y  visitors_y   \n",
       "0                   Adilabad    2019      775895    2016     5075557  \\\n",
       "1      Bhadradri Kothagudem     2019    12817737    2016      889030   \n",
       "2                  Hyderabad    2019    13802362    2016    23394705   \n",
       "3                   Jagtial     2019     3086115    2016      623077   \n",
       "4                   Jangaon     2019      328890    2016       40660   \n",
       "5   Jayashankar Bhoopalpally    2019      662530    2016      243400   \n",
       "6          Jogulamba Gadwal     2019     2007995    2016      523401   \n",
       "7                 Kamareddy     2019         534    2016         127   \n",
       "8                Karimnagar     2019       77491    2016     9167468   \n",
       "9                    Khammam    2019     1413440    2016     5005031   \n",
       "10    Komaram Bheem Asifabad    2019       19189    2016           0   \n",
       "11              Mahabubabad     2019      152885    2016      140002   \n",
       "12               Mahbubnagar    2019     2534815    2016     8304766   \n",
       "13                Mancherial    2019      269810    2016        7802   \n",
       "14                    Medak     2019     5452570    2016     3463200   \n",
       "15                  Medchal     2019           0    2016           0   \n",
       "16             Nagarkurnool     2019     2093312    2016      588473   \n",
       "17                  Nalgonda    2019      140918    2016     5858461   \n",
       "18                    Nirmal    2019     3816778    2016      916610   \n",
       "19                 Nizamabad    2019       46333    2016        6442   \n",
       "20                Peddapalli    2019       16581    2016        3244   \n",
       "21         Rajanna Sircilla     2019    16832897    2016     2176801   \n",
       "22               Ranga Reddy    2019           0    2016           0   \n",
       "23               Sangareddy     2019     4553160    2016      778000   \n",
       "24                  Siddipet    2019     2987864    2016      358400   \n",
       "25                  Suryapet    2019           0    2016           0   \n",
       "26                 Vikarabad    2019           0    2016           0   \n",
       "27               Wanaparthy     2019      298639    2016       60138   \n",
       "28          Warangal (Rural)    2019      353500    2016       19400   \n",
       "29          Warangal (Urban)    2019     1795230    2016    25788035   \n",
       "30           Yadadri Bhongir    2019     4489374    2016     1728600   \n",
       "\n",
       "             CAGR  \n",
       "0  -46.5304640953  \n",
       "1  143.3875243992  \n",
       "2  -16.1289757396  \n",
       "3   70.4603837242  \n",
       "4  100.7371550634  \n",
       "5   39.6245087581  \n",
       "6   56.5462587469  \n",
       "7   61.4033379457  \n",
       "8  -79.6295500999  \n",
       "9  -34.3919894670  \n",
       "10            inf  \n",
       "11   2.9777849472  \n",
       "12 -32.6703604502  \n",
       "13 225.7997139428  \n",
       "14  16.3343298247  \n",
       "15            NaN  \n",
       "16  52.6519912705  \n",
       "17 -71.1334880766  \n",
       "18  60.8807577394  \n",
       "19  93.0292990146  \n",
       "20  72.2568989544  \n",
       "21  97.7485825746  \n",
       "22            NaN  \n",
       "23  80.2095373161  \n",
       "24 102.7671552477  \n",
       "25            NaN  \n",
       "26            NaN  \n",
       "27  70.6079170250  \n",
       "28 163.1454687567  \n",
       "29 -58.8628738295  \n",
       "30  37.4560182835  "
      ]
     },
     "execution_count": 346,
     "metadata": {},
     "output_type": "execute_result"
    }
   ],
   "source": [
    "result_2"
   ]
  },
  {
   "cell_type": "code",
   "execution_count": 364,
   "metadata": {},
   "outputs": [],
   "source": [
    "years = 6\n",
    "result_2['Visitors 2025'] = result_2['visitors_x'] * ((1 + (result_2['CAGR']/100)) ** years)\n"
   ]
  },
  {
   "cell_type": "code",
   "execution_count": 365,
   "metadata": {},
   "outputs": [
    {
     "data": {
      "text/html": [
       "<div>\n",
       "<style scoped>\n",
       "    .dataframe tbody tr th:only-of-type {\n",
       "        vertical-align: middle;\n",
       "    }\n",
       "\n",
       "    .dataframe tbody tr th {\n",
       "        vertical-align: top;\n",
       "    }\n",
       "\n",
       "    .dataframe thead th {\n",
       "        text-align: right;\n",
       "    }\n",
       "</style>\n",
       "<table border=\"1\" class=\"dataframe\">\n",
       "  <thead>\n",
       "    <tr style=\"text-align: right;\">\n",
       "      <th></th>\n",
       "      <th>district</th>\n",
       "      <th>year_x</th>\n",
       "      <th>visitors_x</th>\n",
       "      <th>year_y</th>\n",
       "      <th>visitors_y</th>\n",
       "      <th>CAGR</th>\n",
       "      <th>Visitors 2025</th>\n",
       "    </tr>\n",
       "  </thead>\n",
       "  <tbody>\n",
       "    <tr>\n",
       "      <th>0</th>\n",
       "      <td>Adilabad</td>\n",
       "      <td>2019</td>\n",
       "      <td>775895</td>\n",
       "      <td>2016</td>\n",
       "      <td>5075557</td>\n",
       "      <td>-46.5304640953</td>\n",
       "      <td>18131.8217453016</td>\n",
       "    </tr>\n",
       "    <tr>\n",
       "      <th>1</th>\n",
       "      <td>Bhadradri Kothagudem</td>\n",
       "      <td>2019</td>\n",
       "      <td>12817737</td>\n",
       "      <td>2016</td>\n",
       "      <td>889030</td>\n",
       "      <td>143.3875243992</td>\n",
       "      <td>2664411111.9637303352</td>\n",
       "    </tr>\n",
       "    <tr>\n",
       "      <th>2</th>\n",
       "      <td>Hyderabad</td>\n",
       "      <td>2019</td>\n",
       "      <td>13802362</td>\n",
       "      <td>2016</td>\n",
       "      <td>23394705</td>\n",
       "      <td>-16.1289757396</td>\n",
       "      <td>4804244.4201944452</td>\n",
       "    </tr>\n",
       "    <tr>\n",
       "      <th>3</th>\n",
       "      <td>Jagtial</td>\n",
       "      <td>2019</td>\n",
       "      <td>3086115</td>\n",
       "      <td>2016</td>\n",
       "      <td>623077</td>\n",
       "      <td>70.4603837242</td>\n",
       "      <td>75709935.4558583796</td>\n",
       "    </tr>\n",
       "    <tr>\n",
       "      <th>4</th>\n",
       "      <td>Jangaon</td>\n",
       "      <td>2019</td>\n",
       "      <td>328890</td>\n",
       "      <td>2016</td>\n",
       "      <td>40660</td>\n",
       "      <td>100.7371550634</td>\n",
       "      <td>21518760.7933007218</td>\n",
       "    </tr>\n",
       "    <tr>\n",
       "      <th>5</th>\n",
       "      <td>Jayashankar Bhoopalpally</td>\n",
       "      <td>2019</td>\n",
       "      <td>662530</td>\n",
       "      <td>2016</td>\n",
       "      <td>243400</td>\n",
       "      <td>39.6245087581</td>\n",
       "      <td>4908801.8001665818</td>\n",
       "    </tr>\n",
       "    <tr>\n",
       "      <th>6</th>\n",
       "      <td>Jogulamba Gadwal</td>\n",
       "      <td>2019</td>\n",
       "      <td>2007995</td>\n",
       "      <td>2016</td>\n",
       "      <td>523401</td>\n",
       "      <td>56.5462587469</td>\n",
       "      <td>29554171.2211439684</td>\n",
       "    </tr>\n",
       "    <tr>\n",
       "      <th>7</th>\n",
       "      <td>Kamareddy</td>\n",
       "      <td>2019</td>\n",
       "      <td>534</td>\n",
       "      <td>2016</td>\n",
       "      <td>127</td>\n",
       "      <td>61.4033379457</td>\n",
       "      <td>9440.9637299275</td>\n",
       "    </tr>\n",
       "    <tr>\n",
       "      <th>8</th>\n",
       "      <td>Karimnagar</td>\n",
       "      <td>2019</td>\n",
       "      <td>77491</td>\n",
       "      <td>2016</td>\n",
       "      <td>9167468</td>\n",
       "      <td>-79.6295500999</td>\n",
       "      <td>5.5367509746</td>\n",
       "    </tr>\n",
       "    <tr>\n",
       "      <th>9</th>\n",
       "      <td>Khammam</td>\n",
       "      <td>2019</td>\n",
       "      <td>1413440</td>\n",
       "      <td>2016</td>\n",
       "      <td>5005031</td>\n",
       "      <td>-34.3919894670</td>\n",
       "      <td>112724.5705010588</td>\n",
       "    </tr>\n",
       "    <tr>\n",
       "      <th>10</th>\n",
       "      <td>Komaram Bheem Asifabad</td>\n",
       "      <td>2019</td>\n",
       "      <td>19189</td>\n",
       "      <td>2016</td>\n",
       "      <td>0</td>\n",
       "      <td>inf</td>\n",
       "      <td>inf</td>\n",
       "    </tr>\n",
       "    <tr>\n",
       "      <th>11</th>\n",
       "      <td>Mahabubabad</td>\n",
       "      <td>2019</td>\n",
       "      <td>152885</td>\n",
       "      <td>2016</td>\n",
       "      <td>140002</td>\n",
       "      <td>2.9777849472</td>\n",
       "      <td>182316.5747828052</td>\n",
       "    </tr>\n",
       "    <tr>\n",
       "      <th>12</th>\n",
       "      <td>Mahbubnagar</td>\n",
       "      <td>2019</td>\n",
       "      <td>2534815</td>\n",
       "      <td>2016</td>\n",
       "      <td>8304766</td>\n",
       "      <td>-32.6703604502</td>\n",
       "      <td>236147.8550894870</td>\n",
       "    </tr>\n",
       "    <tr>\n",
       "      <th>13</th>\n",
       "      <td>Mancherial</td>\n",
       "      <td>2019</td>\n",
       "      <td>269810</td>\n",
       "      <td>2016</td>\n",
       "      <td>7802</td>\n",
       "      <td>225.7997139428</td>\n",
       "      <td>322672708.0039519072</td>\n",
       "    </tr>\n",
       "    <tr>\n",
       "      <th>14</th>\n",
       "      <td>Medak</td>\n",
       "      <td>2019</td>\n",
       "      <td>5452570</td>\n",
       "      <td>2016</td>\n",
       "      <td>3463200</td>\n",
       "      <td>16.3343298247</td>\n",
       "      <td>13516013.0879995115</td>\n",
       "    </tr>\n",
       "    <tr>\n",
       "      <th>15</th>\n",
       "      <td>Medchal</td>\n",
       "      <td>2019</td>\n",
       "      <td>0</td>\n",
       "      <td>2016</td>\n",
       "      <td>0</td>\n",
       "      <td>NaN</td>\n",
       "      <td>NaN</td>\n",
       "    </tr>\n",
       "    <tr>\n",
       "      <th>16</th>\n",
       "      <td>Nagarkurnool</td>\n",
       "      <td>2019</td>\n",
       "      <td>2093312</td>\n",
       "      <td>2016</td>\n",
       "      <td>588473</td>\n",
       "      <td>52.6519912705</td>\n",
       "      <td>26487977.9398498386</td>\n",
       "    </tr>\n",
       "    <tr>\n",
       "      <th>17</th>\n",
       "      <td>Nalgonda</td>\n",
       "      <td>2019</td>\n",
       "      <td>140918</td>\n",
       "      <td>2016</td>\n",
       "      <td>5858461</td>\n",
       "      <td>-71.1334880766</td>\n",
       "      <td>81.5327941537</td>\n",
       "    </tr>\n",
       "    <tr>\n",
       "      <th>18</th>\n",
       "      <td>Nirmal</td>\n",
       "      <td>2019</td>\n",
       "      <td>3816778</td>\n",
       "      <td>2016</td>\n",
       "      <td>916610</td>\n",
       "      <td>60.8807577394</td>\n",
       "      <td>66179200.9017202333</td>\n",
       "    </tr>\n",
       "    <tr>\n",
       "      <th>19</th>\n",
       "      <td>Nizamabad</td>\n",
       "      <td>2019</td>\n",
       "      <td>46333</td>\n",
       "      <td>2016</td>\n",
       "      <td>6442</td>\n",
       "      <td>93.0292990146</td>\n",
       "      <td>2396789.1076122751</td>\n",
       "    </tr>\n",
       "    <tr>\n",
       "      <th>20</th>\n",
       "      <td>Peddapalli</td>\n",
       "      <td>2019</td>\n",
       "      <td>16581</td>\n",
       "      <td>2016</td>\n",
       "      <td>3244</td>\n",
       "      <td>72.2568989544</td>\n",
       "      <td>433182.0645590037</td>\n",
       "    </tr>\n",
       "    <tr>\n",
       "      <th>21</th>\n",
       "      <td>Rajanna Sircilla</td>\n",
       "      <td>2019</td>\n",
       "      <td>16832897</td>\n",
       "      <td>2016</td>\n",
       "      <td>2176801</td>\n",
       "      <td>97.7485825746</td>\n",
       "      <td>1006558779.9295936823</td>\n",
       "    </tr>\n",
       "    <tr>\n",
       "      <th>22</th>\n",
       "      <td>Ranga Reddy</td>\n",
       "      <td>2019</td>\n",
       "      <td>0</td>\n",
       "      <td>2016</td>\n",
       "      <td>0</td>\n",
       "      <td>NaN</td>\n",
       "      <td>NaN</td>\n",
       "    </tr>\n",
       "    <tr>\n",
       "      <th>23</th>\n",
       "      <td>Sangareddy</td>\n",
       "      <td>2019</td>\n",
       "      <td>4553160</td>\n",
       "      <td>2016</td>\n",
       "      <td>778000</td>\n",
       "      <td>80.2095373161</td>\n",
       "      <td>155947903.8517364860</td>\n",
       "    </tr>\n",
       "    <tr>\n",
       "      <th>24</th>\n",
       "      <td>Siddipet</td>\n",
       "      <td>2019</td>\n",
       "      <td>2987864</td>\n",
       "      <td>2016</td>\n",
       "      <td>358400</td>\n",
       "      <td>102.7671552477</td>\n",
       "      <td>207656951.8657110929</td>\n",
       "    </tr>\n",
       "    <tr>\n",
       "      <th>25</th>\n",
       "      <td>Suryapet</td>\n",
       "      <td>2019</td>\n",
       "      <td>0</td>\n",
       "      <td>2016</td>\n",
       "      <td>0</td>\n",
       "      <td>NaN</td>\n",
       "      <td>NaN</td>\n",
       "    </tr>\n",
       "    <tr>\n",
       "      <th>26</th>\n",
       "      <td>Vikarabad</td>\n",
       "      <td>2019</td>\n",
       "      <td>0</td>\n",
       "      <td>2016</td>\n",
       "      <td>0</td>\n",
       "      <td>NaN</td>\n",
       "      <td>NaN</td>\n",
       "    </tr>\n",
       "    <tr>\n",
       "      <th>27</th>\n",
       "      <td>Wanaparthy</td>\n",
       "      <td>2019</td>\n",
       "      <td>298639</td>\n",
       "      <td>2016</td>\n",
       "      <td>60138</td>\n",
       "      <td>70.6079170250</td>\n",
       "      <td>7364471.8513972331</td>\n",
       "    </tr>\n",
       "    <tr>\n",
       "      <th>28</th>\n",
       "      <td>Warangal (Rural)</td>\n",
       "      <td>2019</td>\n",
       "      <td>353500</td>\n",
       "      <td>2016</td>\n",
       "      <td>19400</td>\n",
       "      <td>163.1454687567</td>\n",
       "      <td>117372078.2628335953</td>\n",
       "    </tr>\n",
       "    <tr>\n",
       "      <th>29</th>\n",
       "      <td>Warangal (Urban)</td>\n",
       "      <td>2019</td>\n",
       "      <td>1795230</td>\n",
       "      <td>2016</td>\n",
       "      <td>25788035</td>\n",
       "      <td>-58.8628738295</td>\n",
       "      <td>8700.0908832459</td>\n",
       "    </tr>\n",
       "    <tr>\n",
       "      <th>30</th>\n",
       "      <td>Yadadri Bhongir</td>\n",
       "      <td>2019</td>\n",
       "      <td>4489374</td>\n",
       "      <td>2016</td>\n",
       "      <td>1728600</td>\n",
       "      <td>37.4560182835</td>\n",
       "      <td>30280869.6557292938</td>\n",
       "    </tr>\n",
       "  </tbody>\n",
       "</table>\n",
       "</div>"
      ],
      "text/plain": [
       "                    district  year_x  visitors_x  year_y  visitors_y   \n",
       "0                   Adilabad    2019      775895    2016     5075557  \\\n",
       "1      Bhadradri Kothagudem     2019    12817737    2016      889030   \n",
       "2                  Hyderabad    2019    13802362    2016    23394705   \n",
       "3                   Jagtial     2019     3086115    2016      623077   \n",
       "4                   Jangaon     2019      328890    2016       40660   \n",
       "5   Jayashankar Bhoopalpally    2019      662530    2016      243400   \n",
       "6          Jogulamba Gadwal     2019     2007995    2016      523401   \n",
       "7                 Kamareddy     2019         534    2016         127   \n",
       "8                Karimnagar     2019       77491    2016     9167468   \n",
       "9                    Khammam    2019     1413440    2016     5005031   \n",
       "10    Komaram Bheem Asifabad    2019       19189    2016           0   \n",
       "11              Mahabubabad     2019      152885    2016      140002   \n",
       "12               Mahbubnagar    2019     2534815    2016     8304766   \n",
       "13                Mancherial    2019      269810    2016        7802   \n",
       "14                    Medak     2019     5452570    2016     3463200   \n",
       "15                  Medchal     2019           0    2016           0   \n",
       "16             Nagarkurnool     2019     2093312    2016      588473   \n",
       "17                  Nalgonda    2019      140918    2016     5858461   \n",
       "18                    Nirmal    2019     3816778    2016      916610   \n",
       "19                 Nizamabad    2019       46333    2016        6442   \n",
       "20                Peddapalli    2019       16581    2016        3244   \n",
       "21         Rajanna Sircilla     2019    16832897    2016     2176801   \n",
       "22               Ranga Reddy    2019           0    2016           0   \n",
       "23               Sangareddy     2019     4553160    2016      778000   \n",
       "24                  Siddipet    2019     2987864    2016      358400   \n",
       "25                  Suryapet    2019           0    2016           0   \n",
       "26                 Vikarabad    2019           0    2016           0   \n",
       "27               Wanaparthy     2019      298639    2016       60138   \n",
       "28          Warangal (Rural)    2019      353500    2016       19400   \n",
       "29          Warangal (Urban)    2019     1795230    2016    25788035   \n",
       "30           Yadadri Bhongir    2019     4489374    2016     1728600   \n",
       "\n",
       "             CAGR         Visitors 2025  \n",
       "0  -46.5304640953      18131.8217453016  \n",
       "1  143.3875243992 2664411111.9637303352  \n",
       "2  -16.1289757396    4804244.4201944452  \n",
       "3   70.4603837242   75709935.4558583796  \n",
       "4  100.7371550634   21518760.7933007218  \n",
       "5   39.6245087581    4908801.8001665818  \n",
       "6   56.5462587469   29554171.2211439684  \n",
       "7   61.4033379457       9440.9637299275  \n",
       "8  -79.6295500999          5.5367509746  \n",
       "9  -34.3919894670     112724.5705010588  \n",
       "10            inf                   inf  \n",
       "11   2.9777849472     182316.5747828052  \n",
       "12 -32.6703604502     236147.8550894870  \n",
       "13 225.7997139428  322672708.0039519072  \n",
       "14  16.3343298247   13516013.0879995115  \n",
       "15            NaN                   NaN  \n",
       "16  52.6519912705   26487977.9398498386  \n",
       "17 -71.1334880766         81.5327941537  \n",
       "18  60.8807577394   66179200.9017202333  \n",
       "19  93.0292990146    2396789.1076122751  \n",
       "20  72.2568989544     433182.0645590037  \n",
       "21  97.7485825746 1006558779.9295936823  \n",
       "22            NaN                   NaN  \n",
       "23  80.2095373161  155947903.8517364860  \n",
       "24 102.7671552477  207656951.8657110929  \n",
       "25            NaN                   NaN  \n",
       "26            NaN                   NaN  \n",
       "27  70.6079170250    7364471.8513972331  \n",
       "28 163.1454687567  117372078.2628335953  \n",
       "29 -58.8628738295       8700.0908832459  \n",
       "30  37.4560182835   30280869.6557292938  "
      ]
     },
     "execution_count": 365,
     "metadata": {},
     "output_type": "execute_result"
    }
   ],
   "source": [
    "result_2"
   ]
  },
  {
   "cell_type": "code",
   "execution_count": 366,
   "metadata": {},
   "outputs": [
    {
     "data": {
      "text/plain": [
       "0                     Adilabad\n",
       "1         Bhadradri Kothagudem\n",
       "2                    Hyderabad\n",
       "3                      Jagtial\n",
       "4                      Jangaon\n",
       "5     Jayashankar Bhoopalpally\n",
       "6             Jogulamba Gadwal\n",
       "7                    Kamareddy\n",
       "8                   Karimnagar\n",
       "9                      Khammam\n",
       "10      Komaram Bheem Asifabad\n",
       "11                 Mahabubabad\n",
       "12                 Mahbubnagar\n",
       "13                  Mancherial\n",
       "14                       Medak\n",
       "15                     Medchal\n",
       "16                Nagarkurnool\n",
       "17                    Nalgonda\n",
       "18                      Nirmal\n",
       "19                   Nizamabad\n",
       "20                  Peddapalli\n",
       "21            Rajanna Sircilla\n",
       "22                 Ranga Reddy\n",
       "23                  Sangareddy\n",
       "24                    Siddipet\n",
       "25                    Suryapet\n",
       "26                   Vikarabad\n",
       "27                  Wanaparthy\n",
       "28            Warangal (Rural)\n",
       "29            Warangal (Urban)\n",
       "30             Yadadri Bhongir\n",
       "Name: district, dtype: object"
      ]
     },
     "execution_count": 366,
     "metadata": {},
     "output_type": "execute_result"
    }
   ],
   "source": [
    "result_2.district.str.strip()"
   ]
  },
  {
   "cell_type": "code",
   "execution_count": 367,
   "metadata": {},
   "outputs": [],
   "source": [
    "results_2 = result_2.replace([np.inf, -np.inf], np.nan).dropna()"
   ]
  },
  {
   "cell_type": "code",
   "execution_count": 368,
   "metadata": {},
   "outputs": [],
   "source": [
    "results_2['Visitors 2025'] = results_2['Visitors 2025'].astype('int')\n"
   ]
  },
  {
   "cell_type": "code",
   "execution_count": 369,
   "metadata": {},
   "outputs": [
    {
     "data": {
      "text/plain": [
       "district          object\n",
       "year_x             int64\n",
       "visitors_x         int64\n",
       "year_y             int64\n",
       "visitors_y         int64\n",
       "CAGR             float64\n",
       "Visitors 2025      int64\n",
       "dtype: object"
      ]
     },
     "execution_count": 369,
     "metadata": {},
     "output_type": "execute_result"
    }
   ],
   "source": [
    "results_2.dtypes"
   ]
  },
  {
   "attachments": {},
   "cell_type": "markdown",
   "metadata": {},
   "source": [
    "### **Predictions for Visitors in 2025**\n",
    " This predition is accomplished by using the CAGR value of the districts from 2016 - 2019 i.e. based on the growth rate between those years\n",
    " The formula used is:\n",
    " \n",
    " _FV = PV * ((1 + CAGR/100) ** n)_\n",
    "\n",
    " FV = Final Value (Value we are trying to predict)\n",
    " PV = Present Value (Value of the present year)\n",
    " CAGR = Compunded Annual Growth Rate\n",
    " n = number of year we are caculating for\n",
    " \n"
   ]
  },
  {
   "cell_type": "code",
   "execution_count": 370,
   "metadata": {},
   "outputs": [
    {
     "data": {
      "text/html": [
       "<div>\n",
       "<style scoped>\n",
       "    .dataframe tbody tr th:only-of-type {\n",
       "        vertical-align: middle;\n",
       "    }\n",
       "\n",
       "    .dataframe tbody tr th {\n",
       "        vertical-align: top;\n",
       "    }\n",
       "\n",
       "    .dataframe thead th {\n",
       "        text-align: right;\n",
       "    }\n",
       "</style>\n",
       "<table border=\"1\" class=\"dataframe\">\n",
       "  <thead>\n",
       "    <tr style=\"text-align: right;\">\n",
       "      <th></th>\n",
       "      <th>district</th>\n",
       "      <th>year_x</th>\n",
       "      <th>visitors_x</th>\n",
       "      <th>year_y</th>\n",
       "      <th>visitors_y</th>\n",
       "      <th>CAGR</th>\n",
       "      <th>Visitors 2025</th>\n",
       "    </tr>\n",
       "  </thead>\n",
       "  <tbody>\n",
       "    <tr>\n",
       "      <th>0</th>\n",
       "      <td>Adilabad</td>\n",
       "      <td>2019</td>\n",
       "      <td>775895</td>\n",
       "      <td>2016</td>\n",
       "      <td>5075557</td>\n",
       "      <td>-46.5304640953</td>\n",
       "      <td>18131</td>\n",
       "    </tr>\n",
       "    <tr>\n",
       "      <th>1</th>\n",
       "      <td>Bhadradri Kothagudem</td>\n",
       "      <td>2019</td>\n",
       "      <td>12817737</td>\n",
       "      <td>2016</td>\n",
       "      <td>889030</td>\n",
       "      <td>143.3875243992</td>\n",
       "      <td>2664411111</td>\n",
       "    </tr>\n",
       "    <tr>\n",
       "      <th>2</th>\n",
       "      <td>Hyderabad</td>\n",
       "      <td>2019</td>\n",
       "      <td>13802362</td>\n",
       "      <td>2016</td>\n",
       "      <td>23394705</td>\n",
       "      <td>-16.1289757396</td>\n",
       "      <td>4804244</td>\n",
       "    </tr>\n",
       "    <tr>\n",
       "      <th>3</th>\n",
       "      <td>Jagtial</td>\n",
       "      <td>2019</td>\n",
       "      <td>3086115</td>\n",
       "      <td>2016</td>\n",
       "      <td>623077</td>\n",
       "      <td>70.4603837242</td>\n",
       "      <td>75709935</td>\n",
       "    </tr>\n",
       "    <tr>\n",
       "      <th>4</th>\n",
       "      <td>Jangaon</td>\n",
       "      <td>2019</td>\n",
       "      <td>328890</td>\n",
       "      <td>2016</td>\n",
       "      <td>40660</td>\n",
       "      <td>100.7371550634</td>\n",
       "      <td>21518760</td>\n",
       "    </tr>\n",
       "    <tr>\n",
       "      <th>5</th>\n",
       "      <td>Jayashankar Bhoopalpally</td>\n",
       "      <td>2019</td>\n",
       "      <td>662530</td>\n",
       "      <td>2016</td>\n",
       "      <td>243400</td>\n",
       "      <td>39.6245087581</td>\n",
       "      <td>4908801</td>\n",
       "    </tr>\n",
       "    <tr>\n",
       "      <th>6</th>\n",
       "      <td>Jogulamba Gadwal</td>\n",
       "      <td>2019</td>\n",
       "      <td>2007995</td>\n",
       "      <td>2016</td>\n",
       "      <td>523401</td>\n",
       "      <td>56.5462587469</td>\n",
       "      <td>29554171</td>\n",
       "    </tr>\n",
       "    <tr>\n",
       "      <th>7</th>\n",
       "      <td>Kamareddy</td>\n",
       "      <td>2019</td>\n",
       "      <td>534</td>\n",
       "      <td>2016</td>\n",
       "      <td>127</td>\n",
       "      <td>61.4033379457</td>\n",
       "      <td>9440</td>\n",
       "    </tr>\n",
       "    <tr>\n",
       "      <th>8</th>\n",
       "      <td>Karimnagar</td>\n",
       "      <td>2019</td>\n",
       "      <td>77491</td>\n",
       "      <td>2016</td>\n",
       "      <td>9167468</td>\n",
       "      <td>-79.6295500999</td>\n",
       "      <td>5</td>\n",
       "    </tr>\n",
       "    <tr>\n",
       "      <th>9</th>\n",
       "      <td>Khammam</td>\n",
       "      <td>2019</td>\n",
       "      <td>1413440</td>\n",
       "      <td>2016</td>\n",
       "      <td>5005031</td>\n",
       "      <td>-34.3919894670</td>\n",
       "      <td>112724</td>\n",
       "    </tr>\n",
       "    <tr>\n",
       "      <th>11</th>\n",
       "      <td>Mahabubabad</td>\n",
       "      <td>2019</td>\n",
       "      <td>152885</td>\n",
       "      <td>2016</td>\n",
       "      <td>140002</td>\n",
       "      <td>2.9777849472</td>\n",
       "      <td>182316</td>\n",
       "    </tr>\n",
       "    <tr>\n",
       "      <th>12</th>\n",
       "      <td>Mahbubnagar</td>\n",
       "      <td>2019</td>\n",
       "      <td>2534815</td>\n",
       "      <td>2016</td>\n",
       "      <td>8304766</td>\n",
       "      <td>-32.6703604502</td>\n",
       "      <td>236147</td>\n",
       "    </tr>\n",
       "    <tr>\n",
       "      <th>13</th>\n",
       "      <td>Mancherial</td>\n",
       "      <td>2019</td>\n",
       "      <td>269810</td>\n",
       "      <td>2016</td>\n",
       "      <td>7802</td>\n",
       "      <td>225.7997139428</td>\n",
       "      <td>322672708</td>\n",
       "    </tr>\n",
       "    <tr>\n",
       "      <th>14</th>\n",
       "      <td>Medak</td>\n",
       "      <td>2019</td>\n",
       "      <td>5452570</td>\n",
       "      <td>2016</td>\n",
       "      <td>3463200</td>\n",
       "      <td>16.3343298247</td>\n",
       "      <td>13516013</td>\n",
       "    </tr>\n",
       "    <tr>\n",
       "      <th>16</th>\n",
       "      <td>Nagarkurnool</td>\n",
       "      <td>2019</td>\n",
       "      <td>2093312</td>\n",
       "      <td>2016</td>\n",
       "      <td>588473</td>\n",
       "      <td>52.6519912705</td>\n",
       "      <td>26487977</td>\n",
       "    </tr>\n",
       "    <tr>\n",
       "      <th>17</th>\n",
       "      <td>Nalgonda</td>\n",
       "      <td>2019</td>\n",
       "      <td>140918</td>\n",
       "      <td>2016</td>\n",
       "      <td>5858461</td>\n",
       "      <td>-71.1334880766</td>\n",
       "      <td>81</td>\n",
       "    </tr>\n",
       "    <tr>\n",
       "      <th>18</th>\n",
       "      <td>Nirmal</td>\n",
       "      <td>2019</td>\n",
       "      <td>3816778</td>\n",
       "      <td>2016</td>\n",
       "      <td>916610</td>\n",
       "      <td>60.8807577394</td>\n",
       "      <td>66179200</td>\n",
       "    </tr>\n",
       "    <tr>\n",
       "      <th>19</th>\n",
       "      <td>Nizamabad</td>\n",
       "      <td>2019</td>\n",
       "      <td>46333</td>\n",
       "      <td>2016</td>\n",
       "      <td>6442</td>\n",
       "      <td>93.0292990146</td>\n",
       "      <td>2396789</td>\n",
       "    </tr>\n",
       "    <tr>\n",
       "      <th>20</th>\n",
       "      <td>Peddapalli</td>\n",
       "      <td>2019</td>\n",
       "      <td>16581</td>\n",
       "      <td>2016</td>\n",
       "      <td>3244</td>\n",
       "      <td>72.2568989544</td>\n",
       "      <td>433182</td>\n",
       "    </tr>\n",
       "    <tr>\n",
       "      <th>21</th>\n",
       "      <td>Rajanna Sircilla</td>\n",
       "      <td>2019</td>\n",
       "      <td>16832897</td>\n",
       "      <td>2016</td>\n",
       "      <td>2176801</td>\n",
       "      <td>97.7485825746</td>\n",
       "      <td>1006558779</td>\n",
       "    </tr>\n",
       "    <tr>\n",
       "      <th>23</th>\n",
       "      <td>Sangareddy</td>\n",
       "      <td>2019</td>\n",
       "      <td>4553160</td>\n",
       "      <td>2016</td>\n",
       "      <td>778000</td>\n",
       "      <td>80.2095373161</td>\n",
       "      <td>155947903</td>\n",
       "    </tr>\n",
       "    <tr>\n",
       "      <th>24</th>\n",
       "      <td>Siddipet</td>\n",
       "      <td>2019</td>\n",
       "      <td>2987864</td>\n",
       "      <td>2016</td>\n",
       "      <td>358400</td>\n",
       "      <td>102.7671552477</td>\n",
       "      <td>207656951</td>\n",
       "    </tr>\n",
       "    <tr>\n",
       "      <th>27</th>\n",
       "      <td>Wanaparthy</td>\n",
       "      <td>2019</td>\n",
       "      <td>298639</td>\n",
       "      <td>2016</td>\n",
       "      <td>60138</td>\n",
       "      <td>70.6079170250</td>\n",
       "      <td>7364471</td>\n",
       "    </tr>\n",
       "    <tr>\n",
       "      <th>28</th>\n",
       "      <td>Warangal (Rural)</td>\n",
       "      <td>2019</td>\n",
       "      <td>353500</td>\n",
       "      <td>2016</td>\n",
       "      <td>19400</td>\n",
       "      <td>163.1454687567</td>\n",
       "      <td>117372078</td>\n",
       "    </tr>\n",
       "    <tr>\n",
       "      <th>29</th>\n",
       "      <td>Warangal (Urban)</td>\n",
       "      <td>2019</td>\n",
       "      <td>1795230</td>\n",
       "      <td>2016</td>\n",
       "      <td>25788035</td>\n",
       "      <td>-58.8628738295</td>\n",
       "      <td>8700</td>\n",
       "    </tr>\n",
       "    <tr>\n",
       "      <th>30</th>\n",
       "      <td>Yadadri Bhongir</td>\n",
       "      <td>2019</td>\n",
       "      <td>4489374</td>\n",
       "      <td>2016</td>\n",
       "      <td>1728600</td>\n",
       "      <td>37.4560182835</td>\n",
       "      <td>30280869</td>\n",
       "    </tr>\n",
       "  </tbody>\n",
       "</table>\n",
       "</div>"
      ],
      "text/plain": [
       "                    district  year_x  visitors_x  year_y  visitors_y   \n",
       "0                   Adilabad    2019      775895    2016     5075557  \\\n",
       "1      Bhadradri Kothagudem     2019    12817737    2016      889030   \n",
       "2                  Hyderabad    2019    13802362    2016    23394705   \n",
       "3                   Jagtial     2019     3086115    2016      623077   \n",
       "4                   Jangaon     2019      328890    2016       40660   \n",
       "5   Jayashankar Bhoopalpally    2019      662530    2016      243400   \n",
       "6          Jogulamba Gadwal     2019     2007995    2016      523401   \n",
       "7                 Kamareddy     2019         534    2016         127   \n",
       "8                Karimnagar     2019       77491    2016     9167468   \n",
       "9                    Khammam    2019     1413440    2016     5005031   \n",
       "11              Mahabubabad     2019      152885    2016      140002   \n",
       "12               Mahbubnagar    2019     2534815    2016     8304766   \n",
       "13                Mancherial    2019      269810    2016        7802   \n",
       "14                    Medak     2019     5452570    2016     3463200   \n",
       "16             Nagarkurnool     2019     2093312    2016      588473   \n",
       "17                  Nalgonda    2019      140918    2016     5858461   \n",
       "18                    Nirmal    2019     3816778    2016      916610   \n",
       "19                 Nizamabad    2019       46333    2016        6442   \n",
       "20                Peddapalli    2019       16581    2016        3244   \n",
       "21         Rajanna Sircilla     2019    16832897    2016     2176801   \n",
       "23               Sangareddy     2019     4553160    2016      778000   \n",
       "24                  Siddipet    2019     2987864    2016      358400   \n",
       "27               Wanaparthy     2019      298639    2016       60138   \n",
       "28          Warangal (Rural)    2019      353500    2016       19400   \n",
       "29          Warangal (Urban)    2019     1795230    2016    25788035   \n",
       "30           Yadadri Bhongir    2019     4489374    2016     1728600   \n",
       "\n",
       "             CAGR  Visitors 2025  \n",
       "0  -46.5304640953          18131  \n",
       "1  143.3875243992     2664411111  \n",
       "2  -16.1289757396        4804244  \n",
       "3   70.4603837242       75709935  \n",
       "4  100.7371550634       21518760  \n",
       "5   39.6245087581        4908801  \n",
       "6   56.5462587469       29554171  \n",
       "7   61.4033379457           9440  \n",
       "8  -79.6295500999              5  \n",
       "9  -34.3919894670         112724  \n",
       "11   2.9777849472         182316  \n",
       "12 -32.6703604502         236147  \n",
       "13 225.7997139428      322672708  \n",
       "14  16.3343298247       13516013  \n",
       "16  52.6519912705       26487977  \n",
       "17 -71.1334880766             81  \n",
       "18  60.8807577394       66179200  \n",
       "19  93.0292990146        2396789  \n",
       "20  72.2568989544         433182  \n",
       "21  97.7485825746     1006558779  \n",
       "23  80.2095373161      155947903  \n",
       "24 102.7671552477      207656951  \n",
       "27  70.6079170250        7364471  \n",
       "28 163.1454687567      117372078  \n",
       "29 -58.8628738295           8700  \n",
       "30  37.4560182835       30280869  "
      ]
     },
     "execution_count": 370,
     "metadata": {},
     "output_type": "execute_result"
    }
   ],
   "source": [
    "results_2"
   ]
  },
  {
   "attachments": {},
   "cell_type": "markdown",
   "metadata": {},
   "source": [
    "##### With this we are able to deduce the projected growth of domestic and foreign visitors in a district like \n",
    "\n",
    "**_Hyderabad_** \n",
    "> _4804244 Visitors in 2025_"
   ]
  },
  {
   "cell_type": "code",
   "execution_count": 371,
   "metadata": {},
   "outputs": [
    {
     "data": {
      "application/vnd.plotly.v1+json": {
       "config": {
        "plotlyServerURL": "https://plot.ly"
       },
       "data": [
        {
         "alignmentgroup": "True",
         "hovertemplate": "district=%{x}<br>Visitors 2025=%{y}<extra></extra>",
         "legendgroup": "",
         "marker": {
          "color": "#636efa",
          "pattern": {
           "shape": ""
          }
         },
         "name": "",
         "offsetgroup": "",
         "orientation": "v",
         "showlegend": false,
         "textposition": "auto",
         "type": "bar",
         "x": [
          "Adilabad",
          "Bhadradri Kothagudem ",
          "Hyderabad",
          "Jagtial ",
          "Jangaon ",
          "Jayashankar Bhoopalpally",
          "Jogulamba Gadwal ",
          "Kamareddy ",
          "Karimnagar ",
          "Khammam",
          "Mahabubabad ",
          "Mahbubnagar",
          "Mancherial",
          "Medak ",
          "Nagarkurnool ",
          "Nalgonda",
          "Nirmal",
          "Nizamabad",
          "Peddapalli",
          "Rajanna Sircilla ",
          "Sangareddy ",
          "Siddipet",
          "Wanaparthy ",
          "Warangal (Rural)",
          "Warangal (Urban)",
          "Yadadri Bhongir"
         ],
         "xaxis": "x",
         "y": [
          18131,
          2664411111,
          4804244,
          75709935,
          21518760,
          4908801,
          29554171,
          9440,
          5,
          112724,
          182316,
          236147,
          322672708,
          13516013,
          26487977,
          81,
          66179200,
          2396789,
          433182,
          1006558779,
          155947903,
          207656951,
          7364471,
          117372078,
          8700,
          30280869
         ],
         "yaxis": "y"
        }
       ],
       "layout": {
        "barmode": "relative",
        "legend": {
         "tracegroupgap": 0
        },
        "margin": {
         "t": 60
        },
        "template": {
         "data": {
          "bar": [
           {
            "error_x": {
             "color": "#2a3f5f"
            },
            "error_y": {
             "color": "#2a3f5f"
            },
            "marker": {
             "line": {
              "color": "#E5ECF6",
              "width": 0.5
             },
             "pattern": {
              "fillmode": "overlay",
              "size": 10,
              "solidity": 0.2
             }
            },
            "type": "bar"
           }
          ],
          "barpolar": [
           {
            "marker": {
             "line": {
              "color": "#E5ECF6",
              "width": 0.5
             },
             "pattern": {
              "fillmode": "overlay",
              "size": 10,
              "solidity": 0.2
             }
            },
            "type": "barpolar"
           }
          ],
          "carpet": [
           {
            "aaxis": {
             "endlinecolor": "#2a3f5f",
             "gridcolor": "white",
             "linecolor": "white",
             "minorgridcolor": "white",
             "startlinecolor": "#2a3f5f"
            },
            "baxis": {
             "endlinecolor": "#2a3f5f",
             "gridcolor": "white",
             "linecolor": "white",
             "minorgridcolor": "white",
             "startlinecolor": "#2a3f5f"
            },
            "type": "carpet"
           }
          ],
          "choropleth": [
           {
            "colorbar": {
             "outlinewidth": 0,
             "ticks": ""
            },
            "type": "choropleth"
           }
          ],
          "contour": [
           {
            "colorbar": {
             "outlinewidth": 0,
             "ticks": ""
            },
            "colorscale": [
             [
              0,
              "#0d0887"
             ],
             [
              0.1111111111111111,
              "#46039f"
             ],
             [
              0.2222222222222222,
              "#7201a8"
             ],
             [
              0.3333333333333333,
              "#9c179e"
             ],
             [
              0.4444444444444444,
              "#bd3786"
             ],
             [
              0.5555555555555556,
              "#d8576b"
             ],
             [
              0.6666666666666666,
              "#ed7953"
             ],
             [
              0.7777777777777778,
              "#fb9f3a"
             ],
             [
              0.8888888888888888,
              "#fdca26"
             ],
             [
              1,
              "#f0f921"
             ]
            ],
            "type": "contour"
           }
          ],
          "contourcarpet": [
           {
            "colorbar": {
             "outlinewidth": 0,
             "ticks": ""
            },
            "type": "contourcarpet"
           }
          ],
          "heatmap": [
           {
            "colorbar": {
             "outlinewidth": 0,
             "ticks": ""
            },
            "colorscale": [
             [
              0,
              "#0d0887"
             ],
             [
              0.1111111111111111,
              "#46039f"
             ],
             [
              0.2222222222222222,
              "#7201a8"
             ],
             [
              0.3333333333333333,
              "#9c179e"
             ],
             [
              0.4444444444444444,
              "#bd3786"
             ],
             [
              0.5555555555555556,
              "#d8576b"
             ],
             [
              0.6666666666666666,
              "#ed7953"
             ],
             [
              0.7777777777777778,
              "#fb9f3a"
             ],
             [
              0.8888888888888888,
              "#fdca26"
             ],
             [
              1,
              "#f0f921"
             ]
            ],
            "type": "heatmap"
           }
          ],
          "heatmapgl": [
           {
            "colorbar": {
             "outlinewidth": 0,
             "ticks": ""
            },
            "colorscale": [
             [
              0,
              "#0d0887"
             ],
             [
              0.1111111111111111,
              "#46039f"
             ],
             [
              0.2222222222222222,
              "#7201a8"
             ],
             [
              0.3333333333333333,
              "#9c179e"
             ],
             [
              0.4444444444444444,
              "#bd3786"
             ],
             [
              0.5555555555555556,
              "#d8576b"
             ],
             [
              0.6666666666666666,
              "#ed7953"
             ],
             [
              0.7777777777777778,
              "#fb9f3a"
             ],
             [
              0.8888888888888888,
              "#fdca26"
             ],
             [
              1,
              "#f0f921"
             ]
            ],
            "type": "heatmapgl"
           }
          ],
          "histogram": [
           {
            "marker": {
             "pattern": {
              "fillmode": "overlay",
              "size": 10,
              "solidity": 0.2
             }
            },
            "type": "histogram"
           }
          ],
          "histogram2d": [
           {
            "colorbar": {
             "outlinewidth": 0,
             "ticks": ""
            },
            "colorscale": [
             [
              0,
              "#0d0887"
             ],
             [
              0.1111111111111111,
              "#46039f"
             ],
             [
              0.2222222222222222,
              "#7201a8"
             ],
             [
              0.3333333333333333,
              "#9c179e"
             ],
             [
              0.4444444444444444,
              "#bd3786"
             ],
             [
              0.5555555555555556,
              "#d8576b"
             ],
             [
              0.6666666666666666,
              "#ed7953"
             ],
             [
              0.7777777777777778,
              "#fb9f3a"
             ],
             [
              0.8888888888888888,
              "#fdca26"
             ],
             [
              1,
              "#f0f921"
             ]
            ],
            "type": "histogram2d"
           }
          ],
          "histogram2dcontour": [
           {
            "colorbar": {
             "outlinewidth": 0,
             "ticks": ""
            },
            "colorscale": [
             [
              0,
              "#0d0887"
             ],
             [
              0.1111111111111111,
              "#46039f"
             ],
             [
              0.2222222222222222,
              "#7201a8"
             ],
             [
              0.3333333333333333,
              "#9c179e"
             ],
             [
              0.4444444444444444,
              "#bd3786"
             ],
             [
              0.5555555555555556,
              "#d8576b"
             ],
             [
              0.6666666666666666,
              "#ed7953"
             ],
             [
              0.7777777777777778,
              "#fb9f3a"
             ],
             [
              0.8888888888888888,
              "#fdca26"
             ],
             [
              1,
              "#f0f921"
             ]
            ],
            "type": "histogram2dcontour"
           }
          ],
          "mesh3d": [
           {
            "colorbar": {
             "outlinewidth": 0,
             "ticks": ""
            },
            "type": "mesh3d"
           }
          ],
          "parcoords": [
           {
            "line": {
             "colorbar": {
              "outlinewidth": 0,
              "ticks": ""
             }
            },
            "type": "parcoords"
           }
          ],
          "pie": [
           {
            "automargin": true,
            "type": "pie"
           }
          ],
          "scatter": [
           {
            "fillpattern": {
             "fillmode": "overlay",
             "size": 10,
             "solidity": 0.2
            },
            "type": "scatter"
           }
          ],
          "scatter3d": [
           {
            "line": {
             "colorbar": {
              "outlinewidth": 0,
              "ticks": ""
             }
            },
            "marker": {
             "colorbar": {
              "outlinewidth": 0,
              "ticks": ""
             }
            },
            "type": "scatter3d"
           }
          ],
          "scattercarpet": [
           {
            "marker": {
             "colorbar": {
              "outlinewidth": 0,
              "ticks": ""
             }
            },
            "type": "scattercarpet"
           }
          ],
          "scattergeo": [
           {
            "marker": {
             "colorbar": {
              "outlinewidth": 0,
              "ticks": ""
             }
            },
            "type": "scattergeo"
           }
          ],
          "scattergl": [
           {
            "marker": {
             "colorbar": {
              "outlinewidth": 0,
              "ticks": ""
             }
            },
            "type": "scattergl"
           }
          ],
          "scattermapbox": [
           {
            "marker": {
             "colorbar": {
              "outlinewidth": 0,
              "ticks": ""
             }
            },
            "type": "scattermapbox"
           }
          ],
          "scatterpolar": [
           {
            "marker": {
             "colorbar": {
              "outlinewidth": 0,
              "ticks": ""
             }
            },
            "type": "scatterpolar"
           }
          ],
          "scatterpolargl": [
           {
            "marker": {
             "colorbar": {
              "outlinewidth": 0,
              "ticks": ""
             }
            },
            "type": "scatterpolargl"
           }
          ],
          "scatterternary": [
           {
            "marker": {
             "colorbar": {
              "outlinewidth": 0,
              "ticks": ""
             }
            },
            "type": "scatterternary"
           }
          ],
          "surface": [
           {
            "colorbar": {
             "outlinewidth": 0,
             "ticks": ""
            },
            "colorscale": [
             [
              0,
              "#0d0887"
             ],
             [
              0.1111111111111111,
              "#46039f"
             ],
             [
              0.2222222222222222,
              "#7201a8"
             ],
             [
              0.3333333333333333,
              "#9c179e"
             ],
             [
              0.4444444444444444,
              "#bd3786"
             ],
             [
              0.5555555555555556,
              "#d8576b"
             ],
             [
              0.6666666666666666,
              "#ed7953"
             ],
             [
              0.7777777777777778,
              "#fb9f3a"
             ],
             [
              0.8888888888888888,
              "#fdca26"
             ],
             [
              1,
              "#f0f921"
             ]
            ],
            "type": "surface"
           }
          ],
          "table": [
           {
            "cells": {
             "fill": {
              "color": "#EBF0F8"
             },
             "line": {
              "color": "white"
             }
            },
            "header": {
             "fill": {
              "color": "#C8D4E3"
             },
             "line": {
              "color": "white"
             }
            },
            "type": "table"
           }
          ]
         },
         "layout": {
          "annotationdefaults": {
           "arrowcolor": "#2a3f5f",
           "arrowhead": 0,
           "arrowwidth": 1
          },
          "autotypenumbers": "strict",
          "coloraxis": {
           "colorbar": {
            "outlinewidth": 0,
            "ticks": ""
           }
          },
          "colorscale": {
           "diverging": [
            [
             0,
             "#8e0152"
            ],
            [
             0.1,
             "#c51b7d"
            ],
            [
             0.2,
             "#de77ae"
            ],
            [
             0.3,
             "#f1b6da"
            ],
            [
             0.4,
             "#fde0ef"
            ],
            [
             0.5,
             "#f7f7f7"
            ],
            [
             0.6,
             "#e6f5d0"
            ],
            [
             0.7,
             "#b8e186"
            ],
            [
             0.8,
             "#7fbc41"
            ],
            [
             0.9,
             "#4d9221"
            ],
            [
             1,
             "#276419"
            ]
           ],
           "sequential": [
            [
             0,
             "#0d0887"
            ],
            [
             0.1111111111111111,
             "#46039f"
            ],
            [
             0.2222222222222222,
             "#7201a8"
            ],
            [
             0.3333333333333333,
             "#9c179e"
            ],
            [
             0.4444444444444444,
             "#bd3786"
            ],
            [
             0.5555555555555556,
             "#d8576b"
            ],
            [
             0.6666666666666666,
             "#ed7953"
            ],
            [
             0.7777777777777778,
             "#fb9f3a"
            ],
            [
             0.8888888888888888,
             "#fdca26"
            ],
            [
             1,
             "#f0f921"
            ]
           ],
           "sequentialminus": [
            [
             0,
             "#0d0887"
            ],
            [
             0.1111111111111111,
             "#46039f"
            ],
            [
             0.2222222222222222,
             "#7201a8"
            ],
            [
             0.3333333333333333,
             "#9c179e"
            ],
            [
             0.4444444444444444,
             "#bd3786"
            ],
            [
             0.5555555555555556,
             "#d8576b"
            ],
            [
             0.6666666666666666,
             "#ed7953"
            ],
            [
             0.7777777777777778,
             "#fb9f3a"
            ],
            [
             0.8888888888888888,
             "#fdca26"
            ],
            [
             1,
             "#f0f921"
            ]
           ]
          },
          "colorway": [
           "#636efa",
           "#EF553B",
           "#00cc96",
           "#ab63fa",
           "#FFA15A",
           "#19d3f3",
           "#FF6692",
           "#B6E880",
           "#FF97FF",
           "#FECB52"
          ],
          "font": {
           "color": "#2a3f5f"
          },
          "geo": {
           "bgcolor": "white",
           "lakecolor": "white",
           "landcolor": "#E5ECF6",
           "showlakes": true,
           "showland": true,
           "subunitcolor": "white"
          },
          "hoverlabel": {
           "align": "left"
          },
          "hovermode": "closest",
          "mapbox": {
           "style": "light"
          },
          "paper_bgcolor": "white",
          "plot_bgcolor": "#E5ECF6",
          "polar": {
           "angularaxis": {
            "gridcolor": "white",
            "linecolor": "white",
            "ticks": ""
           },
           "bgcolor": "#E5ECF6",
           "radialaxis": {
            "gridcolor": "white",
            "linecolor": "white",
            "ticks": ""
           }
          },
          "scene": {
           "xaxis": {
            "backgroundcolor": "#E5ECF6",
            "gridcolor": "white",
            "gridwidth": 2,
            "linecolor": "white",
            "showbackground": true,
            "ticks": "",
            "zerolinecolor": "white"
           },
           "yaxis": {
            "backgroundcolor": "#E5ECF6",
            "gridcolor": "white",
            "gridwidth": 2,
            "linecolor": "white",
            "showbackground": true,
            "ticks": "",
            "zerolinecolor": "white"
           },
           "zaxis": {
            "backgroundcolor": "#E5ECF6",
            "gridcolor": "white",
            "gridwidth": 2,
            "linecolor": "white",
            "showbackground": true,
            "ticks": "",
            "zerolinecolor": "white"
           }
          },
          "shapedefaults": {
           "line": {
            "color": "#2a3f5f"
           }
          },
          "ternary": {
           "aaxis": {
            "gridcolor": "white",
            "linecolor": "white",
            "ticks": ""
           },
           "baxis": {
            "gridcolor": "white",
            "linecolor": "white",
            "ticks": ""
           },
           "bgcolor": "#E5ECF6",
           "caxis": {
            "gridcolor": "white",
            "linecolor": "white",
            "ticks": ""
           }
          },
          "title": {
           "x": 0.05
          },
          "xaxis": {
           "automargin": true,
           "gridcolor": "white",
           "linecolor": "white",
           "ticks": "",
           "title": {
            "standoff": 15
           },
           "zerolinecolor": "white",
           "zerolinewidth": 2
          },
          "yaxis": {
           "automargin": true,
           "gridcolor": "white",
           "linecolor": "white",
           "ticks": "",
           "title": {
            "standoff": 15
           },
           "zerolinecolor": "white",
           "zerolinewidth": 2
          }
         }
        },
        "xaxis": {
         "anchor": "y",
         "domain": [
          0,
          1
         ],
         "title": {
          "text": "district"
         }
        },
        "yaxis": {
         "anchor": "x",
         "domain": [
          0,
          1
         ],
         "title": {
          "text": "Visitors 2025"
         }
        }
       }
      }
     },
     "metadata": {},
     "output_type": "display_data"
    }
   ],
   "source": [
    "px.bar(\n",
    "    results_2,\n",
    "    x='district',\n",
    "    y='Visitors 2025'\n",
    ")"
   ]
  },
  {
   "cell_type": "code",
   "execution_count": 373,
   "metadata": {},
   "outputs": [
    {
     "data": {
      "text/html": [
       "<div>\n",
       "<style scoped>\n",
       "    .dataframe tbody tr th:only-of-type {\n",
       "        vertical-align: middle;\n",
       "    }\n",
       "\n",
       "    .dataframe tbody tr th {\n",
       "        vertical-align: top;\n",
       "    }\n",
       "\n",
       "    .dataframe thead th {\n",
       "        text-align: right;\n",
       "    }\n",
       "</style>\n",
       "<table border=\"1\" class=\"dataframe\">\n",
       "  <thead>\n",
       "    <tr style=\"text-align: right;\">\n",
       "      <th></th>\n",
       "      <th>visitors_x</th>\n",
       "      <th>visitors_y</th>\n",
       "      <th>Total</th>\n",
       "    </tr>\n",
       "    <tr>\n",
       "      <th>district</th>\n",
       "      <th></th>\n",
       "      <th></th>\n",
       "      <th></th>\n",
       "    </tr>\n",
       "  </thead>\n",
       "  <tbody>\n",
       "    <tr>\n",
       "      <th>Nirmal</th>\n",
       "      <td>13315796</td>\n",
       "      <td>2</td>\n",
       "      <td>13315798</td>\n",
       "    </tr>\n",
       "    <tr>\n",
       "      <th>Jangaon</th>\n",
       "      <td>826280</td>\n",
       "      <td>2</td>\n",
       "      <td>826282</td>\n",
       "    </tr>\n",
       "    <tr>\n",
       "      <th>Adilabad</th>\n",
       "      <td>7321575</td>\n",
       "      <td>32</td>\n",
       "      <td>7321607</td>\n",
       "    </tr>\n",
       "    <tr>\n",
       "      <th>Mancherial</th>\n",
       "      <td>867242</td>\n",
       "      <td>10</td>\n",
       "      <td>867252</td>\n",
       "    </tr>\n",
       "    <tr>\n",
       "      <th>Nizamabad</th>\n",
       "      <td>116147</td>\n",
       "      <td>5</td>\n",
       "      <td>116152</td>\n",
       "    </tr>\n",
       "    <tr>\n",
       "      <th>Jayashankar Bhoopalpally</th>\n",
       "      <td>19632865</td>\n",
       "      <td>1252</td>\n",
       "      <td>19634117</td>\n",
       "    </tr>\n",
       "    <tr>\n",
       "      <th>Nagarkurnool</th>\n",
       "      <td>7424355</td>\n",
       "      <td>761</td>\n",
       "      <td>7425116</td>\n",
       "    </tr>\n",
       "    <tr>\n",
       "      <th>Mahbubnagar</th>\n",
       "      <td>17180118</td>\n",
       "      <td>2282</td>\n",
       "      <td>17182400</td>\n",
       "    </tr>\n",
       "    <tr>\n",
       "      <th>Jogulamba Gadwal</th>\n",
       "      <td>6813340</td>\n",
       "      <td>945</td>\n",
       "      <td>6814285</td>\n",
       "    </tr>\n",
       "    <tr>\n",
       "      <th>Warangal (Urban)</th>\n",
       "      <td>30726603</td>\n",
       "      <td>8821</td>\n",
       "      <td>30735424</td>\n",
       "    </tr>\n",
       "    <tr>\n",
       "      <th>Mulugu</th>\n",
       "      <td>1819800</td>\n",
       "      <td>575</td>\n",
       "      <td>1820375</td>\n",
       "    </tr>\n",
       "    <tr>\n",
       "      <th>Warangal (Rural)</th>\n",
       "      <td>819162</td>\n",
       "      <td>306</td>\n",
       "      <td>819468</td>\n",
       "    </tr>\n",
       "    <tr>\n",
       "      <th>Hyderabad</th>\n",
       "      <td>83900960</td>\n",
       "      <td>1044898</td>\n",
       "      <td>84945858</td>\n",
       "    </tr>\n",
       "  </tbody>\n",
       "</table>\n",
       "</div>"
      ],
      "text/plain": [
       "                          visitors_x  visitors_y     Total\n",
       "district                                                  \n",
       "Nirmal                      13315796           2  13315798\n",
       "Jangaon                       826280           2    826282\n",
       "Adilabad                     7321575          32   7321607\n",
       "Mancherial                    867242          10    867252\n",
       "Nizamabad                     116147           5    116152\n",
       "Jayashankar Bhoopalpally    19632865        1252  19634117\n",
       "Nagarkurnool                 7424355         761   7425116\n",
       "Mahbubnagar                 17180118        2282  17182400\n",
       "Jogulamba Gadwal             6813340         945   6814285\n",
       "Warangal (Urban)            30726603        8821  30735424\n",
       "Mulugu                       1819800         575   1820375\n",
       "Warangal (Rural)              819162         306    819468\n",
       "Hyderabad                   83900960     1044898  84945858"
      ]
     },
     "execution_count": 373,
     "metadata": {},
     "output_type": "execute_result"
    }
   ],
   "source": [
    "tops"
   ]
  },
  {
   "cell_type": "code",
   "execution_count": null,
   "metadata": {},
   "outputs": [],
   "source": []
  }
 ],
 "metadata": {
  "kernelspec": {
   "display_name": "Python 3",
   "language": "python",
   "name": "python3"
  },
  "language_info": {
   "codemirror_mode": {
    "name": "ipython",
    "version": 3
   },
   "file_extension": ".py",
   "mimetype": "text/x-python",
   "name": "python",
   "nbconvert_exporter": "python",
   "pygments_lexer": "ipython3",
   "version": "3.11.3"
  }
 },
 "nbformat": 4,
 "nbformat_minor": 0
}
